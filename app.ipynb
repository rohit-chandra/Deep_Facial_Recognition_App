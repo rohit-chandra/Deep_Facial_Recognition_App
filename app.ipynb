{
 "cells": [
  {
   "cell_type": "markdown",
   "metadata": {},
   "source": [
    "# Import Dependencies"
   ]
  },
  {
   "cell_type": "code",
   "execution_count": 3,
   "metadata": {
    "ExecuteTime": {
     "end_time": "2022-09-11T15:50:15.069543Z",
     "start_time": "2022-09-11T15:50:06.925542Z"
    }
   },
   "outputs": [],
   "source": [
    "import cv2\n",
    "import os\n",
    "import random\n",
    "import numpy as np\n",
    "import matplotlib.pyplot as plt\n",
    "\n",
    "# tensorflow dependencies - Functional API\n",
    "import tensorflow as tf\n",
    "from tensorflow.python.keras.models import Model\n",
    "from tensorflow.python.keras.layers import Layer, Conv2D, Dense, MaxPooling2D, Input, Flatten\n",
    "from tensorflow.keras.metrics import Precision, Recall\n",
    "\n",
    "# Import uuid lib to generate unique image names\n",
    "import uuid\n",
    "\n",
    "# connect to webcam\n",
    "from tkinter import image_names\n"
   ]
  },
  {
   "cell_type": "code",
   "execution_count": 4,
   "metadata": {},
   "outputs": [
    {
     "name": "stdout",
     "output_type": "stream",
     "text": [
      "2.10.0\n",
      "2.10.1\n"
     ]
    }
   ],
   "source": [
    "import keras\n",
    "print(keras.__version__)\n",
    "print(tf.__version__)"
   ]
  },
  {
   "cell_type": "code",
   "execution_count": 5,
   "metadata": {},
   "outputs": [
    {
     "name": "stdout",
     "output_type": "stream",
     "text": [
      "\u001b[1;31mType:\u001b[0m        module\n",
      "\u001b[1;31mString form:\u001b[0m <module 'uuid' from 'c:\\\\Users\\\\Admin\\\\anaconda3\\\\envs\\\\nick_facial_recog\\\\lib\\\\uuid.py'>\n",
      "\u001b[1;31mFile:\u001b[0m        c:\\users\\admin\\anaconda3\\envs\\nick_facial_recog\\lib\\uuid.py\n",
      "\u001b[1;31mSource:\u001b[0m     \n",
      "\u001b[1;34mr\"\"\"UUID objects (universally unique identifiers) according to RFC 4122.\n",
      "\n",
      "This module provides immutable UUID objects (class UUID) and the functions\n",
      "uuid1(), uuid3(), uuid4(), uuid5() for generating version 1, 3, 4, and 5\n",
      "UUIDs as specified in RFC 4122.\n",
      "\n",
      "If all you want is a unique ID, you should probably call uuid1() or uuid4().\n",
      "Note that uuid1() may compromise privacy since it creates a UUID containing\n",
      "the computer's network address.  uuid4() creates a random UUID.\n",
      "\n",
      "Typical usage:\n",
      "\n",
      "    >>> import uuid\n",
      "\n",
      "    # make a UUID based on the host ID and current time\n",
      "    >>> uuid.uuid1()    # doctest: +SKIP\n",
      "    UUID('a8098c1a-f86e-11da-bd1a-00112444be1e')\n",
      "\n",
      "    # make a UUID using an MD5 hash of a namespace UUID and a name\n",
      "    >>> uuid.uuid3(uuid.NAMESPACE_DNS, 'python.org')\n",
      "    UUID('6fa459ea-ee8a-3ca4-894e-db77e160355e')\n",
      "\n",
      "    # make a random UUID\n",
      "    >>> uuid.uuid4()    # doctest: +SKIP\n",
      "    UUID('16fd2706-8baf-433b-82eb-8c7fada847da')\n",
      "\n",
      "    # make a UUID using a SHA-1 hash of a namespace UUID and a name\n",
      "    >>> uuid.uuid5(uuid.NAMESPACE_DNS, 'python.org')\n",
      "    UUID('886313e1-3b8a-5372-9b90-0c9aee199e5d')\n",
      "\n",
      "    # make a UUID from a string of hex digits (braces and hyphens ignored)\n",
      "    >>> x = uuid.UUID('{00010203-0405-0607-0809-0a0b0c0d0e0f}')\n",
      "\n",
      "    # convert a UUID to a string of hex digits in standard form\n",
      "    >>> str(x)\n",
      "    '00010203-0405-0607-0809-0a0b0c0d0e0f'\n",
      "\n",
      "    # get the raw 16 bytes of the UUID\n",
      "    >>> x.bytes\n",
      "    b'\\x00\\x01\\x02\\x03\\x04\\x05\\x06\\x07\\x08\\t\\n\\x0b\\x0c\\r\\x0e\\x0f'\n",
      "\n",
      "    # make a UUID from a 16-byte string\n",
      "    >>> uuid.UUID(bytes=x.bytes)\n",
      "    UUID('00010203-0405-0607-0809-0a0b0c0d0e0f')\n",
      "\"\"\"\u001b[0m\u001b[1;33m\n",
      "\u001b[0m\u001b[1;33m\n",
      "\u001b[0m\u001b[1;32mimport\u001b[0m \u001b[0mos\u001b[0m\u001b[1;33m\n",
      "\u001b[0m\u001b[1;32mimport\u001b[0m \u001b[0msys\u001b[0m\u001b[1;33m\n",
      "\u001b[0m\u001b[1;33m\n",
      "\u001b[0m\u001b[1;32mfrom\u001b[0m \u001b[0menum\u001b[0m \u001b[1;32mimport\u001b[0m \u001b[0mEnum\u001b[0m\u001b[1;33m\n",
      "\u001b[0m\u001b[1;33m\n",
      "\u001b[0m\u001b[1;33m\n",
      "\u001b[0m\u001b[0m__author__\u001b[0m \u001b[1;33m=\u001b[0m \u001b[1;34m'Ka-Ping Yee <ping@zesty.ca>'\u001b[0m\u001b[1;33m\n",
      "\u001b[0m\u001b[1;33m\n",
      "\u001b[0m\u001b[1;31m# The recognized platforms - known behaviors\u001b[0m\u001b[1;33m\n",
      "\u001b[0m\u001b[1;32mif\u001b[0m \u001b[0msys\u001b[0m\u001b[1;33m.\u001b[0m\u001b[0mplatform\u001b[0m \u001b[1;32min\u001b[0m \u001b[1;33m(\u001b[0m\u001b[1;34m'win32'\u001b[0m\u001b[1;33m,\u001b[0m \u001b[1;34m'darwin'\u001b[0m\u001b[1;33m)\u001b[0m\u001b[1;33m:\u001b[0m\u001b[1;33m\n",
      "\u001b[0m    \u001b[0m_AIX\u001b[0m \u001b[1;33m=\u001b[0m \u001b[0m_LINUX\u001b[0m \u001b[1;33m=\u001b[0m \u001b[1;32mFalse\u001b[0m\u001b[1;33m\n",
      "\u001b[0m\u001b[1;32melse\u001b[0m\u001b[1;33m:\u001b[0m\u001b[1;33m\n",
      "\u001b[0m    \u001b[1;32mimport\u001b[0m \u001b[0mplatform\u001b[0m\u001b[1;33m\n",
      "\u001b[0m    \u001b[0m_platform_system\u001b[0m \u001b[1;33m=\u001b[0m \u001b[0mplatform\u001b[0m\u001b[1;33m.\u001b[0m\u001b[0msystem\u001b[0m\u001b[1;33m(\u001b[0m\u001b[1;33m)\u001b[0m\u001b[1;33m\n",
      "\u001b[0m    \u001b[0m_AIX\u001b[0m     \u001b[1;33m=\u001b[0m \u001b[0m_platform_system\u001b[0m \u001b[1;33m==\u001b[0m \u001b[1;34m'AIX'\u001b[0m\u001b[1;33m\n",
      "\u001b[0m    \u001b[0m_LINUX\u001b[0m   \u001b[1;33m=\u001b[0m \u001b[0m_platform_system\u001b[0m \u001b[1;33m==\u001b[0m \u001b[1;34m'Linux'\u001b[0m\u001b[1;33m\n",
      "\u001b[0m\u001b[1;33m\n",
      "\u001b[0m\u001b[0m_MAC_DELIM\u001b[0m \u001b[1;33m=\u001b[0m \u001b[1;34mb':'\u001b[0m\u001b[1;33m\n",
      "\u001b[0m\u001b[0m_MAC_OMITS_LEADING_ZEROES\u001b[0m \u001b[1;33m=\u001b[0m \u001b[1;32mFalse\u001b[0m\u001b[1;33m\n",
      "\u001b[0m\u001b[1;32mif\u001b[0m \u001b[0m_AIX\u001b[0m\u001b[1;33m:\u001b[0m\u001b[1;33m\n",
      "\u001b[0m    \u001b[0m_MAC_DELIM\u001b[0m \u001b[1;33m=\u001b[0m \u001b[1;34mb'.'\u001b[0m\u001b[1;33m\n",
      "\u001b[0m    \u001b[0m_MAC_OMITS_LEADING_ZEROES\u001b[0m \u001b[1;33m=\u001b[0m \u001b[1;32mTrue\u001b[0m\u001b[1;33m\n",
      "\u001b[0m\u001b[1;33m\n",
      "\u001b[0m\u001b[0mRESERVED_NCS\u001b[0m\u001b[1;33m,\u001b[0m \u001b[0mRFC_4122\u001b[0m\u001b[1;33m,\u001b[0m \u001b[0mRESERVED_MICROSOFT\u001b[0m\u001b[1;33m,\u001b[0m \u001b[0mRESERVED_FUTURE\u001b[0m \u001b[1;33m=\u001b[0m \u001b[1;33m[\u001b[0m\u001b[1;33m\n",
      "\u001b[0m    \u001b[1;34m'reserved for NCS compatibility'\u001b[0m\u001b[1;33m,\u001b[0m \u001b[1;34m'specified in RFC 4122'\u001b[0m\u001b[1;33m,\u001b[0m\u001b[1;33m\n",
      "\u001b[0m    \u001b[1;34m'reserved for Microsoft compatibility'\u001b[0m\u001b[1;33m,\u001b[0m \u001b[1;34m'reserved for future definition'\u001b[0m\u001b[1;33m]\u001b[0m\u001b[1;33m\n",
      "\u001b[0m\u001b[1;33m\n",
      "\u001b[0m\u001b[0mint_\u001b[0m \u001b[1;33m=\u001b[0m \u001b[0mint\u001b[0m      \u001b[1;31m# The built-in int type\u001b[0m\u001b[1;33m\n",
      "\u001b[0m\u001b[0mbytes_\u001b[0m \u001b[1;33m=\u001b[0m \u001b[0mbytes\u001b[0m  \u001b[1;31m# The built-in bytes type\u001b[0m\u001b[1;33m\n",
      "\u001b[0m\u001b[1;33m\n",
      "\u001b[0m\u001b[1;33m\n",
      "\u001b[0m\u001b[1;32mclass\u001b[0m \u001b[0mSafeUUID\u001b[0m\u001b[1;33m(\u001b[0m\u001b[0mEnum\u001b[0m\u001b[1;33m)\u001b[0m\u001b[1;33m:\u001b[0m\u001b[1;33m\n",
      "\u001b[0m    \u001b[0msafe\u001b[0m \u001b[1;33m=\u001b[0m \u001b[1;36m0\u001b[0m\u001b[1;33m\n",
      "\u001b[0m    \u001b[0munsafe\u001b[0m \u001b[1;33m=\u001b[0m \u001b[1;33m-\u001b[0m\u001b[1;36m1\u001b[0m\u001b[1;33m\n",
      "\u001b[0m    \u001b[0munknown\u001b[0m \u001b[1;33m=\u001b[0m \u001b[1;32mNone\u001b[0m\u001b[1;33m\n",
      "\u001b[0m\u001b[1;33m\n",
      "\u001b[0m\u001b[1;33m\n",
      "\u001b[0m\u001b[1;32mclass\u001b[0m \u001b[0mUUID\u001b[0m\u001b[1;33m:\u001b[0m\u001b[1;33m\n",
      "\u001b[0m    \u001b[1;34m\"\"\"Instances of the UUID class represent UUIDs as specified in RFC 4122.\n",
      "    UUID objects are immutable, hashable, and usable as dictionary keys.\n",
      "    Converting a UUID to a string with str() yields something in the form\n",
      "    '12345678-1234-1234-1234-123456789abc'.  The UUID constructor accepts\n",
      "    five possible forms: a similar string of hexadecimal digits, or a tuple\n",
      "    of six integer fields (with 32-bit, 16-bit, 16-bit, 8-bit, 8-bit, and\n",
      "    48-bit values respectively) as an argument named 'fields', or a string\n",
      "    of 16 bytes (with all the integer fields in big-endian order) as an\n",
      "    argument named 'bytes', or a string of 16 bytes (with the first three\n",
      "    fields in little-endian order) as an argument named 'bytes_le', or a\n",
      "    single 128-bit integer as an argument named 'int'.\n",
      "\n",
      "    UUIDs have these read-only attributes:\n",
      "\n",
      "        bytes       the UUID as a 16-byte string (containing the six\n",
      "                    integer fields in big-endian byte order)\n",
      "\n",
      "        bytes_le    the UUID as a 16-byte string (with time_low, time_mid,\n",
      "                    and time_hi_version in little-endian byte order)\n",
      "\n",
      "        fields      a tuple of the six integer fields of the UUID,\n",
      "                    which are also available as six individual attributes\n",
      "                    and two derived attributes:\n",
      "\n",
      "            time_low                the first 32 bits of the UUID\n",
      "            time_mid                the next 16 bits of the UUID\n",
      "            time_hi_version         the next 16 bits of the UUID\n",
      "            clock_seq_hi_variant    the next 8 bits of the UUID\n",
      "            clock_seq_low           the next 8 bits of the UUID\n",
      "            node                    the last 48 bits of the UUID\n",
      "\n",
      "            time                    the 60-bit timestamp\n",
      "            clock_seq               the 14-bit sequence number\n",
      "\n",
      "        hex         the UUID as a 32-character hexadecimal string\n",
      "\n",
      "        int         the UUID as a 128-bit integer\n",
      "\n",
      "        urn         the UUID as a URN as specified in RFC 4122\n",
      "\n",
      "        variant     the UUID variant (one of the constants RESERVED_NCS,\n",
      "                    RFC_4122, RESERVED_MICROSOFT, or RESERVED_FUTURE)\n",
      "\n",
      "        version     the UUID version number (1 through 5, meaningful only\n",
      "                    when the variant is RFC_4122)\n",
      "\n",
      "        is_safe     An enum indicating whether the UUID has been generated in\n",
      "                    a way that is safe for multiprocessing applications, via\n",
      "                    uuid_generate_time_safe(3).\n",
      "    \"\"\"\u001b[0m\u001b[1;33m\n",
      "\u001b[0m\u001b[1;33m\n",
      "\u001b[0m    \u001b[0m__slots__\u001b[0m \u001b[1;33m=\u001b[0m \u001b[1;33m(\u001b[0m\u001b[1;34m'int'\u001b[0m\u001b[1;33m,\u001b[0m \u001b[1;34m'is_safe'\u001b[0m\u001b[1;33m,\u001b[0m \u001b[1;34m'__weakref__'\u001b[0m\u001b[1;33m)\u001b[0m\u001b[1;33m\n",
      "\u001b[0m\u001b[1;33m\n",
      "\u001b[0m    \u001b[1;32mdef\u001b[0m \u001b[0m__init__\u001b[0m\u001b[1;33m(\u001b[0m\u001b[0mself\u001b[0m\u001b[1;33m,\u001b[0m \u001b[0mhex\u001b[0m\u001b[1;33m=\u001b[0m\u001b[1;32mNone\u001b[0m\u001b[1;33m,\u001b[0m \u001b[0mbytes\u001b[0m\u001b[1;33m=\u001b[0m\u001b[1;32mNone\u001b[0m\u001b[1;33m,\u001b[0m \u001b[0mbytes_le\u001b[0m\u001b[1;33m=\u001b[0m\u001b[1;32mNone\u001b[0m\u001b[1;33m,\u001b[0m \u001b[0mfields\u001b[0m\u001b[1;33m=\u001b[0m\u001b[1;32mNone\u001b[0m\u001b[1;33m,\u001b[0m\u001b[1;33m\n",
      "\u001b[0m                       \u001b[0mint\u001b[0m\u001b[1;33m=\u001b[0m\u001b[1;32mNone\u001b[0m\u001b[1;33m,\u001b[0m \u001b[0mversion\u001b[0m\u001b[1;33m=\u001b[0m\u001b[1;32mNone\u001b[0m\u001b[1;33m,\u001b[0m\u001b[1;33m\n",
      "\u001b[0m                       \u001b[1;33m*\u001b[0m\u001b[1;33m,\u001b[0m \u001b[0mis_safe\u001b[0m\u001b[1;33m=\u001b[0m\u001b[0mSafeUUID\u001b[0m\u001b[1;33m.\u001b[0m\u001b[0munknown\u001b[0m\u001b[1;33m)\u001b[0m\u001b[1;33m:\u001b[0m\u001b[1;33m\n",
      "\u001b[0m        \u001b[1;34mr\"\"\"Create a UUID from either a string of 32 hexadecimal digits,\n",
      "        a string of 16 bytes as the 'bytes' argument, a string of 16 bytes\n",
      "        in little-endian order as the 'bytes_le' argument, a tuple of six\n",
      "        integers (32-bit time_low, 16-bit time_mid, 16-bit time_hi_version,\n",
      "        8-bit clock_seq_hi_variant, 8-bit clock_seq_low, 48-bit node) as\n",
      "        the 'fields' argument, or a single 128-bit integer as the 'int'\n",
      "        argument.  When a string of hex digits is given, curly braces,\n",
      "        hyphens, and a URN prefix are all optional.  For example, these\n",
      "        expressions all yield the same UUID:\n",
      "\n",
      "        UUID('{12345678-1234-5678-1234-567812345678}')\n",
      "        UUID('12345678123456781234567812345678')\n",
      "        UUID('urn:uuid:12345678-1234-5678-1234-567812345678')\n",
      "        UUID(bytes='\\x12\\x34\\x56\\x78'*4)\n",
      "        UUID(bytes_le='\\x78\\x56\\x34\\x12\\x34\\x12\\x78\\x56' +\n",
      "                      '\\x12\\x34\\x56\\x78\\x12\\x34\\x56\\x78')\n",
      "        UUID(fields=(0x12345678, 0x1234, 0x5678, 0x12, 0x34, 0x567812345678))\n",
      "        UUID(int=0x12345678123456781234567812345678)\n",
      "\n",
      "        Exactly one of 'hex', 'bytes', 'bytes_le', 'fields', or 'int' must\n",
      "        be given.  The 'version' argument is optional; if given, the resulting\n",
      "        UUID will have its variant and version set according to RFC 4122,\n",
      "        overriding the given 'hex', 'bytes', 'bytes_le', 'fields', or 'int'.\n",
      "\n",
      "        is_safe is an enum exposed as an attribute on the instance.  It\n",
      "        indicates whether the UUID has been generated in a way that is safe\n",
      "        for multiprocessing applications, via uuid_generate_time_safe(3).\n",
      "        \"\"\"\u001b[0m\u001b[1;33m\n",
      "\u001b[0m\u001b[1;33m\n",
      "\u001b[0m        \u001b[1;32mif\u001b[0m \u001b[1;33m[\u001b[0m\u001b[0mhex\u001b[0m\u001b[1;33m,\u001b[0m \u001b[0mbytes\u001b[0m\u001b[1;33m,\u001b[0m \u001b[0mbytes_le\u001b[0m\u001b[1;33m,\u001b[0m \u001b[0mfields\u001b[0m\u001b[1;33m,\u001b[0m \u001b[0mint\u001b[0m\u001b[1;33m]\u001b[0m\u001b[1;33m.\u001b[0m\u001b[0mcount\u001b[0m\u001b[1;33m(\u001b[0m\u001b[1;32mNone\u001b[0m\u001b[1;33m)\u001b[0m \u001b[1;33m!=\u001b[0m \u001b[1;36m4\u001b[0m\u001b[1;33m:\u001b[0m\u001b[1;33m\n",
      "\u001b[0m            \u001b[1;32mraise\u001b[0m \u001b[0mTypeError\u001b[0m\u001b[1;33m(\u001b[0m\u001b[1;34m'one of the hex, bytes, bytes_le, fields, '\u001b[0m\u001b[1;33m\n",
      "\u001b[0m                            \u001b[1;34m'or int arguments must be given'\u001b[0m\u001b[1;33m)\u001b[0m\u001b[1;33m\n",
      "\u001b[0m        \u001b[1;32mif\u001b[0m \u001b[0mhex\u001b[0m \u001b[1;32mis\u001b[0m \u001b[1;32mnot\u001b[0m \u001b[1;32mNone\u001b[0m\u001b[1;33m:\u001b[0m\u001b[1;33m\n",
      "\u001b[0m            \u001b[0mhex\u001b[0m \u001b[1;33m=\u001b[0m \u001b[0mhex\u001b[0m\u001b[1;33m.\u001b[0m\u001b[0mreplace\u001b[0m\u001b[1;33m(\u001b[0m\u001b[1;34m'urn:'\u001b[0m\u001b[1;33m,\u001b[0m \u001b[1;34m''\u001b[0m\u001b[1;33m)\u001b[0m\u001b[1;33m.\u001b[0m\u001b[0mreplace\u001b[0m\u001b[1;33m(\u001b[0m\u001b[1;34m'uuid:'\u001b[0m\u001b[1;33m,\u001b[0m \u001b[1;34m''\u001b[0m\u001b[1;33m)\u001b[0m\u001b[1;33m\n",
      "\u001b[0m            \u001b[0mhex\u001b[0m \u001b[1;33m=\u001b[0m \u001b[0mhex\u001b[0m\u001b[1;33m.\u001b[0m\u001b[0mstrip\u001b[0m\u001b[1;33m(\u001b[0m\u001b[1;34m'{}'\u001b[0m\u001b[1;33m)\u001b[0m\u001b[1;33m.\u001b[0m\u001b[0mreplace\u001b[0m\u001b[1;33m(\u001b[0m\u001b[1;34m'-'\u001b[0m\u001b[1;33m,\u001b[0m \u001b[1;34m''\u001b[0m\u001b[1;33m)\u001b[0m\u001b[1;33m\n",
      "\u001b[0m            \u001b[1;32mif\u001b[0m \u001b[0mlen\u001b[0m\u001b[1;33m(\u001b[0m\u001b[0mhex\u001b[0m\u001b[1;33m)\u001b[0m \u001b[1;33m!=\u001b[0m \u001b[1;36m32\u001b[0m\u001b[1;33m:\u001b[0m\u001b[1;33m\n",
      "\u001b[0m                \u001b[1;32mraise\u001b[0m \u001b[0mValueError\u001b[0m\u001b[1;33m(\u001b[0m\u001b[1;34m'badly formed hexadecimal UUID string'\u001b[0m\u001b[1;33m)\u001b[0m\u001b[1;33m\n",
      "\u001b[0m            \u001b[0mint\u001b[0m \u001b[1;33m=\u001b[0m \u001b[0mint_\u001b[0m\u001b[1;33m(\u001b[0m\u001b[0mhex\u001b[0m\u001b[1;33m,\u001b[0m \u001b[1;36m16\u001b[0m\u001b[1;33m)\u001b[0m\u001b[1;33m\n",
      "\u001b[0m        \u001b[1;32mif\u001b[0m \u001b[0mbytes_le\u001b[0m \u001b[1;32mis\u001b[0m \u001b[1;32mnot\u001b[0m \u001b[1;32mNone\u001b[0m\u001b[1;33m:\u001b[0m\u001b[1;33m\n",
      "\u001b[0m            \u001b[1;32mif\u001b[0m \u001b[0mlen\u001b[0m\u001b[1;33m(\u001b[0m\u001b[0mbytes_le\u001b[0m\u001b[1;33m)\u001b[0m \u001b[1;33m!=\u001b[0m \u001b[1;36m16\u001b[0m\u001b[1;33m:\u001b[0m\u001b[1;33m\n",
      "\u001b[0m                \u001b[1;32mraise\u001b[0m \u001b[0mValueError\u001b[0m\u001b[1;33m(\u001b[0m\u001b[1;34m'bytes_le is not a 16-char string'\u001b[0m\u001b[1;33m)\u001b[0m\u001b[1;33m\n",
      "\u001b[0m            \u001b[0mbytes\u001b[0m \u001b[1;33m=\u001b[0m \u001b[1;33m(\u001b[0m\u001b[0mbytes_le\u001b[0m\u001b[1;33m[\u001b[0m\u001b[1;36m4\u001b[0m\u001b[1;33m-\u001b[0m\u001b[1;36m1\u001b[0m\u001b[1;33m:\u001b[0m\u001b[1;33m:\u001b[0m\u001b[1;33m-\u001b[0m\u001b[1;36m1\u001b[0m\u001b[1;33m]\u001b[0m \u001b[1;33m+\u001b[0m \u001b[0mbytes_le\u001b[0m\u001b[1;33m[\u001b[0m\u001b[1;36m6\u001b[0m\u001b[1;33m-\u001b[0m\u001b[1;36m1\u001b[0m\u001b[1;33m:\u001b[0m\u001b[1;36m4\u001b[0m\u001b[1;33m-\u001b[0m\u001b[1;36m1\u001b[0m\u001b[1;33m:\u001b[0m\u001b[1;33m-\u001b[0m\u001b[1;36m1\u001b[0m\u001b[1;33m]\u001b[0m \u001b[1;33m+\u001b[0m\u001b[1;33m\n",
      "\u001b[0m                     \u001b[0mbytes_le\u001b[0m\u001b[1;33m[\u001b[0m\u001b[1;36m8\u001b[0m\u001b[1;33m-\u001b[0m\u001b[1;36m1\u001b[0m\u001b[1;33m:\u001b[0m\u001b[1;36m6\u001b[0m\u001b[1;33m-\u001b[0m\u001b[1;36m1\u001b[0m\u001b[1;33m:\u001b[0m\u001b[1;33m-\u001b[0m\u001b[1;36m1\u001b[0m\u001b[1;33m]\u001b[0m \u001b[1;33m+\u001b[0m \u001b[0mbytes_le\u001b[0m\u001b[1;33m[\u001b[0m\u001b[1;36m8\u001b[0m\u001b[1;33m:\u001b[0m\u001b[1;33m]\u001b[0m\u001b[1;33m)\u001b[0m\u001b[1;33m\n",
      "\u001b[0m        \u001b[1;32mif\u001b[0m \u001b[0mbytes\u001b[0m \u001b[1;32mis\u001b[0m \u001b[1;32mnot\u001b[0m \u001b[1;32mNone\u001b[0m\u001b[1;33m:\u001b[0m\u001b[1;33m\n",
      "\u001b[0m            \u001b[1;32mif\u001b[0m \u001b[0mlen\u001b[0m\u001b[1;33m(\u001b[0m\u001b[0mbytes\u001b[0m\u001b[1;33m)\u001b[0m \u001b[1;33m!=\u001b[0m \u001b[1;36m16\u001b[0m\u001b[1;33m:\u001b[0m\u001b[1;33m\n",
      "\u001b[0m                \u001b[1;32mraise\u001b[0m \u001b[0mValueError\u001b[0m\u001b[1;33m(\u001b[0m\u001b[1;34m'bytes is not a 16-char string'\u001b[0m\u001b[1;33m)\u001b[0m\u001b[1;33m\n",
      "\u001b[0m            \u001b[1;32massert\u001b[0m \u001b[0misinstance\u001b[0m\u001b[1;33m(\u001b[0m\u001b[0mbytes\u001b[0m\u001b[1;33m,\u001b[0m \u001b[0mbytes_\u001b[0m\u001b[1;33m)\u001b[0m\u001b[1;33m,\u001b[0m \u001b[0mrepr\u001b[0m\u001b[1;33m(\u001b[0m\u001b[0mbytes\u001b[0m\u001b[1;33m)\u001b[0m\u001b[1;33m\n",
      "\u001b[0m            \u001b[0mint\u001b[0m \u001b[1;33m=\u001b[0m \u001b[0mint_\u001b[0m\u001b[1;33m.\u001b[0m\u001b[0mfrom_bytes\u001b[0m\u001b[1;33m(\u001b[0m\u001b[0mbytes\u001b[0m\u001b[1;33m,\u001b[0m \u001b[0mbyteorder\u001b[0m\u001b[1;33m=\u001b[0m\u001b[1;34m'big'\u001b[0m\u001b[1;33m)\u001b[0m\u001b[1;33m\n",
      "\u001b[0m        \u001b[1;32mif\u001b[0m \u001b[0mfields\u001b[0m \u001b[1;32mis\u001b[0m \u001b[1;32mnot\u001b[0m \u001b[1;32mNone\u001b[0m\u001b[1;33m:\u001b[0m\u001b[1;33m\n",
      "\u001b[0m            \u001b[1;32mif\u001b[0m \u001b[0mlen\u001b[0m\u001b[1;33m(\u001b[0m\u001b[0mfields\u001b[0m\u001b[1;33m)\u001b[0m \u001b[1;33m!=\u001b[0m \u001b[1;36m6\u001b[0m\u001b[1;33m:\u001b[0m\u001b[1;33m\n",
      "\u001b[0m                \u001b[1;32mraise\u001b[0m \u001b[0mValueError\u001b[0m\u001b[1;33m(\u001b[0m\u001b[1;34m'fields is not a 6-tuple'\u001b[0m\u001b[1;33m)\u001b[0m\u001b[1;33m\n",
      "\u001b[0m            \u001b[1;33m(\u001b[0m\u001b[0mtime_low\u001b[0m\u001b[1;33m,\u001b[0m \u001b[0mtime_mid\u001b[0m\u001b[1;33m,\u001b[0m \u001b[0mtime_hi_version\u001b[0m\u001b[1;33m,\u001b[0m\u001b[1;33m\n",
      "\u001b[0m             \u001b[0mclock_seq_hi_variant\u001b[0m\u001b[1;33m,\u001b[0m \u001b[0mclock_seq_low\u001b[0m\u001b[1;33m,\u001b[0m \u001b[0mnode\u001b[0m\u001b[1;33m)\u001b[0m \u001b[1;33m=\u001b[0m \u001b[0mfields\u001b[0m\u001b[1;33m\n",
      "\u001b[0m            \u001b[1;32mif\u001b[0m \u001b[1;32mnot\u001b[0m \u001b[1;36m0\u001b[0m \u001b[1;33m<=\u001b[0m \u001b[0mtime_low\u001b[0m \u001b[1;33m<\u001b[0m \u001b[1;36m1\u001b[0m\u001b[1;33m<<\u001b[0m\u001b[1;36m32\u001b[0m\u001b[1;33m:\u001b[0m\u001b[1;33m\n",
      "\u001b[0m                \u001b[1;32mraise\u001b[0m \u001b[0mValueError\u001b[0m\u001b[1;33m(\u001b[0m\u001b[1;34m'field 1 out of range (need a 32-bit value)'\u001b[0m\u001b[1;33m)\u001b[0m\u001b[1;33m\n",
      "\u001b[0m            \u001b[1;32mif\u001b[0m \u001b[1;32mnot\u001b[0m \u001b[1;36m0\u001b[0m \u001b[1;33m<=\u001b[0m \u001b[0mtime_mid\u001b[0m \u001b[1;33m<\u001b[0m \u001b[1;36m1\u001b[0m\u001b[1;33m<<\u001b[0m\u001b[1;36m16\u001b[0m\u001b[1;33m:\u001b[0m\u001b[1;33m\n",
      "\u001b[0m                \u001b[1;32mraise\u001b[0m \u001b[0mValueError\u001b[0m\u001b[1;33m(\u001b[0m\u001b[1;34m'field 2 out of range (need a 16-bit value)'\u001b[0m\u001b[1;33m)\u001b[0m\u001b[1;33m\n",
      "\u001b[0m            \u001b[1;32mif\u001b[0m \u001b[1;32mnot\u001b[0m \u001b[1;36m0\u001b[0m \u001b[1;33m<=\u001b[0m \u001b[0mtime_hi_version\u001b[0m \u001b[1;33m<\u001b[0m \u001b[1;36m1\u001b[0m\u001b[1;33m<<\u001b[0m\u001b[1;36m16\u001b[0m\u001b[1;33m:\u001b[0m\u001b[1;33m\n",
      "\u001b[0m                \u001b[1;32mraise\u001b[0m \u001b[0mValueError\u001b[0m\u001b[1;33m(\u001b[0m\u001b[1;34m'field 3 out of range (need a 16-bit value)'\u001b[0m\u001b[1;33m)\u001b[0m\u001b[1;33m\n",
      "\u001b[0m            \u001b[1;32mif\u001b[0m \u001b[1;32mnot\u001b[0m \u001b[1;36m0\u001b[0m \u001b[1;33m<=\u001b[0m \u001b[0mclock_seq_hi_variant\u001b[0m \u001b[1;33m<\u001b[0m \u001b[1;36m1\u001b[0m\u001b[1;33m<<\u001b[0m\u001b[1;36m8\u001b[0m\u001b[1;33m:\u001b[0m\u001b[1;33m\n",
      "\u001b[0m                \u001b[1;32mraise\u001b[0m \u001b[0mValueError\u001b[0m\u001b[1;33m(\u001b[0m\u001b[1;34m'field 4 out of range (need an 8-bit value)'\u001b[0m\u001b[1;33m)\u001b[0m\u001b[1;33m\n",
      "\u001b[0m            \u001b[1;32mif\u001b[0m \u001b[1;32mnot\u001b[0m \u001b[1;36m0\u001b[0m \u001b[1;33m<=\u001b[0m \u001b[0mclock_seq_low\u001b[0m \u001b[1;33m<\u001b[0m \u001b[1;36m1\u001b[0m\u001b[1;33m<<\u001b[0m\u001b[1;36m8\u001b[0m\u001b[1;33m:\u001b[0m\u001b[1;33m\n",
      "\u001b[0m                \u001b[1;32mraise\u001b[0m \u001b[0mValueError\u001b[0m\u001b[1;33m(\u001b[0m\u001b[1;34m'field 5 out of range (need an 8-bit value)'\u001b[0m\u001b[1;33m)\u001b[0m\u001b[1;33m\n",
      "\u001b[0m            \u001b[1;32mif\u001b[0m \u001b[1;32mnot\u001b[0m \u001b[1;36m0\u001b[0m \u001b[1;33m<=\u001b[0m \u001b[0mnode\u001b[0m \u001b[1;33m<\u001b[0m \u001b[1;36m1\u001b[0m\u001b[1;33m<<\u001b[0m\u001b[1;36m48\u001b[0m\u001b[1;33m:\u001b[0m\u001b[1;33m\n",
      "\u001b[0m                \u001b[1;32mraise\u001b[0m \u001b[0mValueError\u001b[0m\u001b[1;33m(\u001b[0m\u001b[1;34m'field 6 out of range (need a 48-bit value)'\u001b[0m\u001b[1;33m)\u001b[0m\u001b[1;33m\n",
      "\u001b[0m            \u001b[0mclock_seq\u001b[0m \u001b[1;33m=\u001b[0m \u001b[1;33m(\u001b[0m\u001b[0mclock_seq_hi_variant\u001b[0m \u001b[1;33m<<\u001b[0m \u001b[1;36m8\u001b[0m\u001b[1;33m)\u001b[0m \u001b[1;33m|\u001b[0m \u001b[0mclock_seq_low\u001b[0m\u001b[1;33m\n",
      "\u001b[0m            \u001b[0mint\u001b[0m \u001b[1;33m=\u001b[0m \u001b[1;33m(\u001b[0m\u001b[1;33m(\u001b[0m\u001b[0mtime_low\u001b[0m \u001b[1;33m<<\u001b[0m \u001b[1;36m96\u001b[0m\u001b[1;33m)\u001b[0m \u001b[1;33m|\u001b[0m \u001b[1;33m(\u001b[0m\u001b[0mtime_mid\u001b[0m \u001b[1;33m<<\u001b[0m \u001b[1;36m80\u001b[0m\u001b[1;33m)\u001b[0m \u001b[1;33m|\u001b[0m\u001b[1;33m\n",
      "\u001b[0m                   \u001b[1;33m(\u001b[0m\u001b[0mtime_hi_version\u001b[0m \u001b[1;33m<<\u001b[0m \u001b[1;36m64\u001b[0m\u001b[1;33m)\u001b[0m \u001b[1;33m|\u001b[0m \u001b[1;33m(\u001b[0m\u001b[0mclock_seq\u001b[0m \u001b[1;33m<<\u001b[0m \u001b[1;36m48\u001b[0m\u001b[1;33m)\u001b[0m \u001b[1;33m|\u001b[0m \u001b[0mnode\u001b[0m\u001b[1;33m)\u001b[0m\u001b[1;33m\n",
      "\u001b[0m        \u001b[1;32mif\u001b[0m \u001b[0mint\u001b[0m \u001b[1;32mis\u001b[0m \u001b[1;32mnot\u001b[0m \u001b[1;32mNone\u001b[0m\u001b[1;33m:\u001b[0m\u001b[1;33m\n",
      "\u001b[0m            \u001b[1;32mif\u001b[0m \u001b[1;32mnot\u001b[0m \u001b[1;36m0\u001b[0m \u001b[1;33m<=\u001b[0m \u001b[0mint\u001b[0m \u001b[1;33m<\u001b[0m \u001b[1;36m1\u001b[0m\u001b[1;33m<<\u001b[0m\u001b[1;36m128\u001b[0m\u001b[1;33m:\u001b[0m\u001b[1;33m\n",
      "\u001b[0m                \u001b[1;32mraise\u001b[0m \u001b[0mValueError\u001b[0m\u001b[1;33m(\u001b[0m\u001b[1;34m'int is out of range (need a 128-bit value)'\u001b[0m\u001b[1;33m)\u001b[0m\u001b[1;33m\n",
      "\u001b[0m        \u001b[1;32mif\u001b[0m \u001b[0mversion\u001b[0m \u001b[1;32mis\u001b[0m \u001b[1;32mnot\u001b[0m \u001b[1;32mNone\u001b[0m\u001b[1;33m:\u001b[0m\u001b[1;33m\n",
      "\u001b[0m            \u001b[1;32mif\u001b[0m \u001b[1;32mnot\u001b[0m \u001b[1;36m1\u001b[0m \u001b[1;33m<=\u001b[0m \u001b[0mversion\u001b[0m \u001b[1;33m<=\u001b[0m \u001b[1;36m5\u001b[0m\u001b[1;33m:\u001b[0m\u001b[1;33m\n",
      "\u001b[0m                \u001b[1;32mraise\u001b[0m \u001b[0mValueError\u001b[0m\u001b[1;33m(\u001b[0m\u001b[1;34m'illegal version number'\u001b[0m\u001b[1;33m)\u001b[0m\u001b[1;33m\n",
      "\u001b[0m            \u001b[1;31m# Set the variant to RFC 4122.\u001b[0m\u001b[1;33m\n",
      "\u001b[0m            \u001b[0mint\u001b[0m \u001b[1;33m&=\u001b[0m \u001b[1;33m~\u001b[0m\u001b[1;33m(\u001b[0m\u001b[1;36m0xc000\u001b[0m \u001b[1;33m<<\u001b[0m \u001b[1;36m48\u001b[0m\u001b[1;33m)\u001b[0m\u001b[1;33m\n",
      "\u001b[0m            \u001b[0mint\u001b[0m \u001b[1;33m|=\u001b[0m \u001b[1;36m0x8000\u001b[0m \u001b[1;33m<<\u001b[0m \u001b[1;36m48\u001b[0m\u001b[1;33m\n",
      "\u001b[0m            \u001b[1;31m# Set the version number.\u001b[0m\u001b[1;33m\n",
      "\u001b[0m            \u001b[0mint\u001b[0m \u001b[1;33m&=\u001b[0m \u001b[1;33m~\u001b[0m\u001b[1;33m(\u001b[0m\u001b[1;36m0xf000\u001b[0m \u001b[1;33m<<\u001b[0m \u001b[1;36m64\u001b[0m\u001b[1;33m)\u001b[0m\u001b[1;33m\n",
      "\u001b[0m            \u001b[0mint\u001b[0m \u001b[1;33m|=\u001b[0m \u001b[0mversion\u001b[0m \u001b[1;33m<<\u001b[0m \u001b[1;36m76\u001b[0m\u001b[1;33m\n",
      "\u001b[0m        \u001b[0mobject\u001b[0m\u001b[1;33m.\u001b[0m\u001b[0m__setattr__\u001b[0m\u001b[1;33m(\u001b[0m\u001b[0mself\u001b[0m\u001b[1;33m,\u001b[0m \u001b[1;34m'int'\u001b[0m\u001b[1;33m,\u001b[0m \u001b[0mint\u001b[0m\u001b[1;33m)\u001b[0m\u001b[1;33m\n",
      "\u001b[0m        \u001b[0mobject\u001b[0m\u001b[1;33m.\u001b[0m\u001b[0m__setattr__\u001b[0m\u001b[1;33m(\u001b[0m\u001b[0mself\u001b[0m\u001b[1;33m,\u001b[0m \u001b[1;34m'is_safe'\u001b[0m\u001b[1;33m,\u001b[0m \u001b[0mis_safe\u001b[0m\u001b[1;33m)\u001b[0m\u001b[1;33m\n",
      "\u001b[0m\u001b[1;33m\n",
      "\u001b[0m    \u001b[1;32mdef\u001b[0m \u001b[0m__getstate__\u001b[0m\u001b[1;33m(\u001b[0m\u001b[0mself\u001b[0m\u001b[1;33m)\u001b[0m\u001b[1;33m:\u001b[0m\u001b[1;33m\n",
      "\u001b[0m        \u001b[0md\u001b[0m \u001b[1;33m=\u001b[0m \u001b[1;33m{\u001b[0m\u001b[1;34m'int'\u001b[0m\u001b[1;33m:\u001b[0m \u001b[0mself\u001b[0m\u001b[1;33m.\u001b[0m\u001b[0mint\u001b[0m\u001b[1;33m}\u001b[0m\u001b[1;33m\n",
      "\u001b[0m        \u001b[1;32mif\u001b[0m \u001b[0mself\u001b[0m\u001b[1;33m.\u001b[0m\u001b[0mis_safe\u001b[0m \u001b[1;33m!=\u001b[0m \u001b[0mSafeUUID\u001b[0m\u001b[1;33m.\u001b[0m\u001b[0munknown\u001b[0m\u001b[1;33m:\u001b[0m\u001b[1;33m\n",
      "\u001b[0m            \u001b[1;31m# is_safe is a SafeUUID instance.  Return just its value, so that\u001b[0m\u001b[1;33m\n",
      "\u001b[0m            \u001b[1;31m# it can be un-pickled in older Python versions without SafeUUID.\u001b[0m\u001b[1;33m\n",
      "\u001b[0m            \u001b[0md\u001b[0m\u001b[1;33m[\u001b[0m\u001b[1;34m'is_safe'\u001b[0m\u001b[1;33m]\u001b[0m \u001b[1;33m=\u001b[0m \u001b[0mself\u001b[0m\u001b[1;33m.\u001b[0m\u001b[0mis_safe\u001b[0m\u001b[1;33m.\u001b[0m\u001b[0mvalue\u001b[0m\u001b[1;33m\n",
      "\u001b[0m        \u001b[1;32mreturn\u001b[0m \u001b[0md\u001b[0m\u001b[1;33m\n",
      "\u001b[0m\u001b[1;33m\n",
      "\u001b[0m    \u001b[1;32mdef\u001b[0m \u001b[0m__setstate__\u001b[0m\u001b[1;33m(\u001b[0m\u001b[0mself\u001b[0m\u001b[1;33m,\u001b[0m \u001b[0mstate\u001b[0m\u001b[1;33m)\u001b[0m\u001b[1;33m:\u001b[0m\u001b[1;33m\n",
      "\u001b[0m        \u001b[0mobject\u001b[0m\u001b[1;33m.\u001b[0m\u001b[0m__setattr__\u001b[0m\u001b[1;33m(\u001b[0m\u001b[0mself\u001b[0m\u001b[1;33m,\u001b[0m \u001b[1;34m'int'\u001b[0m\u001b[1;33m,\u001b[0m \u001b[0mstate\u001b[0m\u001b[1;33m[\u001b[0m\u001b[1;34m'int'\u001b[0m\u001b[1;33m]\u001b[0m\u001b[1;33m)\u001b[0m\u001b[1;33m\n",
      "\u001b[0m        \u001b[1;31m# is_safe was added in 3.7; it is also omitted when it is \"unknown\"\u001b[0m\u001b[1;33m\n",
      "\u001b[0m        \u001b[0mobject\u001b[0m\u001b[1;33m.\u001b[0m\u001b[0m__setattr__\u001b[0m\u001b[1;33m(\u001b[0m\u001b[0mself\u001b[0m\u001b[1;33m,\u001b[0m \u001b[1;34m'is_safe'\u001b[0m\u001b[1;33m,\u001b[0m\u001b[1;33m\n",
      "\u001b[0m                           \u001b[0mSafeUUID\u001b[0m\u001b[1;33m(\u001b[0m\u001b[0mstate\u001b[0m\u001b[1;33m[\u001b[0m\u001b[1;34m'is_safe'\u001b[0m\u001b[1;33m]\u001b[0m\u001b[1;33m)\u001b[0m\u001b[1;33m\n",
      "\u001b[0m                           \u001b[1;32mif\u001b[0m \u001b[1;34m'is_safe'\u001b[0m \u001b[1;32min\u001b[0m \u001b[0mstate\u001b[0m \u001b[1;32melse\u001b[0m \u001b[0mSafeUUID\u001b[0m\u001b[1;33m.\u001b[0m\u001b[0munknown\u001b[0m\u001b[1;33m)\u001b[0m\u001b[1;33m\n",
      "\u001b[0m\u001b[1;33m\n",
      "\u001b[0m    \u001b[1;32mdef\u001b[0m \u001b[0m__eq__\u001b[0m\u001b[1;33m(\u001b[0m\u001b[0mself\u001b[0m\u001b[1;33m,\u001b[0m \u001b[0mother\u001b[0m\u001b[1;33m)\u001b[0m\u001b[1;33m:\u001b[0m\u001b[1;33m\n",
      "\u001b[0m        \u001b[1;32mif\u001b[0m \u001b[0misinstance\u001b[0m\u001b[1;33m(\u001b[0m\u001b[0mother\u001b[0m\u001b[1;33m,\u001b[0m \u001b[0mUUID\u001b[0m\u001b[1;33m)\u001b[0m\u001b[1;33m:\u001b[0m\u001b[1;33m\n",
      "\u001b[0m            \u001b[1;32mreturn\u001b[0m \u001b[0mself\u001b[0m\u001b[1;33m.\u001b[0m\u001b[0mint\u001b[0m \u001b[1;33m==\u001b[0m \u001b[0mother\u001b[0m\u001b[1;33m.\u001b[0m\u001b[0mint\u001b[0m\u001b[1;33m\n",
      "\u001b[0m        \u001b[1;32mreturn\u001b[0m \u001b[0mNotImplemented\u001b[0m\u001b[1;33m\n",
      "\u001b[0m\u001b[1;33m\n",
      "\u001b[0m    \u001b[1;31m# Q. What's the value of being able to sort UUIDs?\u001b[0m\u001b[1;33m\n",
      "\u001b[0m    \u001b[1;31m# A. Use them as keys in a B-Tree or similar mapping.\u001b[0m\u001b[1;33m\n",
      "\u001b[0m\u001b[1;33m\n",
      "\u001b[0m    \u001b[1;32mdef\u001b[0m \u001b[0m__lt__\u001b[0m\u001b[1;33m(\u001b[0m\u001b[0mself\u001b[0m\u001b[1;33m,\u001b[0m \u001b[0mother\u001b[0m\u001b[1;33m)\u001b[0m\u001b[1;33m:\u001b[0m\u001b[1;33m\n",
      "\u001b[0m        \u001b[1;32mif\u001b[0m \u001b[0misinstance\u001b[0m\u001b[1;33m(\u001b[0m\u001b[0mother\u001b[0m\u001b[1;33m,\u001b[0m \u001b[0mUUID\u001b[0m\u001b[1;33m)\u001b[0m\u001b[1;33m:\u001b[0m\u001b[1;33m\n",
      "\u001b[0m            \u001b[1;32mreturn\u001b[0m \u001b[0mself\u001b[0m\u001b[1;33m.\u001b[0m\u001b[0mint\u001b[0m \u001b[1;33m<\u001b[0m \u001b[0mother\u001b[0m\u001b[1;33m.\u001b[0m\u001b[0mint\u001b[0m\u001b[1;33m\n",
      "\u001b[0m        \u001b[1;32mreturn\u001b[0m \u001b[0mNotImplemented\u001b[0m\u001b[1;33m\n",
      "\u001b[0m\u001b[1;33m\n",
      "\u001b[0m    \u001b[1;32mdef\u001b[0m \u001b[0m__gt__\u001b[0m\u001b[1;33m(\u001b[0m\u001b[0mself\u001b[0m\u001b[1;33m,\u001b[0m \u001b[0mother\u001b[0m\u001b[1;33m)\u001b[0m\u001b[1;33m:\u001b[0m\u001b[1;33m\n",
      "\u001b[0m        \u001b[1;32mif\u001b[0m \u001b[0misinstance\u001b[0m\u001b[1;33m(\u001b[0m\u001b[0mother\u001b[0m\u001b[1;33m,\u001b[0m \u001b[0mUUID\u001b[0m\u001b[1;33m)\u001b[0m\u001b[1;33m:\u001b[0m\u001b[1;33m\n",
      "\u001b[0m            \u001b[1;32mreturn\u001b[0m \u001b[0mself\u001b[0m\u001b[1;33m.\u001b[0m\u001b[0mint\u001b[0m \u001b[1;33m>\u001b[0m \u001b[0mother\u001b[0m\u001b[1;33m.\u001b[0m\u001b[0mint\u001b[0m\u001b[1;33m\n",
      "\u001b[0m        \u001b[1;32mreturn\u001b[0m \u001b[0mNotImplemented\u001b[0m\u001b[1;33m\n",
      "\u001b[0m\u001b[1;33m\n",
      "\u001b[0m    \u001b[1;32mdef\u001b[0m \u001b[0m__le__\u001b[0m\u001b[1;33m(\u001b[0m\u001b[0mself\u001b[0m\u001b[1;33m,\u001b[0m \u001b[0mother\u001b[0m\u001b[1;33m)\u001b[0m\u001b[1;33m:\u001b[0m\u001b[1;33m\n",
      "\u001b[0m        \u001b[1;32mif\u001b[0m \u001b[0misinstance\u001b[0m\u001b[1;33m(\u001b[0m\u001b[0mother\u001b[0m\u001b[1;33m,\u001b[0m \u001b[0mUUID\u001b[0m\u001b[1;33m)\u001b[0m\u001b[1;33m:\u001b[0m\u001b[1;33m\n",
      "\u001b[0m            \u001b[1;32mreturn\u001b[0m \u001b[0mself\u001b[0m\u001b[1;33m.\u001b[0m\u001b[0mint\u001b[0m \u001b[1;33m<=\u001b[0m \u001b[0mother\u001b[0m\u001b[1;33m.\u001b[0m\u001b[0mint\u001b[0m\u001b[1;33m\n",
      "\u001b[0m        \u001b[1;32mreturn\u001b[0m \u001b[0mNotImplemented\u001b[0m\u001b[1;33m\n",
      "\u001b[0m\u001b[1;33m\n",
      "\u001b[0m    \u001b[1;32mdef\u001b[0m \u001b[0m__ge__\u001b[0m\u001b[1;33m(\u001b[0m\u001b[0mself\u001b[0m\u001b[1;33m,\u001b[0m \u001b[0mother\u001b[0m\u001b[1;33m)\u001b[0m\u001b[1;33m:\u001b[0m\u001b[1;33m\n",
      "\u001b[0m        \u001b[1;32mif\u001b[0m \u001b[0misinstance\u001b[0m\u001b[1;33m(\u001b[0m\u001b[0mother\u001b[0m\u001b[1;33m,\u001b[0m \u001b[0mUUID\u001b[0m\u001b[1;33m)\u001b[0m\u001b[1;33m:\u001b[0m\u001b[1;33m\n",
      "\u001b[0m            \u001b[1;32mreturn\u001b[0m \u001b[0mself\u001b[0m\u001b[1;33m.\u001b[0m\u001b[0mint\u001b[0m \u001b[1;33m>=\u001b[0m \u001b[0mother\u001b[0m\u001b[1;33m.\u001b[0m\u001b[0mint\u001b[0m\u001b[1;33m\n",
      "\u001b[0m        \u001b[1;32mreturn\u001b[0m \u001b[0mNotImplemented\u001b[0m\u001b[1;33m\n",
      "\u001b[0m\u001b[1;33m\n",
      "\u001b[0m    \u001b[1;32mdef\u001b[0m \u001b[0m__hash__\u001b[0m\u001b[1;33m(\u001b[0m\u001b[0mself\u001b[0m\u001b[1;33m)\u001b[0m\u001b[1;33m:\u001b[0m\u001b[1;33m\n",
      "\u001b[0m        \u001b[1;32mreturn\u001b[0m \u001b[0mhash\u001b[0m\u001b[1;33m(\u001b[0m\u001b[0mself\u001b[0m\u001b[1;33m.\u001b[0m\u001b[0mint\u001b[0m\u001b[1;33m)\u001b[0m\u001b[1;33m\n",
      "\u001b[0m\u001b[1;33m\n",
      "\u001b[0m    \u001b[1;32mdef\u001b[0m \u001b[0m__int__\u001b[0m\u001b[1;33m(\u001b[0m\u001b[0mself\u001b[0m\u001b[1;33m)\u001b[0m\u001b[1;33m:\u001b[0m\u001b[1;33m\n",
      "\u001b[0m        \u001b[1;32mreturn\u001b[0m \u001b[0mself\u001b[0m\u001b[1;33m.\u001b[0m\u001b[0mint\u001b[0m\u001b[1;33m\n",
      "\u001b[0m\u001b[1;33m\n",
      "\u001b[0m    \u001b[1;32mdef\u001b[0m \u001b[0m__repr__\u001b[0m\u001b[1;33m(\u001b[0m\u001b[0mself\u001b[0m\u001b[1;33m)\u001b[0m\u001b[1;33m:\u001b[0m\u001b[1;33m\n",
      "\u001b[0m        \u001b[1;32mreturn\u001b[0m \u001b[1;34m'%s(%r)'\u001b[0m \u001b[1;33m%\u001b[0m \u001b[1;33m(\u001b[0m\u001b[0mself\u001b[0m\u001b[1;33m.\u001b[0m\u001b[0m__class__\u001b[0m\u001b[1;33m.\u001b[0m\u001b[0m__name__\u001b[0m\u001b[1;33m,\u001b[0m \u001b[0mstr\u001b[0m\u001b[1;33m(\u001b[0m\u001b[0mself\u001b[0m\u001b[1;33m)\u001b[0m\u001b[1;33m)\u001b[0m\u001b[1;33m\n",
      "\u001b[0m\u001b[1;33m\n",
      "\u001b[0m    \u001b[1;32mdef\u001b[0m \u001b[0m__setattr__\u001b[0m\u001b[1;33m(\u001b[0m\u001b[0mself\u001b[0m\u001b[1;33m,\u001b[0m \u001b[0mname\u001b[0m\u001b[1;33m,\u001b[0m \u001b[0mvalue\u001b[0m\u001b[1;33m)\u001b[0m\u001b[1;33m:\u001b[0m\u001b[1;33m\n",
      "\u001b[0m        \u001b[1;32mraise\u001b[0m \u001b[0mTypeError\u001b[0m\u001b[1;33m(\u001b[0m\u001b[1;34m'UUID objects are immutable'\u001b[0m\u001b[1;33m)\u001b[0m\u001b[1;33m\n",
      "\u001b[0m\u001b[1;33m\n",
      "\u001b[0m    \u001b[1;32mdef\u001b[0m \u001b[0m__str__\u001b[0m\u001b[1;33m(\u001b[0m\u001b[0mself\u001b[0m\u001b[1;33m)\u001b[0m\u001b[1;33m:\u001b[0m\u001b[1;33m\n",
      "\u001b[0m        \u001b[0mhex\u001b[0m \u001b[1;33m=\u001b[0m \u001b[1;34m'%032x'\u001b[0m \u001b[1;33m%\u001b[0m \u001b[0mself\u001b[0m\u001b[1;33m.\u001b[0m\u001b[0mint\u001b[0m\u001b[1;33m\n",
      "\u001b[0m        \u001b[1;32mreturn\u001b[0m \u001b[1;34m'%s-%s-%s-%s-%s'\u001b[0m \u001b[1;33m%\u001b[0m \u001b[1;33m(\u001b[0m\u001b[1;33m\n",
      "\u001b[0m            \u001b[0mhex\u001b[0m\u001b[1;33m[\u001b[0m\u001b[1;33m:\u001b[0m\u001b[1;36m8\u001b[0m\u001b[1;33m]\u001b[0m\u001b[1;33m,\u001b[0m \u001b[0mhex\u001b[0m\u001b[1;33m[\u001b[0m\u001b[1;36m8\u001b[0m\u001b[1;33m:\u001b[0m\u001b[1;36m12\u001b[0m\u001b[1;33m]\u001b[0m\u001b[1;33m,\u001b[0m \u001b[0mhex\u001b[0m\u001b[1;33m[\u001b[0m\u001b[1;36m12\u001b[0m\u001b[1;33m:\u001b[0m\u001b[1;36m16\u001b[0m\u001b[1;33m]\u001b[0m\u001b[1;33m,\u001b[0m \u001b[0mhex\u001b[0m\u001b[1;33m[\u001b[0m\u001b[1;36m16\u001b[0m\u001b[1;33m:\u001b[0m\u001b[1;36m20\u001b[0m\u001b[1;33m]\u001b[0m\u001b[1;33m,\u001b[0m \u001b[0mhex\u001b[0m\u001b[1;33m[\u001b[0m\u001b[1;36m20\u001b[0m\u001b[1;33m:\u001b[0m\u001b[1;33m]\u001b[0m\u001b[1;33m)\u001b[0m\u001b[1;33m\n",
      "\u001b[0m\u001b[1;33m\n",
      "\u001b[0m    \u001b[1;33m@\u001b[0m\u001b[0mproperty\u001b[0m\u001b[1;33m\n",
      "\u001b[0m    \u001b[1;32mdef\u001b[0m \u001b[0mbytes\u001b[0m\u001b[1;33m(\u001b[0m\u001b[0mself\u001b[0m\u001b[1;33m)\u001b[0m\u001b[1;33m:\u001b[0m\u001b[1;33m\n",
      "\u001b[0m        \u001b[1;32mreturn\u001b[0m \u001b[0mself\u001b[0m\u001b[1;33m.\u001b[0m\u001b[0mint\u001b[0m\u001b[1;33m.\u001b[0m\u001b[0mto_bytes\u001b[0m\u001b[1;33m(\u001b[0m\u001b[1;36m16\u001b[0m\u001b[1;33m,\u001b[0m \u001b[1;34m'big'\u001b[0m\u001b[1;33m)\u001b[0m\u001b[1;33m\n",
      "\u001b[0m\u001b[1;33m\n",
      "\u001b[0m    \u001b[1;33m@\u001b[0m\u001b[0mproperty\u001b[0m\u001b[1;33m\n",
      "\u001b[0m    \u001b[1;32mdef\u001b[0m \u001b[0mbytes_le\u001b[0m\u001b[1;33m(\u001b[0m\u001b[0mself\u001b[0m\u001b[1;33m)\u001b[0m\u001b[1;33m:\u001b[0m\u001b[1;33m\n",
      "\u001b[0m        \u001b[0mbytes\u001b[0m \u001b[1;33m=\u001b[0m \u001b[0mself\u001b[0m\u001b[1;33m.\u001b[0m\u001b[0mbytes\u001b[0m\u001b[1;33m\n",
      "\u001b[0m        \u001b[1;32mreturn\u001b[0m \u001b[1;33m(\u001b[0m\u001b[0mbytes\u001b[0m\u001b[1;33m[\u001b[0m\u001b[1;36m4\u001b[0m\u001b[1;33m-\u001b[0m\u001b[1;36m1\u001b[0m\u001b[1;33m:\u001b[0m\u001b[1;33m:\u001b[0m\u001b[1;33m-\u001b[0m\u001b[1;36m1\u001b[0m\u001b[1;33m]\u001b[0m \u001b[1;33m+\u001b[0m \u001b[0mbytes\u001b[0m\u001b[1;33m[\u001b[0m\u001b[1;36m6\u001b[0m\u001b[1;33m-\u001b[0m\u001b[1;36m1\u001b[0m\u001b[1;33m:\u001b[0m\u001b[1;36m4\u001b[0m\u001b[1;33m-\u001b[0m\u001b[1;36m1\u001b[0m\u001b[1;33m:\u001b[0m\u001b[1;33m-\u001b[0m\u001b[1;36m1\u001b[0m\u001b[1;33m]\u001b[0m \u001b[1;33m+\u001b[0m \u001b[0mbytes\u001b[0m\u001b[1;33m[\u001b[0m\u001b[1;36m8\u001b[0m\u001b[1;33m-\u001b[0m\u001b[1;36m1\u001b[0m\u001b[1;33m:\u001b[0m\u001b[1;36m6\u001b[0m\u001b[1;33m-\u001b[0m\u001b[1;36m1\u001b[0m\u001b[1;33m:\u001b[0m\u001b[1;33m-\u001b[0m\u001b[1;36m1\u001b[0m\u001b[1;33m]\u001b[0m \u001b[1;33m+\u001b[0m\u001b[1;33m\n",
      "\u001b[0m                \u001b[0mbytes\u001b[0m\u001b[1;33m[\u001b[0m\u001b[1;36m8\u001b[0m\u001b[1;33m:\u001b[0m\u001b[1;33m]\u001b[0m\u001b[1;33m)\u001b[0m\u001b[1;33m\n",
      "\u001b[0m\u001b[1;33m\n",
      "\u001b[0m    \u001b[1;33m@\u001b[0m\u001b[0mproperty\u001b[0m\u001b[1;33m\n",
      "\u001b[0m    \u001b[1;32mdef\u001b[0m \u001b[0mfields\u001b[0m\u001b[1;33m(\u001b[0m\u001b[0mself\u001b[0m\u001b[1;33m)\u001b[0m\u001b[1;33m:\u001b[0m\u001b[1;33m\n",
      "\u001b[0m        \u001b[1;32mreturn\u001b[0m \u001b[1;33m(\u001b[0m\u001b[0mself\u001b[0m\u001b[1;33m.\u001b[0m\u001b[0mtime_low\u001b[0m\u001b[1;33m,\u001b[0m \u001b[0mself\u001b[0m\u001b[1;33m.\u001b[0m\u001b[0mtime_mid\u001b[0m\u001b[1;33m,\u001b[0m \u001b[0mself\u001b[0m\u001b[1;33m.\u001b[0m\u001b[0mtime_hi_version\u001b[0m\u001b[1;33m,\u001b[0m\u001b[1;33m\n",
      "\u001b[0m                \u001b[0mself\u001b[0m\u001b[1;33m.\u001b[0m\u001b[0mclock_seq_hi_variant\u001b[0m\u001b[1;33m,\u001b[0m \u001b[0mself\u001b[0m\u001b[1;33m.\u001b[0m\u001b[0mclock_seq_low\u001b[0m\u001b[1;33m,\u001b[0m \u001b[0mself\u001b[0m\u001b[1;33m.\u001b[0m\u001b[0mnode\u001b[0m\u001b[1;33m)\u001b[0m\u001b[1;33m\n",
      "\u001b[0m\u001b[1;33m\n",
      "\u001b[0m    \u001b[1;33m@\u001b[0m\u001b[0mproperty\u001b[0m\u001b[1;33m\n",
      "\u001b[0m    \u001b[1;32mdef\u001b[0m \u001b[0mtime_low\u001b[0m\u001b[1;33m(\u001b[0m\u001b[0mself\u001b[0m\u001b[1;33m)\u001b[0m\u001b[1;33m:\u001b[0m\u001b[1;33m\n",
      "\u001b[0m        \u001b[1;32mreturn\u001b[0m \u001b[0mself\u001b[0m\u001b[1;33m.\u001b[0m\u001b[0mint\u001b[0m \u001b[1;33m>>\u001b[0m \u001b[1;36m96\u001b[0m\u001b[1;33m\n",
      "\u001b[0m\u001b[1;33m\n",
      "\u001b[0m    \u001b[1;33m@\u001b[0m\u001b[0mproperty\u001b[0m\u001b[1;33m\n",
      "\u001b[0m    \u001b[1;32mdef\u001b[0m \u001b[0mtime_mid\u001b[0m\u001b[1;33m(\u001b[0m\u001b[0mself\u001b[0m\u001b[1;33m)\u001b[0m\u001b[1;33m:\u001b[0m\u001b[1;33m\n",
      "\u001b[0m        \u001b[1;32mreturn\u001b[0m \u001b[1;33m(\u001b[0m\u001b[0mself\u001b[0m\u001b[1;33m.\u001b[0m\u001b[0mint\u001b[0m \u001b[1;33m>>\u001b[0m \u001b[1;36m80\u001b[0m\u001b[1;33m)\u001b[0m \u001b[1;33m&\u001b[0m \u001b[1;36m0xffff\u001b[0m\u001b[1;33m\n",
      "\u001b[0m\u001b[1;33m\n",
      "\u001b[0m    \u001b[1;33m@\u001b[0m\u001b[0mproperty\u001b[0m\u001b[1;33m\n",
      "\u001b[0m    \u001b[1;32mdef\u001b[0m \u001b[0mtime_hi_version\u001b[0m\u001b[1;33m(\u001b[0m\u001b[0mself\u001b[0m\u001b[1;33m)\u001b[0m\u001b[1;33m:\u001b[0m\u001b[1;33m\n",
      "\u001b[0m        \u001b[1;32mreturn\u001b[0m \u001b[1;33m(\u001b[0m\u001b[0mself\u001b[0m\u001b[1;33m.\u001b[0m\u001b[0mint\u001b[0m \u001b[1;33m>>\u001b[0m \u001b[1;36m64\u001b[0m\u001b[1;33m)\u001b[0m \u001b[1;33m&\u001b[0m \u001b[1;36m0xffff\u001b[0m\u001b[1;33m\n",
      "\u001b[0m\u001b[1;33m\n",
      "\u001b[0m    \u001b[1;33m@\u001b[0m\u001b[0mproperty\u001b[0m\u001b[1;33m\n",
      "\u001b[0m    \u001b[1;32mdef\u001b[0m \u001b[0mclock_seq_hi_variant\u001b[0m\u001b[1;33m(\u001b[0m\u001b[0mself\u001b[0m\u001b[1;33m)\u001b[0m\u001b[1;33m:\u001b[0m\u001b[1;33m\n",
      "\u001b[0m        \u001b[1;32mreturn\u001b[0m \u001b[1;33m(\u001b[0m\u001b[0mself\u001b[0m\u001b[1;33m.\u001b[0m\u001b[0mint\u001b[0m \u001b[1;33m>>\u001b[0m \u001b[1;36m56\u001b[0m\u001b[1;33m)\u001b[0m \u001b[1;33m&\u001b[0m \u001b[1;36m0xff\u001b[0m\u001b[1;33m\n",
      "\u001b[0m\u001b[1;33m\n",
      "\u001b[0m    \u001b[1;33m@\u001b[0m\u001b[0mproperty\u001b[0m\u001b[1;33m\n",
      "\u001b[0m    \u001b[1;32mdef\u001b[0m \u001b[0mclock_seq_low\u001b[0m\u001b[1;33m(\u001b[0m\u001b[0mself\u001b[0m\u001b[1;33m)\u001b[0m\u001b[1;33m:\u001b[0m\u001b[1;33m\n",
      "\u001b[0m        \u001b[1;32mreturn\u001b[0m \u001b[1;33m(\u001b[0m\u001b[0mself\u001b[0m\u001b[1;33m.\u001b[0m\u001b[0mint\u001b[0m \u001b[1;33m>>\u001b[0m \u001b[1;36m48\u001b[0m\u001b[1;33m)\u001b[0m \u001b[1;33m&\u001b[0m \u001b[1;36m0xff\u001b[0m\u001b[1;33m\n",
      "\u001b[0m\u001b[1;33m\n",
      "\u001b[0m    \u001b[1;33m@\u001b[0m\u001b[0mproperty\u001b[0m\u001b[1;33m\n",
      "\u001b[0m    \u001b[1;32mdef\u001b[0m \u001b[0mtime\u001b[0m\u001b[1;33m(\u001b[0m\u001b[0mself\u001b[0m\u001b[1;33m)\u001b[0m\u001b[1;33m:\u001b[0m\u001b[1;33m\n",
      "\u001b[0m        \u001b[1;32mreturn\u001b[0m \u001b[1;33m(\u001b[0m\u001b[1;33m(\u001b[0m\u001b[1;33m(\u001b[0m\u001b[0mself\u001b[0m\u001b[1;33m.\u001b[0m\u001b[0mtime_hi_version\u001b[0m \u001b[1;33m&\u001b[0m \u001b[1;36m0x0fff\u001b[0m\u001b[1;33m)\u001b[0m \u001b[1;33m<<\u001b[0m \u001b[1;36m48\u001b[0m\u001b[1;33m)\u001b[0m \u001b[1;33m|\u001b[0m\u001b[1;33m\n",
      "\u001b[0m                \u001b[1;33m(\u001b[0m\u001b[0mself\u001b[0m\u001b[1;33m.\u001b[0m\u001b[0mtime_mid\u001b[0m \u001b[1;33m<<\u001b[0m \u001b[1;36m32\u001b[0m\u001b[1;33m)\u001b[0m \u001b[1;33m|\u001b[0m \u001b[0mself\u001b[0m\u001b[1;33m.\u001b[0m\u001b[0mtime_low\u001b[0m\u001b[1;33m)\u001b[0m\u001b[1;33m\n",
      "\u001b[0m\u001b[1;33m\n",
      "\u001b[0m    \u001b[1;33m@\u001b[0m\u001b[0mproperty\u001b[0m\u001b[1;33m\n",
      "\u001b[0m    \u001b[1;32mdef\u001b[0m \u001b[0mclock_seq\u001b[0m\u001b[1;33m(\u001b[0m\u001b[0mself\u001b[0m\u001b[1;33m)\u001b[0m\u001b[1;33m:\u001b[0m\u001b[1;33m\n",
      "\u001b[0m        \u001b[1;32mreturn\u001b[0m \u001b[1;33m(\u001b[0m\u001b[1;33m(\u001b[0m\u001b[1;33m(\u001b[0m\u001b[0mself\u001b[0m\u001b[1;33m.\u001b[0m\u001b[0mclock_seq_hi_variant\u001b[0m \u001b[1;33m&\u001b[0m \u001b[1;36m0x3f\u001b[0m\u001b[1;33m)\u001b[0m \u001b[1;33m<<\u001b[0m \u001b[1;36m8\u001b[0m\u001b[1;33m)\u001b[0m \u001b[1;33m|\u001b[0m\u001b[1;33m\n",
      "\u001b[0m                \u001b[0mself\u001b[0m\u001b[1;33m.\u001b[0m\u001b[0mclock_seq_low\u001b[0m\u001b[1;33m)\u001b[0m\u001b[1;33m\n",
      "\u001b[0m\u001b[1;33m\n",
      "\u001b[0m    \u001b[1;33m@\u001b[0m\u001b[0mproperty\u001b[0m\u001b[1;33m\n",
      "\u001b[0m    \u001b[1;32mdef\u001b[0m \u001b[0mnode\u001b[0m\u001b[1;33m(\u001b[0m\u001b[0mself\u001b[0m\u001b[1;33m)\u001b[0m\u001b[1;33m:\u001b[0m\u001b[1;33m\n",
      "\u001b[0m        \u001b[1;32mreturn\u001b[0m \u001b[0mself\u001b[0m\u001b[1;33m.\u001b[0m\u001b[0mint\u001b[0m \u001b[1;33m&\u001b[0m \u001b[1;36m0xffffffffffff\u001b[0m\u001b[1;33m\n",
      "\u001b[0m\u001b[1;33m\n",
      "\u001b[0m    \u001b[1;33m@\u001b[0m\u001b[0mproperty\u001b[0m\u001b[1;33m\n",
      "\u001b[0m    \u001b[1;32mdef\u001b[0m \u001b[0mhex\u001b[0m\u001b[1;33m(\u001b[0m\u001b[0mself\u001b[0m\u001b[1;33m)\u001b[0m\u001b[1;33m:\u001b[0m\u001b[1;33m\n",
      "\u001b[0m        \u001b[1;32mreturn\u001b[0m \u001b[1;34m'%032x'\u001b[0m \u001b[1;33m%\u001b[0m \u001b[0mself\u001b[0m\u001b[1;33m.\u001b[0m\u001b[0mint\u001b[0m\u001b[1;33m\n",
      "\u001b[0m\u001b[1;33m\n",
      "\u001b[0m    \u001b[1;33m@\u001b[0m\u001b[0mproperty\u001b[0m\u001b[1;33m\n",
      "\u001b[0m    \u001b[1;32mdef\u001b[0m \u001b[0murn\u001b[0m\u001b[1;33m(\u001b[0m\u001b[0mself\u001b[0m\u001b[1;33m)\u001b[0m\u001b[1;33m:\u001b[0m\u001b[1;33m\n",
      "\u001b[0m        \u001b[1;32mreturn\u001b[0m \u001b[1;34m'urn:uuid:'\u001b[0m \u001b[1;33m+\u001b[0m \u001b[0mstr\u001b[0m\u001b[1;33m(\u001b[0m\u001b[0mself\u001b[0m\u001b[1;33m)\u001b[0m\u001b[1;33m\n",
      "\u001b[0m\u001b[1;33m\n",
      "\u001b[0m    \u001b[1;33m@\u001b[0m\u001b[0mproperty\u001b[0m\u001b[1;33m\n",
      "\u001b[0m    \u001b[1;32mdef\u001b[0m \u001b[0mvariant\u001b[0m\u001b[1;33m(\u001b[0m\u001b[0mself\u001b[0m\u001b[1;33m)\u001b[0m\u001b[1;33m:\u001b[0m\u001b[1;33m\n",
      "\u001b[0m        \u001b[1;32mif\u001b[0m \u001b[1;32mnot\u001b[0m \u001b[0mself\u001b[0m\u001b[1;33m.\u001b[0m\u001b[0mint\u001b[0m \u001b[1;33m&\u001b[0m \u001b[1;33m(\u001b[0m\u001b[1;36m0x8000\u001b[0m \u001b[1;33m<<\u001b[0m \u001b[1;36m48\u001b[0m\u001b[1;33m)\u001b[0m\u001b[1;33m:\u001b[0m\u001b[1;33m\n",
      "\u001b[0m            \u001b[1;32mreturn\u001b[0m \u001b[0mRESERVED_NCS\u001b[0m\u001b[1;33m\n",
      "\u001b[0m        \u001b[1;32melif\u001b[0m \u001b[1;32mnot\u001b[0m \u001b[0mself\u001b[0m\u001b[1;33m.\u001b[0m\u001b[0mint\u001b[0m \u001b[1;33m&\u001b[0m \u001b[1;33m(\u001b[0m\u001b[1;36m0x4000\u001b[0m \u001b[1;33m<<\u001b[0m \u001b[1;36m48\u001b[0m\u001b[1;33m)\u001b[0m\u001b[1;33m:\u001b[0m\u001b[1;33m\n",
      "\u001b[0m            \u001b[1;32mreturn\u001b[0m \u001b[0mRFC_4122\u001b[0m\u001b[1;33m\n",
      "\u001b[0m        \u001b[1;32melif\u001b[0m \u001b[1;32mnot\u001b[0m \u001b[0mself\u001b[0m\u001b[1;33m.\u001b[0m\u001b[0mint\u001b[0m \u001b[1;33m&\u001b[0m \u001b[1;33m(\u001b[0m\u001b[1;36m0x2000\u001b[0m \u001b[1;33m<<\u001b[0m \u001b[1;36m48\u001b[0m\u001b[1;33m)\u001b[0m\u001b[1;33m:\u001b[0m\u001b[1;33m\n",
      "\u001b[0m            \u001b[1;32mreturn\u001b[0m \u001b[0mRESERVED_MICROSOFT\u001b[0m\u001b[1;33m\n",
      "\u001b[0m        \u001b[1;32melse\u001b[0m\u001b[1;33m:\u001b[0m\u001b[1;33m\n",
      "\u001b[0m            \u001b[1;32mreturn\u001b[0m \u001b[0mRESERVED_FUTURE\u001b[0m\u001b[1;33m\n",
      "\u001b[0m\u001b[1;33m\n",
      "\u001b[0m    \u001b[1;33m@\u001b[0m\u001b[0mproperty\u001b[0m\u001b[1;33m\n",
      "\u001b[0m    \u001b[1;32mdef\u001b[0m \u001b[0mversion\u001b[0m\u001b[1;33m(\u001b[0m\u001b[0mself\u001b[0m\u001b[1;33m)\u001b[0m\u001b[1;33m:\u001b[0m\u001b[1;33m\n",
      "\u001b[0m        \u001b[1;31m# The version bits are only meaningful for RFC 4122 UUIDs.\u001b[0m\u001b[1;33m\n",
      "\u001b[0m        \u001b[1;32mif\u001b[0m \u001b[0mself\u001b[0m\u001b[1;33m.\u001b[0m\u001b[0mvariant\u001b[0m \u001b[1;33m==\u001b[0m \u001b[0mRFC_4122\u001b[0m\u001b[1;33m:\u001b[0m\u001b[1;33m\n",
      "\u001b[0m            \u001b[1;32mreturn\u001b[0m \u001b[0mint\u001b[0m\u001b[1;33m(\u001b[0m\u001b[1;33m(\u001b[0m\u001b[0mself\u001b[0m\u001b[1;33m.\u001b[0m\u001b[0mint\u001b[0m \u001b[1;33m>>\u001b[0m \u001b[1;36m76\u001b[0m\u001b[1;33m)\u001b[0m \u001b[1;33m&\u001b[0m \u001b[1;36m0xf\u001b[0m\u001b[1;33m)\u001b[0m\u001b[1;33m\n",
      "\u001b[0m\u001b[1;33m\n",
      "\u001b[0m\u001b[1;33m\n",
      "\u001b[0m\u001b[1;32mdef\u001b[0m \u001b[0m_get_command_stdout\u001b[0m\u001b[1;33m(\u001b[0m\u001b[0mcommand\u001b[0m\u001b[1;33m,\u001b[0m \u001b[1;33m*\u001b[0m\u001b[0margs\u001b[0m\u001b[1;33m)\u001b[0m\u001b[1;33m:\u001b[0m\u001b[1;33m\n",
      "\u001b[0m    \u001b[1;32mimport\u001b[0m \u001b[0mio\u001b[0m\u001b[1;33m,\u001b[0m \u001b[0mos\u001b[0m\u001b[1;33m,\u001b[0m \u001b[0mshutil\u001b[0m\u001b[1;33m,\u001b[0m \u001b[0msubprocess\u001b[0m\u001b[1;33m\n",
      "\u001b[0m\u001b[1;33m\n",
      "\u001b[0m    \u001b[1;32mtry\u001b[0m\u001b[1;33m:\u001b[0m\u001b[1;33m\n",
      "\u001b[0m        \u001b[0mpath_dirs\u001b[0m \u001b[1;33m=\u001b[0m \u001b[0mos\u001b[0m\u001b[1;33m.\u001b[0m\u001b[0menviron\u001b[0m\u001b[1;33m.\u001b[0m\u001b[0mget\u001b[0m\u001b[1;33m(\u001b[0m\u001b[1;34m'PATH'\u001b[0m\u001b[1;33m,\u001b[0m \u001b[0mos\u001b[0m\u001b[1;33m.\u001b[0m\u001b[0mdefpath\u001b[0m\u001b[1;33m)\u001b[0m\u001b[1;33m.\u001b[0m\u001b[0msplit\u001b[0m\u001b[1;33m(\u001b[0m\u001b[0mos\u001b[0m\u001b[1;33m.\u001b[0m\u001b[0mpathsep\u001b[0m\u001b[1;33m)\u001b[0m\u001b[1;33m\n",
      "\u001b[0m        \u001b[0mpath_dirs\u001b[0m\u001b[1;33m.\u001b[0m\u001b[0mextend\u001b[0m\u001b[1;33m(\u001b[0m\u001b[1;33m[\u001b[0m\u001b[1;34m'/sbin'\u001b[0m\u001b[1;33m,\u001b[0m \u001b[1;34m'/usr/sbin'\u001b[0m\u001b[1;33m]\u001b[0m\u001b[1;33m)\u001b[0m\u001b[1;33m\n",
      "\u001b[0m        \u001b[0mexecutable\u001b[0m \u001b[1;33m=\u001b[0m \u001b[0mshutil\u001b[0m\u001b[1;33m.\u001b[0m\u001b[0mwhich\u001b[0m\u001b[1;33m(\u001b[0m\u001b[0mcommand\u001b[0m\u001b[1;33m,\u001b[0m \u001b[0mpath\u001b[0m\u001b[1;33m=\u001b[0m\u001b[0mos\u001b[0m\u001b[1;33m.\u001b[0m\u001b[0mpathsep\u001b[0m\u001b[1;33m.\u001b[0m\u001b[0mjoin\u001b[0m\u001b[1;33m(\u001b[0m\u001b[0mpath_dirs\u001b[0m\u001b[1;33m)\u001b[0m\u001b[1;33m)\u001b[0m\u001b[1;33m\n",
      "\u001b[0m        \u001b[1;32mif\u001b[0m \u001b[0mexecutable\u001b[0m \u001b[1;32mis\u001b[0m \u001b[1;32mNone\u001b[0m\u001b[1;33m:\u001b[0m\u001b[1;33m\n",
      "\u001b[0m            \u001b[1;32mreturn\u001b[0m \u001b[1;32mNone\u001b[0m\u001b[1;33m\n",
      "\u001b[0m        \u001b[1;31m# LC_ALL=C to ensure English output, stderr=DEVNULL to prevent output\u001b[0m\u001b[1;33m\n",
      "\u001b[0m        \u001b[1;31m# on stderr (Note: we don't have an example where the words we search\u001b[0m\u001b[1;33m\n",
      "\u001b[0m        \u001b[1;31m# for are actually localized, but in theory some system could do so.)\u001b[0m\u001b[1;33m\n",
      "\u001b[0m        \u001b[0menv\u001b[0m \u001b[1;33m=\u001b[0m \u001b[0mdict\u001b[0m\u001b[1;33m(\u001b[0m\u001b[0mos\u001b[0m\u001b[1;33m.\u001b[0m\u001b[0menviron\u001b[0m\u001b[1;33m)\u001b[0m\u001b[1;33m\n",
      "\u001b[0m        \u001b[0menv\u001b[0m\u001b[1;33m[\u001b[0m\u001b[1;34m'LC_ALL'\u001b[0m\u001b[1;33m]\u001b[0m \u001b[1;33m=\u001b[0m \u001b[1;34m'C'\u001b[0m\u001b[1;33m\n",
      "\u001b[0m        \u001b[0mproc\u001b[0m \u001b[1;33m=\u001b[0m \u001b[0msubprocess\u001b[0m\u001b[1;33m.\u001b[0m\u001b[0mPopen\u001b[0m\u001b[1;33m(\u001b[0m\u001b[1;33m(\u001b[0m\u001b[0mexecutable\u001b[0m\u001b[1;33m,\u001b[0m\u001b[1;33m)\u001b[0m \u001b[1;33m+\u001b[0m \u001b[0margs\u001b[0m\u001b[1;33m,\u001b[0m\u001b[1;33m\n",
      "\u001b[0m                                \u001b[0mstdout\u001b[0m\u001b[1;33m=\u001b[0m\u001b[0msubprocess\u001b[0m\u001b[1;33m.\u001b[0m\u001b[0mPIPE\u001b[0m\u001b[1;33m,\u001b[0m\u001b[1;33m\n",
      "\u001b[0m                                \u001b[0mstderr\u001b[0m\u001b[1;33m=\u001b[0m\u001b[0msubprocess\u001b[0m\u001b[1;33m.\u001b[0m\u001b[0mDEVNULL\u001b[0m\u001b[1;33m,\u001b[0m\u001b[1;33m\n",
      "\u001b[0m                                \u001b[0menv\u001b[0m\u001b[1;33m=\u001b[0m\u001b[0menv\u001b[0m\u001b[1;33m)\u001b[0m\u001b[1;33m\n",
      "\u001b[0m        \u001b[1;32mif\u001b[0m \u001b[1;32mnot\u001b[0m \u001b[0mproc\u001b[0m\u001b[1;33m:\u001b[0m\u001b[1;33m\n",
      "\u001b[0m            \u001b[1;32mreturn\u001b[0m \u001b[1;32mNone\u001b[0m\u001b[1;33m\n",
      "\u001b[0m        \u001b[0mstdout\u001b[0m\u001b[1;33m,\u001b[0m \u001b[0mstderr\u001b[0m \u001b[1;33m=\u001b[0m \u001b[0mproc\u001b[0m\u001b[1;33m.\u001b[0m\u001b[0mcommunicate\u001b[0m\u001b[1;33m(\u001b[0m\u001b[1;33m)\u001b[0m\u001b[1;33m\n",
      "\u001b[0m        \u001b[1;32mreturn\u001b[0m \u001b[0mio\u001b[0m\u001b[1;33m.\u001b[0m\u001b[0mBytesIO\u001b[0m\u001b[1;33m(\u001b[0m\u001b[0mstdout\u001b[0m\u001b[1;33m)\u001b[0m\u001b[1;33m\n",
      "\u001b[0m    \u001b[1;32mexcept\u001b[0m \u001b[1;33m(\u001b[0m\u001b[0mOSError\u001b[0m\u001b[1;33m,\u001b[0m \u001b[0msubprocess\u001b[0m\u001b[1;33m.\u001b[0m\u001b[0mSubprocessError\u001b[0m\u001b[1;33m)\u001b[0m\u001b[1;33m:\u001b[0m\u001b[1;33m\n",
      "\u001b[0m        \u001b[1;32mreturn\u001b[0m \u001b[1;32mNone\u001b[0m\u001b[1;33m\n",
      "\u001b[0m\u001b[1;33m\n",
      "\u001b[0m\u001b[1;33m\n",
      "\u001b[0m\u001b[1;31m# For MAC (a.k.a. IEEE 802, or EUI-48) addresses, the second least significant\u001b[0m\u001b[1;33m\n",
      "\u001b[0m\u001b[1;31m# bit of the first octet signifies whether the MAC address is universally (0)\u001b[0m\u001b[1;33m\n",
      "\u001b[0m\u001b[1;31m# or locally (1) administered.  Network cards from hardware manufacturers will\u001b[0m\u001b[1;33m\n",
      "\u001b[0m\u001b[1;31m# always be universally administered to guarantee global uniqueness of the MAC\u001b[0m\u001b[1;33m\n",
      "\u001b[0m\u001b[1;31m# address, but any particular machine may have other interfaces which are\u001b[0m\u001b[1;33m\n",
      "\u001b[0m\u001b[1;31m# locally administered.  An example of the latter is the bridge interface to\u001b[0m\u001b[1;33m\n",
      "\u001b[0m\u001b[1;31m# the Touch Bar on MacBook Pros.\u001b[0m\u001b[1;33m\n",
      "\u001b[0m\u001b[1;31m#\u001b[0m\u001b[1;33m\n",
      "\u001b[0m\u001b[1;31m# This bit works out to be the 42nd bit counting from 1 being the least\u001b[0m\u001b[1;33m\n",
      "\u001b[0m\u001b[1;31m# significant, or 1<<41.  We'll prefer universally administered MAC addresses\u001b[0m\u001b[1;33m\n",
      "\u001b[0m\u001b[1;31m# over locally administered ones since the former are globally unique, but\u001b[0m\u001b[1;33m\n",
      "\u001b[0m\u001b[1;31m# we'll return the first of the latter found if that's all the machine has.\u001b[0m\u001b[1;33m\n",
      "\u001b[0m\u001b[1;31m#\u001b[0m\u001b[1;33m\n",
      "\u001b[0m\u001b[1;31m# See https://en.wikipedia.org/wiki/MAC_address#Universal_vs._local\u001b[0m\u001b[1;33m\n",
      "\u001b[0m\u001b[1;33m\n",
      "\u001b[0m\u001b[1;32mdef\u001b[0m \u001b[0m_is_universal\u001b[0m\u001b[1;33m(\u001b[0m\u001b[0mmac\u001b[0m\u001b[1;33m)\u001b[0m\u001b[1;33m:\u001b[0m\u001b[1;33m\n",
      "\u001b[0m    \u001b[1;32mreturn\u001b[0m \u001b[1;32mnot\u001b[0m \u001b[1;33m(\u001b[0m\u001b[0mmac\u001b[0m \u001b[1;33m&\u001b[0m \u001b[1;33m(\u001b[0m\u001b[1;36m1\u001b[0m \u001b[1;33m<<\u001b[0m \u001b[1;36m41\u001b[0m\u001b[1;33m)\u001b[0m\u001b[1;33m)\u001b[0m\u001b[1;33m\n",
      "\u001b[0m\u001b[1;33m\n",
      "\u001b[0m\u001b[1;33m\n",
      "\u001b[0m\u001b[1;32mdef\u001b[0m \u001b[0m_find_mac_near_keyword\u001b[0m\u001b[1;33m(\u001b[0m\u001b[0mcommand\u001b[0m\u001b[1;33m,\u001b[0m \u001b[0margs\u001b[0m\u001b[1;33m,\u001b[0m \u001b[0mkeywords\u001b[0m\u001b[1;33m,\u001b[0m \u001b[0mget_word_index\u001b[0m\u001b[1;33m)\u001b[0m\u001b[1;33m:\u001b[0m\u001b[1;33m\n",
      "\u001b[0m    \u001b[1;34m\"\"\"Searches a command's output for a MAC address near a keyword.\n",
      "\n",
      "    Each line of words in the output is case-insensitively searched for\n",
      "    any of the given keywords.  Upon a match, get_word_index is invoked\n",
      "    to pick a word from the line, given the index of the match.  For\n",
      "    example, lambda i: 0 would get the first word on the line, while\n",
      "    lambda i: i - 1 would get the word preceding the keyword.\n",
      "    \"\"\"\u001b[0m\u001b[1;33m\n",
      "\u001b[0m    \u001b[0mstdout\u001b[0m \u001b[1;33m=\u001b[0m \u001b[0m_get_command_stdout\u001b[0m\u001b[1;33m(\u001b[0m\u001b[0mcommand\u001b[0m\u001b[1;33m,\u001b[0m \u001b[0margs\u001b[0m\u001b[1;33m)\u001b[0m\u001b[1;33m\n",
      "\u001b[0m    \u001b[1;32mif\u001b[0m \u001b[0mstdout\u001b[0m \u001b[1;32mis\u001b[0m \u001b[1;32mNone\u001b[0m\u001b[1;33m:\u001b[0m\u001b[1;33m\n",
      "\u001b[0m        \u001b[1;32mreturn\u001b[0m \u001b[1;32mNone\u001b[0m\u001b[1;33m\n",
      "\u001b[0m\u001b[1;33m\n",
      "\u001b[0m    \u001b[0mfirst_local_mac\u001b[0m \u001b[1;33m=\u001b[0m \u001b[1;32mNone\u001b[0m\u001b[1;33m\n",
      "\u001b[0m    \u001b[1;32mfor\u001b[0m \u001b[0mline\u001b[0m \u001b[1;32min\u001b[0m \u001b[0mstdout\u001b[0m\u001b[1;33m:\u001b[0m\u001b[1;33m\n",
      "\u001b[0m        \u001b[0mwords\u001b[0m \u001b[1;33m=\u001b[0m \u001b[0mline\u001b[0m\u001b[1;33m.\u001b[0m\u001b[0mlower\u001b[0m\u001b[1;33m(\u001b[0m\u001b[1;33m)\u001b[0m\u001b[1;33m.\u001b[0m\u001b[0mrstrip\u001b[0m\u001b[1;33m(\u001b[0m\u001b[1;33m)\u001b[0m\u001b[1;33m.\u001b[0m\u001b[0msplit\u001b[0m\u001b[1;33m(\u001b[0m\u001b[1;33m)\u001b[0m\u001b[1;33m\n",
      "\u001b[0m        \u001b[1;32mfor\u001b[0m \u001b[0mi\u001b[0m \u001b[1;32min\u001b[0m \u001b[0mrange\u001b[0m\u001b[1;33m(\u001b[0m\u001b[0mlen\u001b[0m\u001b[1;33m(\u001b[0m\u001b[0mwords\u001b[0m\u001b[1;33m)\u001b[0m\u001b[1;33m)\u001b[0m\u001b[1;33m:\u001b[0m\u001b[1;33m\n",
      "\u001b[0m            \u001b[1;32mif\u001b[0m \u001b[0mwords\u001b[0m\u001b[1;33m[\u001b[0m\u001b[0mi\u001b[0m\u001b[1;33m]\u001b[0m \u001b[1;32min\u001b[0m \u001b[0mkeywords\u001b[0m\u001b[1;33m:\u001b[0m\u001b[1;33m\n",
      "\u001b[0m                \u001b[1;32mtry\u001b[0m\u001b[1;33m:\u001b[0m\u001b[1;33m\n",
      "\u001b[0m                    \u001b[0mword\u001b[0m \u001b[1;33m=\u001b[0m \u001b[0mwords\u001b[0m\u001b[1;33m[\u001b[0m\u001b[0mget_word_index\u001b[0m\u001b[1;33m(\u001b[0m\u001b[0mi\u001b[0m\u001b[1;33m)\u001b[0m\u001b[1;33m]\u001b[0m\u001b[1;33m\n",
      "\u001b[0m                    \u001b[0mmac\u001b[0m \u001b[1;33m=\u001b[0m \u001b[0mint\u001b[0m\u001b[1;33m(\u001b[0m\u001b[0mword\u001b[0m\u001b[1;33m.\u001b[0m\u001b[0mreplace\u001b[0m\u001b[1;33m(\u001b[0m\u001b[0m_MAC_DELIM\u001b[0m\u001b[1;33m,\u001b[0m \u001b[1;34mb''\u001b[0m\u001b[1;33m)\u001b[0m\u001b[1;33m,\u001b[0m \u001b[1;36m16\u001b[0m\u001b[1;33m)\u001b[0m\u001b[1;33m\n",
      "\u001b[0m                \u001b[1;32mexcept\u001b[0m \u001b[1;33m(\u001b[0m\u001b[0mValueError\u001b[0m\u001b[1;33m,\u001b[0m \u001b[0mIndexError\u001b[0m\u001b[1;33m)\u001b[0m\u001b[1;33m:\u001b[0m\u001b[1;33m\n",
      "\u001b[0m                    \u001b[1;31m# Virtual interfaces, such as those provided by\u001b[0m\u001b[1;33m\n",
      "\u001b[0m                    \u001b[1;31m# VPNs, do not have a colon-delimited MAC address\u001b[0m\u001b[1;33m\n",
      "\u001b[0m                    \u001b[1;31m# as expected, but a 16-byte HWAddr separated by\u001b[0m\u001b[1;33m\n",
      "\u001b[0m                    \u001b[1;31m# dashes. These should be ignored in favor of a\u001b[0m\u001b[1;33m\n",
      "\u001b[0m                    \u001b[1;31m# real MAC address\u001b[0m\u001b[1;33m\n",
      "\u001b[0m                    \u001b[1;32mpass\u001b[0m\u001b[1;33m\n",
      "\u001b[0m                \u001b[1;32melse\u001b[0m\u001b[1;33m:\u001b[0m\u001b[1;33m\n",
      "\u001b[0m                    \u001b[1;32mif\u001b[0m \u001b[0m_is_universal\u001b[0m\u001b[1;33m(\u001b[0m\u001b[0mmac\u001b[0m\u001b[1;33m)\u001b[0m\u001b[1;33m:\u001b[0m\u001b[1;33m\n",
      "\u001b[0m                        \u001b[1;32mreturn\u001b[0m \u001b[0mmac\u001b[0m\u001b[1;33m\n",
      "\u001b[0m                    \u001b[0mfirst_local_mac\u001b[0m \u001b[1;33m=\u001b[0m \u001b[0mfirst_local_mac\u001b[0m \u001b[1;32mor\u001b[0m \u001b[0mmac\u001b[0m\u001b[1;33m\n",
      "\u001b[0m    \u001b[1;32mreturn\u001b[0m \u001b[0mfirst_local_mac\u001b[0m \u001b[1;32mor\u001b[0m \u001b[1;32mNone\u001b[0m\u001b[1;33m\n",
      "\u001b[0m\u001b[1;33m\n",
      "\u001b[0m\u001b[1;33m\n",
      "\u001b[0m\u001b[1;32mdef\u001b[0m \u001b[0m_parse_mac\u001b[0m\u001b[1;33m(\u001b[0m\u001b[0mword\u001b[0m\u001b[1;33m)\u001b[0m\u001b[1;33m:\u001b[0m\u001b[1;33m\n",
      "\u001b[0m    \u001b[1;31m# Accept 'HH:HH:HH:HH:HH:HH' MAC address (ex: '52:54:00:9d:0e:67'),\u001b[0m\u001b[1;33m\n",
      "\u001b[0m    \u001b[1;31m# but reject IPv6 address (ex: 'fe80::5054:ff:fe9' or '123:2:3:4:5:6:7:8').\u001b[0m\u001b[1;33m\n",
      "\u001b[0m    \u001b[1;31m#\u001b[0m\u001b[1;33m\n",
      "\u001b[0m    \u001b[1;31m# Virtual interfaces, such as those provided by VPNs, do not have a\u001b[0m\u001b[1;33m\n",
      "\u001b[0m    \u001b[1;31m# colon-delimited MAC address as expected, but a 16-byte HWAddr separated\u001b[0m\u001b[1;33m\n",
      "\u001b[0m    \u001b[1;31m# by dashes. These should be ignored in favor of a real MAC address\u001b[0m\u001b[1;33m\n",
      "\u001b[0m    \u001b[0mparts\u001b[0m \u001b[1;33m=\u001b[0m \u001b[0mword\u001b[0m\u001b[1;33m.\u001b[0m\u001b[0msplit\u001b[0m\u001b[1;33m(\u001b[0m\u001b[0m_MAC_DELIM\u001b[0m\u001b[1;33m)\u001b[0m\u001b[1;33m\n",
      "\u001b[0m    \u001b[1;32mif\u001b[0m \u001b[0mlen\u001b[0m\u001b[1;33m(\u001b[0m\u001b[0mparts\u001b[0m\u001b[1;33m)\u001b[0m \u001b[1;33m!=\u001b[0m \u001b[1;36m6\u001b[0m\u001b[1;33m:\u001b[0m\u001b[1;33m\n",
      "\u001b[0m        \u001b[1;32mreturn\u001b[0m\u001b[1;33m\n",
      "\u001b[0m    \u001b[1;32mif\u001b[0m \u001b[0m_MAC_OMITS_LEADING_ZEROES\u001b[0m\u001b[1;33m:\u001b[0m\u001b[1;33m\n",
      "\u001b[0m        \u001b[1;31m# (Only) on AIX the macaddr value given is not prefixed by 0, e.g.\u001b[0m\u001b[1;33m\n",
      "\u001b[0m        \u001b[1;31m# en0   1500  link#2      fa.bc.de.f7.62.4 110854824     0 160133733     0     0\u001b[0m\u001b[1;33m\n",
      "\u001b[0m        \u001b[1;31m# not\u001b[0m\u001b[1;33m\n",
      "\u001b[0m        \u001b[1;31m# en0   1500  link#2      fa.bc.de.f7.62.04 110854824     0 160133733     0     0\u001b[0m\u001b[1;33m\n",
      "\u001b[0m        \u001b[1;32mif\u001b[0m \u001b[1;32mnot\u001b[0m \u001b[0mall\u001b[0m\u001b[1;33m(\u001b[0m\u001b[1;36m1\u001b[0m \u001b[1;33m<=\u001b[0m \u001b[0mlen\u001b[0m\u001b[1;33m(\u001b[0m\u001b[0mpart\u001b[0m\u001b[1;33m)\u001b[0m \u001b[1;33m<=\u001b[0m \u001b[1;36m2\u001b[0m \u001b[1;32mfor\u001b[0m \u001b[0mpart\u001b[0m \u001b[1;32min\u001b[0m \u001b[0mparts\u001b[0m\u001b[1;33m)\u001b[0m\u001b[1;33m:\u001b[0m\u001b[1;33m\n",
      "\u001b[0m            \u001b[1;32mreturn\u001b[0m\u001b[1;33m\n",
      "\u001b[0m        \u001b[0mhexstr\u001b[0m \u001b[1;33m=\u001b[0m \u001b[1;34mb''\u001b[0m\u001b[1;33m.\u001b[0m\u001b[0mjoin\u001b[0m\u001b[1;33m(\u001b[0m\u001b[0mpart\u001b[0m\u001b[1;33m.\u001b[0m\u001b[0mrjust\u001b[0m\u001b[1;33m(\u001b[0m\u001b[1;36m2\u001b[0m\u001b[1;33m,\u001b[0m \u001b[1;34mb'0'\u001b[0m\u001b[1;33m)\u001b[0m \u001b[1;32mfor\u001b[0m \u001b[0mpart\u001b[0m \u001b[1;32min\u001b[0m \u001b[0mparts\u001b[0m\u001b[1;33m)\u001b[0m\u001b[1;33m\n",
      "\u001b[0m    \u001b[1;32melse\u001b[0m\u001b[1;33m:\u001b[0m\u001b[1;33m\n",
      "\u001b[0m        \u001b[1;32mif\u001b[0m \u001b[1;32mnot\u001b[0m \u001b[0mall\u001b[0m\u001b[1;33m(\u001b[0m\u001b[0mlen\u001b[0m\u001b[1;33m(\u001b[0m\u001b[0mpart\u001b[0m\u001b[1;33m)\u001b[0m \u001b[1;33m==\u001b[0m \u001b[1;36m2\u001b[0m \u001b[1;32mfor\u001b[0m \u001b[0mpart\u001b[0m \u001b[1;32min\u001b[0m \u001b[0mparts\u001b[0m\u001b[1;33m)\u001b[0m\u001b[1;33m:\u001b[0m\u001b[1;33m\n",
      "\u001b[0m            \u001b[1;32mreturn\u001b[0m\u001b[1;33m\n",
      "\u001b[0m        \u001b[0mhexstr\u001b[0m \u001b[1;33m=\u001b[0m \u001b[1;34mb''\u001b[0m\u001b[1;33m.\u001b[0m\u001b[0mjoin\u001b[0m\u001b[1;33m(\u001b[0m\u001b[0mparts\u001b[0m\u001b[1;33m)\u001b[0m\u001b[1;33m\n",
      "\u001b[0m    \u001b[1;32mtry\u001b[0m\u001b[1;33m:\u001b[0m\u001b[1;33m\n",
      "\u001b[0m        \u001b[1;32mreturn\u001b[0m \u001b[0mint\u001b[0m\u001b[1;33m(\u001b[0m\u001b[0mhexstr\u001b[0m\u001b[1;33m,\u001b[0m \u001b[1;36m16\u001b[0m\u001b[1;33m)\u001b[0m\u001b[1;33m\n",
      "\u001b[0m    \u001b[1;32mexcept\u001b[0m \u001b[0mValueError\u001b[0m\u001b[1;33m:\u001b[0m\u001b[1;33m\n",
      "\u001b[0m        \u001b[1;32mreturn\u001b[0m\u001b[1;33m\n",
      "\u001b[0m\u001b[1;33m\n",
      "\u001b[0m\u001b[1;33m\n",
      "\u001b[0m\u001b[1;32mdef\u001b[0m \u001b[0m_find_mac_under_heading\u001b[0m\u001b[1;33m(\u001b[0m\u001b[0mcommand\u001b[0m\u001b[1;33m,\u001b[0m \u001b[0margs\u001b[0m\u001b[1;33m,\u001b[0m \u001b[0mheading\u001b[0m\u001b[1;33m)\u001b[0m\u001b[1;33m:\u001b[0m\u001b[1;33m\n",
      "\u001b[0m    \u001b[1;34m\"\"\"Looks for a MAC address under a heading in a command's output.\n",
      "\n",
      "    The first line of words in the output is searched for the given\n",
      "    heading. Words at the same word index as the heading in subsequent\n",
      "    lines are then examined to see if they look like MAC addresses.\n",
      "    \"\"\"\u001b[0m\u001b[1;33m\n",
      "\u001b[0m    \u001b[0mstdout\u001b[0m \u001b[1;33m=\u001b[0m \u001b[0m_get_command_stdout\u001b[0m\u001b[1;33m(\u001b[0m\u001b[0mcommand\u001b[0m\u001b[1;33m,\u001b[0m \u001b[0margs\u001b[0m\u001b[1;33m)\u001b[0m\u001b[1;33m\n",
      "\u001b[0m    \u001b[1;32mif\u001b[0m \u001b[0mstdout\u001b[0m \u001b[1;32mis\u001b[0m \u001b[1;32mNone\u001b[0m\u001b[1;33m:\u001b[0m\u001b[1;33m\n",
      "\u001b[0m        \u001b[1;32mreturn\u001b[0m \u001b[1;32mNone\u001b[0m\u001b[1;33m\n",
      "\u001b[0m\u001b[1;33m\n",
      "\u001b[0m    \u001b[0mkeywords\u001b[0m \u001b[1;33m=\u001b[0m \u001b[0mstdout\u001b[0m\u001b[1;33m.\u001b[0m\u001b[0mreadline\u001b[0m\u001b[1;33m(\u001b[0m\u001b[1;33m)\u001b[0m\u001b[1;33m.\u001b[0m\u001b[0mrstrip\u001b[0m\u001b[1;33m(\u001b[0m\u001b[1;33m)\u001b[0m\u001b[1;33m.\u001b[0m\u001b[0msplit\u001b[0m\u001b[1;33m(\u001b[0m\u001b[1;33m)\u001b[0m\u001b[1;33m\n",
      "\u001b[0m    \u001b[1;32mtry\u001b[0m\u001b[1;33m:\u001b[0m\u001b[1;33m\n",
      "\u001b[0m        \u001b[0mcolumn_index\u001b[0m \u001b[1;33m=\u001b[0m \u001b[0mkeywords\u001b[0m\u001b[1;33m.\u001b[0m\u001b[0mindex\u001b[0m\u001b[1;33m(\u001b[0m\u001b[0mheading\u001b[0m\u001b[1;33m)\u001b[0m\u001b[1;33m\n",
      "\u001b[0m    \u001b[1;32mexcept\u001b[0m \u001b[0mValueError\u001b[0m\u001b[1;33m:\u001b[0m\u001b[1;33m\n",
      "\u001b[0m        \u001b[1;32mreturn\u001b[0m \u001b[1;32mNone\u001b[0m\u001b[1;33m\n",
      "\u001b[0m\u001b[1;33m\n",
      "\u001b[0m    \u001b[0mfirst_local_mac\u001b[0m \u001b[1;33m=\u001b[0m \u001b[1;32mNone\u001b[0m\u001b[1;33m\n",
      "\u001b[0m    \u001b[1;32mfor\u001b[0m \u001b[0mline\u001b[0m \u001b[1;32min\u001b[0m \u001b[0mstdout\u001b[0m\u001b[1;33m:\u001b[0m\u001b[1;33m\n",
      "\u001b[0m        \u001b[0mwords\u001b[0m \u001b[1;33m=\u001b[0m \u001b[0mline\u001b[0m\u001b[1;33m.\u001b[0m\u001b[0mrstrip\u001b[0m\u001b[1;33m(\u001b[0m\u001b[1;33m)\u001b[0m\u001b[1;33m.\u001b[0m\u001b[0msplit\u001b[0m\u001b[1;33m(\u001b[0m\u001b[1;33m)\u001b[0m\u001b[1;33m\n",
      "\u001b[0m        \u001b[1;32mtry\u001b[0m\u001b[1;33m:\u001b[0m\u001b[1;33m\n",
      "\u001b[0m            \u001b[0mword\u001b[0m \u001b[1;33m=\u001b[0m \u001b[0mwords\u001b[0m\u001b[1;33m[\u001b[0m\u001b[0mcolumn_index\u001b[0m\u001b[1;33m]\u001b[0m\u001b[1;33m\n",
      "\u001b[0m        \u001b[1;32mexcept\u001b[0m \u001b[0mIndexError\u001b[0m\u001b[1;33m:\u001b[0m\u001b[1;33m\n",
      "\u001b[0m            \u001b[1;32mcontinue\u001b[0m\u001b[1;33m\n",
      "\u001b[0m\u001b[1;33m\n",
      "\u001b[0m        \u001b[0mmac\u001b[0m \u001b[1;33m=\u001b[0m \u001b[0m_parse_mac\u001b[0m\u001b[1;33m(\u001b[0m\u001b[0mword\u001b[0m\u001b[1;33m)\u001b[0m\u001b[1;33m\n",
      "\u001b[0m        \u001b[1;32mif\u001b[0m \u001b[0mmac\u001b[0m \u001b[1;32mis\u001b[0m \u001b[1;32mNone\u001b[0m\u001b[1;33m:\u001b[0m\u001b[1;33m\n",
      "\u001b[0m            \u001b[1;32mcontinue\u001b[0m\u001b[1;33m\n",
      "\u001b[0m        \u001b[1;32mif\u001b[0m \u001b[0m_is_universal\u001b[0m\u001b[1;33m(\u001b[0m\u001b[0mmac\u001b[0m\u001b[1;33m)\u001b[0m\u001b[1;33m:\u001b[0m\u001b[1;33m\n",
      "\u001b[0m            \u001b[1;32mreturn\u001b[0m \u001b[0mmac\u001b[0m\u001b[1;33m\n",
      "\u001b[0m        \u001b[1;32mif\u001b[0m \u001b[0mfirst_local_mac\u001b[0m \u001b[1;32mis\u001b[0m \u001b[1;32mNone\u001b[0m\u001b[1;33m:\u001b[0m\u001b[1;33m\n",
      "\u001b[0m            \u001b[0mfirst_local_mac\u001b[0m \u001b[1;33m=\u001b[0m \u001b[0mmac\u001b[0m\u001b[1;33m\n",
      "\u001b[0m\u001b[1;33m\n",
      "\u001b[0m    \u001b[1;32mreturn\u001b[0m \u001b[0mfirst_local_mac\u001b[0m\u001b[1;33m\n",
      "\u001b[0m\u001b[1;33m\n",
      "\u001b[0m\u001b[1;33m\n",
      "\u001b[0m\u001b[1;31m# The following functions call external programs to 'get' a macaddr value to\u001b[0m\u001b[1;33m\n",
      "\u001b[0m\u001b[1;31m# be used as basis for an uuid\u001b[0m\u001b[1;33m\n",
      "\u001b[0m\u001b[1;32mdef\u001b[0m \u001b[0m_ifconfig_getnode\u001b[0m\u001b[1;33m(\u001b[0m\u001b[1;33m)\u001b[0m\u001b[1;33m:\u001b[0m\u001b[1;33m\n",
      "\u001b[0m    \u001b[1;34m\"\"\"Get the hardware address on Unix by running ifconfig.\"\"\"\u001b[0m\u001b[1;33m\n",
      "\u001b[0m    \u001b[1;31m# This works on Linux ('' or '-a'), Tru64 ('-av'), but not all Unixes.\u001b[0m\u001b[1;33m\n",
      "\u001b[0m    \u001b[0mkeywords\u001b[0m \u001b[1;33m=\u001b[0m \u001b[1;33m(\u001b[0m\u001b[1;34mb'hwaddr'\u001b[0m\u001b[1;33m,\u001b[0m \u001b[1;34mb'ether'\u001b[0m\u001b[1;33m,\u001b[0m \u001b[1;34mb'address:'\u001b[0m\u001b[1;33m,\u001b[0m \u001b[1;34mb'lladdr'\u001b[0m\u001b[1;33m)\u001b[0m\u001b[1;33m\n",
      "\u001b[0m    \u001b[1;32mfor\u001b[0m \u001b[0margs\u001b[0m \u001b[1;32min\u001b[0m \u001b[1;33m(\u001b[0m\u001b[1;34m''\u001b[0m\u001b[1;33m,\u001b[0m \u001b[1;34m'-a'\u001b[0m\u001b[1;33m,\u001b[0m \u001b[1;34m'-av'\u001b[0m\u001b[1;33m)\u001b[0m\u001b[1;33m:\u001b[0m\u001b[1;33m\n",
      "\u001b[0m        \u001b[0mmac\u001b[0m \u001b[1;33m=\u001b[0m \u001b[0m_find_mac_near_keyword\u001b[0m\u001b[1;33m(\u001b[0m\u001b[1;34m'ifconfig'\u001b[0m\u001b[1;33m,\u001b[0m \u001b[0margs\u001b[0m\u001b[1;33m,\u001b[0m \u001b[0mkeywords\u001b[0m\u001b[1;33m,\u001b[0m \u001b[1;32mlambda\u001b[0m \u001b[0mi\u001b[0m\u001b[1;33m:\u001b[0m \u001b[0mi\u001b[0m\u001b[1;33m+\u001b[0m\u001b[1;36m1\u001b[0m\u001b[1;33m)\u001b[0m\u001b[1;33m\n",
      "\u001b[0m        \u001b[1;32mif\u001b[0m \u001b[0mmac\u001b[0m\u001b[1;33m:\u001b[0m\u001b[1;33m\n",
      "\u001b[0m            \u001b[1;32mreturn\u001b[0m \u001b[0mmac\u001b[0m\u001b[1;33m\n",
      "\u001b[0m        \u001b[1;32mreturn\u001b[0m \u001b[1;32mNone\u001b[0m\u001b[1;33m\n",
      "\u001b[0m\u001b[1;33m\n",
      "\u001b[0m\u001b[1;32mdef\u001b[0m \u001b[0m_ip_getnode\u001b[0m\u001b[1;33m(\u001b[0m\u001b[1;33m)\u001b[0m\u001b[1;33m:\u001b[0m\u001b[1;33m\n",
      "\u001b[0m    \u001b[1;34m\"\"\"Get the hardware address on Unix by running ip.\"\"\"\u001b[0m\u001b[1;33m\n",
      "\u001b[0m    \u001b[1;31m# This works on Linux with iproute2.\u001b[0m\u001b[1;33m\n",
      "\u001b[0m    \u001b[0mmac\u001b[0m \u001b[1;33m=\u001b[0m \u001b[0m_find_mac_near_keyword\u001b[0m\u001b[1;33m(\u001b[0m\u001b[1;34m'ip'\u001b[0m\u001b[1;33m,\u001b[0m \u001b[1;34m'link'\u001b[0m\u001b[1;33m,\u001b[0m \u001b[1;33m[\u001b[0m\u001b[1;34mb'link/ether'\u001b[0m\u001b[1;33m]\u001b[0m\u001b[1;33m,\u001b[0m \u001b[1;32mlambda\u001b[0m \u001b[0mi\u001b[0m\u001b[1;33m:\u001b[0m \u001b[0mi\u001b[0m\u001b[1;33m+\u001b[0m\u001b[1;36m1\u001b[0m\u001b[1;33m)\u001b[0m\u001b[1;33m\n",
      "\u001b[0m    \u001b[1;32mif\u001b[0m \u001b[0mmac\u001b[0m\u001b[1;33m:\u001b[0m\u001b[1;33m\n",
      "\u001b[0m        \u001b[1;32mreturn\u001b[0m \u001b[0mmac\u001b[0m\u001b[1;33m\n",
      "\u001b[0m    \u001b[1;32mreturn\u001b[0m \u001b[1;32mNone\u001b[0m\u001b[1;33m\n",
      "\u001b[0m\u001b[1;33m\n",
      "\u001b[0m\u001b[1;32mdef\u001b[0m \u001b[0m_arp_getnode\u001b[0m\u001b[1;33m(\u001b[0m\u001b[1;33m)\u001b[0m\u001b[1;33m:\u001b[0m\u001b[1;33m\n",
      "\u001b[0m    \u001b[1;34m\"\"\"Get the hardware address on Unix by running arp.\"\"\"\u001b[0m\u001b[1;33m\n",
      "\u001b[0m    \u001b[1;32mimport\u001b[0m \u001b[0mos\u001b[0m\u001b[1;33m,\u001b[0m \u001b[0msocket\u001b[0m\u001b[1;33m\n",
      "\u001b[0m    \u001b[1;32mtry\u001b[0m\u001b[1;33m:\u001b[0m\u001b[1;33m\n",
      "\u001b[0m        \u001b[0mip_addr\u001b[0m \u001b[1;33m=\u001b[0m \u001b[0msocket\u001b[0m\u001b[1;33m.\u001b[0m\u001b[0mgethostbyname\u001b[0m\u001b[1;33m(\u001b[0m\u001b[0msocket\u001b[0m\u001b[1;33m.\u001b[0m\u001b[0mgethostname\u001b[0m\u001b[1;33m(\u001b[0m\u001b[1;33m)\u001b[0m\u001b[1;33m)\u001b[0m\u001b[1;33m\n",
      "\u001b[0m    \u001b[1;32mexcept\u001b[0m \u001b[0mOSError\u001b[0m\u001b[1;33m:\u001b[0m\u001b[1;33m\n",
      "\u001b[0m        \u001b[1;32mreturn\u001b[0m \u001b[1;32mNone\u001b[0m\u001b[1;33m\n",
      "\u001b[0m\u001b[1;33m\n",
      "\u001b[0m    \u001b[1;31m# Try getting the MAC addr from arp based on our IP address (Solaris).\u001b[0m\u001b[1;33m\n",
      "\u001b[0m    \u001b[0mmac\u001b[0m \u001b[1;33m=\u001b[0m \u001b[0m_find_mac_near_keyword\u001b[0m\u001b[1;33m(\u001b[0m\u001b[1;34m'arp'\u001b[0m\u001b[1;33m,\u001b[0m \u001b[1;34m'-an'\u001b[0m\u001b[1;33m,\u001b[0m \u001b[1;33m[\u001b[0m\u001b[0mos\u001b[0m\u001b[1;33m.\u001b[0m\u001b[0mfsencode\u001b[0m\u001b[1;33m(\u001b[0m\u001b[0mip_addr\u001b[0m\u001b[1;33m)\u001b[0m\u001b[1;33m]\u001b[0m\u001b[1;33m,\u001b[0m \u001b[1;32mlambda\u001b[0m \u001b[0mi\u001b[0m\u001b[1;33m:\u001b[0m \u001b[1;33m-\u001b[0m\u001b[1;36m1\u001b[0m\u001b[1;33m)\u001b[0m\u001b[1;33m\n",
      "\u001b[0m    \u001b[1;32mif\u001b[0m \u001b[0mmac\u001b[0m\u001b[1;33m:\u001b[0m\u001b[1;33m\n",
      "\u001b[0m        \u001b[1;32mreturn\u001b[0m \u001b[0mmac\u001b[0m\u001b[1;33m\n",
      "\u001b[0m\u001b[1;33m\n",
      "\u001b[0m    \u001b[1;31m# This works on OpenBSD\u001b[0m\u001b[1;33m\n",
      "\u001b[0m    \u001b[0mmac\u001b[0m \u001b[1;33m=\u001b[0m \u001b[0m_find_mac_near_keyword\u001b[0m\u001b[1;33m(\u001b[0m\u001b[1;34m'arp'\u001b[0m\u001b[1;33m,\u001b[0m \u001b[1;34m'-an'\u001b[0m\u001b[1;33m,\u001b[0m \u001b[1;33m[\u001b[0m\u001b[0mos\u001b[0m\u001b[1;33m.\u001b[0m\u001b[0mfsencode\u001b[0m\u001b[1;33m(\u001b[0m\u001b[0mip_addr\u001b[0m\u001b[1;33m)\u001b[0m\u001b[1;33m]\u001b[0m\u001b[1;33m,\u001b[0m \u001b[1;32mlambda\u001b[0m \u001b[0mi\u001b[0m\u001b[1;33m:\u001b[0m \u001b[0mi\u001b[0m\u001b[1;33m+\u001b[0m\u001b[1;36m1\u001b[0m\u001b[1;33m)\u001b[0m\u001b[1;33m\n",
      "\u001b[0m    \u001b[1;32mif\u001b[0m \u001b[0mmac\u001b[0m\u001b[1;33m:\u001b[0m\u001b[1;33m\n",
      "\u001b[0m        \u001b[1;32mreturn\u001b[0m \u001b[0mmac\u001b[0m\u001b[1;33m\n",
      "\u001b[0m\u001b[1;33m\n",
      "\u001b[0m    \u001b[1;31m# This works on Linux, FreeBSD and NetBSD\u001b[0m\u001b[1;33m\n",
      "\u001b[0m    \u001b[0mmac\u001b[0m \u001b[1;33m=\u001b[0m \u001b[0m_find_mac_near_keyword\u001b[0m\u001b[1;33m(\u001b[0m\u001b[1;34m'arp'\u001b[0m\u001b[1;33m,\u001b[0m \u001b[1;34m'-an'\u001b[0m\u001b[1;33m,\u001b[0m \u001b[1;33m[\u001b[0m\u001b[0mos\u001b[0m\u001b[1;33m.\u001b[0m\u001b[0mfsencode\u001b[0m\u001b[1;33m(\u001b[0m\u001b[1;34m'(%s)'\u001b[0m \u001b[1;33m%\u001b[0m \u001b[0mip_addr\u001b[0m\u001b[1;33m)\u001b[0m\u001b[1;33m]\u001b[0m\u001b[1;33m,\u001b[0m\u001b[1;33m\n",
      "\u001b[0m                    \u001b[1;32mlambda\u001b[0m \u001b[0mi\u001b[0m\u001b[1;33m:\u001b[0m \u001b[0mi\u001b[0m\u001b[1;33m+\u001b[0m\u001b[1;36m2\u001b[0m\u001b[1;33m)\u001b[0m\u001b[1;33m\n",
      "\u001b[0m    \u001b[1;31m# Return None instead of 0.\u001b[0m\u001b[1;33m\n",
      "\u001b[0m    \u001b[1;32mif\u001b[0m \u001b[0mmac\u001b[0m\u001b[1;33m:\u001b[0m\u001b[1;33m\n",
      "\u001b[0m        \u001b[1;32mreturn\u001b[0m \u001b[0mmac\u001b[0m\u001b[1;33m\n",
      "\u001b[0m    \u001b[1;32mreturn\u001b[0m \u001b[1;32mNone\u001b[0m\u001b[1;33m\n",
      "\u001b[0m\u001b[1;33m\n",
      "\u001b[0m\u001b[1;32mdef\u001b[0m \u001b[0m_lanscan_getnode\u001b[0m\u001b[1;33m(\u001b[0m\u001b[1;33m)\u001b[0m\u001b[1;33m:\u001b[0m\u001b[1;33m\n",
      "\u001b[0m    \u001b[1;34m\"\"\"Get the hardware address on Unix by running lanscan.\"\"\"\u001b[0m\u001b[1;33m\n",
      "\u001b[0m    \u001b[1;31m# This might work on HP-UX.\u001b[0m\u001b[1;33m\n",
      "\u001b[0m    \u001b[1;32mreturn\u001b[0m \u001b[0m_find_mac_near_keyword\u001b[0m\u001b[1;33m(\u001b[0m\u001b[1;34m'lanscan'\u001b[0m\u001b[1;33m,\u001b[0m \u001b[1;34m'-ai'\u001b[0m\u001b[1;33m,\u001b[0m \u001b[1;33m[\u001b[0m\u001b[1;34mb'lan0'\u001b[0m\u001b[1;33m]\u001b[0m\u001b[1;33m,\u001b[0m \u001b[1;32mlambda\u001b[0m \u001b[0mi\u001b[0m\u001b[1;33m:\u001b[0m \u001b[1;36m0\u001b[0m\u001b[1;33m)\u001b[0m\u001b[1;33m\n",
      "\u001b[0m\u001b[1;33m\n",
      "\u001b[0m\u001b[1;32mdef\u001b[0m \u001b[0m_netstat_getnode\u001b[0m\u001b[1;33m(\u001b[0m\u001b[1;33m)\u001b[0m\u001b[1;33m:\u001b[0m\u001b[1;33m\n",
      "\u001b[0m    \u001b[1;34m\"\"\"Get the hardware address on Unix by running netstat.\"\"\"\u001b[0m\u001b[1;33m\n",
      "\u001b[0m    \u001b[1;31m# This works on AIX and might work on Tru64 UNIX.\u001b[0m\u001b[1;33m\n",
      "\u001b[0m    \u001b[1;32mreturn\u001b[0m \u001b[0m_find_mac_under_heading\u001b[0m\u001b[1;33m(\u001b[0m\u001b[1;34m'netstat'\u001b[0m\u001b[1;33m,\u001b[0m \u001b[1;34m'-ian'\u001b[0m\u001b[1;33m,\u001b[0m \u001b[1;34mb'Address'\u001b[0m\u001b[1;33m)\u001b[0m\u001b[1;33m\n",
      "\u001b[0m\u001b[1;33m\n",
      "\u001b[0m\u001b[1;32mdef\u001b[0m \u001b[0m_ipconfig_getnode\u001b[0m\u001b[1;33m(\u001b[0m\u001b[1;33m)\u001b[0m\u001b[1;33m:\u001b[0m\u001b[1;33m\n",
      "\u001b[0m    \u001b[1;34m\"\"\"[DEPRECATED] Get the hardware address on Windows.\"\"\"\u001b[0m\u001b[1;33m\n",
      "\u001b[0m    \u001b[1;31m# bpo-40501: UuidCreateSequential() is now the only supported approach\u001b[0m\u001b[1;33m\n",
      "\u001b[0m    \u001b[1;32mreturn\u001b[0m \u001b[0m_windll_getnode\u001b[0m\u001b[1;33m(\u001b[0m\u001b[1;33m)\u001b[0m\u001b[1;33m\n",
      "\u001b[0m\u001b[1;33m\n",
      "\u001b[0m\u001b[1;32mdef\u001b[0m \u001b[0m_netbios_getnode\u001b[0m\u001b[1;33m(\u001b[0m\u001b[1;33m)\u001b[0m\u001b[1;33m:\u001b[0m\u001b[1;33m\n",
      "\u001b[0m    \u001b[1;34m\"\"\"[DEPRECATED] Get the hardware address on Windows.\"\"\"\u001b[0m\u001b[1;33m\n",
      "\u001b[0m    \u001b[1;31m# bpo-40501: UuidCreateSequential() is now the only supported approach\u001b[0m\u001b[1;33m\n",
      "\u001b[0m    \u001b[1;32mreturn\u001b[0m \u001b[0m_windll_getnode\u001b[0m\u001b[1;33m(\u001b[0m\u001b[1;33m)\u001b[0m\u001b[1;33m\n",
      "\u001b[0m\u001b[1;33m\n",
      "\u001b[0m\u001b[1;33m\n",
      "\u001b[0m\u001b[1;31m# Import optional C extension at toplevel, to help disabling it when testing\u001b[0m\u001b[1;33m\n",
      "\u001b[0m\u001b[1;32mtry\u001b[0m\u001b[1;33m:\u001b[0m\u001b[1;33m\n",
      "\u001b[0m    \u001b[1;32mimport\u001b[0m \u001b[0m_uuid\u001b[0m\u001b[1;33m\n",
      "\u001b[0m    \u001b[0m_generate_time_safe\u001b[0m \u001b[1;33m=\u001b[0m \u001b[0mgetattr\u001b[0m\u001b[1;33m(\u001b[0m\u001b[0m_uuid\u001b[0m\u001b[1;33m,\u001b[0m \u001b[1;34m\"generate_time_safe\"\u001b[0m\u001b[1;33m,\u001b[0m \u001b[1;32mNone\u001b[0m\u001b[1;33m)\u001b[0m\u001b[1;33m\n",
      "\u001b[0m    \u001b[0m_UuidCreate\u001b[0m \u001b[1;33m=\u001b[0m \u001b[0mgetattr\u001b[0m\u001b[1;33m(\u001b[0m\u001b[0m_uuid\u001b[0m\u001b[1;33m,\u001b[0m \u001b[1;34m\"UuidCreate\"\u001b[0m\u001b[1;33m,\u001b[0m \u001b[1;32mNone\u001b[0m\u001b[1;33m)\u001b[0m\u001b[1;33m\n",
      "\u001b[0m    \u001b[0m_has_uuid_generate_time_safe\u001b[0m \u001b[1;33m=\u001b[0m \u001b[0m_uuid\u001b[0m\u001b[1;33m.\u001b[0m\u001b[0mhas_uuid_generate_time_safe\u001b[0m\u001b[1;33m\n",
      "\u001b[0m\u001b[1;32mexcept\u001b[0m \u001b[0mImportError\u001b[0m\u001b[1;33m:\u001b[0m\u001b[1;33m\n",
      "\u001b[0m    \u001b[0m_uuid\u001b[0m \u001b[1;33m=\u001b[0m \u001b[1;32mNone\u001b[0m\u001b[1;33m\n",
      "\u001b[0m    \u001b[0m_generate_time_safe\u001b[0m \u001b[1;33m=\u001b[0m \u001b[1;32mNone\u001b[0m\u001b[1;33m\n",
      "\u001b[0m    \u001b[0m_UuidCreate\u001b[0m \u001b[1;33m=\u001b[0m \u001b[1;32mNone\u001b[0m\u001b[1;33m\n",
      "\u001b[0m    \u001b[0m_has_uuid_generate_time_safe\u001b[0m \u001b[1;33m=\u001b[0m \u001b[1;32mNone\u001b[0m\u001b[1;33m\n",
      "\u001b[0m\u001b[1;33m\n",
      "\u001b[0m\u001b[1;33m\n",
      "\u001b[0m\u001b[1;32mdef\u001b[0m \u001b[0m_load_system_functions\u001b[0m\u001b[1;33m(\u001b[0m\u001b[1;33m)\u001b[0m\u001b[1;33m:\u001b[0m\u001b[1;33m\n",
      "\u001b[0m    \u001b[1;34m\"\"\"[DEPRECATED] Platform-specific functions loaded at import time\"\"\"\u001b[0m\u001b[1;33m\n",
      "\u001b[0m\u001b[1;33m\n",
      "\u001b[0m\u001b[1;33m\n",
      "\u001b[0m\u001b[1;32mdef\u001b[0m \u001b[0m_unix_getnode\u001b[0m\u001b[1;33m(\u001b[0m\u001b[1;33m)\u001b[0m\u001b[1;33m:\u001b[0m\u001b[1;33m\n",
      "\u001b[0m    \u001b[1;34m\"\"\"Get the hardware address on Unix using the _uuid extension module.\"\"\"\u001b[0m\u001b[1;33m\n",
      "\u001b[0m    \u001b[1;32mif\u001b[0m \u001b[0m_generate_time_safe\u001b[0m\u001b[1;33m:\u001b[0m\u001b[1;33m\n",
      "\u001b[0m        \u001b[0muuid_time\u001b[0m\u001b[1;33m,\u001b[0m \u001b[0m_\u001b[0m \u001b[1;33m=\u001b[0m \u001b[0m_generate_time_safe\u001b[0m\u001b[1;33m(\u001b[0m\u001b[1;33m)\u001b[0m\u001b[1;33m\n",
      "\u001b[0m        \u001b[1;32mreturn\u001b[0m \u001b[0mUUID\u001b[0m\u001b[1;33m(\u001b[0m\u001b[0mbytes\u001b[0m\u001b[1;33m=\u001b[0m\u001b[0muuid_time\u001b[0m\u001b[1;33m)\u001b[0m\u001b[1;33m.\u001b[0m\u001b[0mnode\u001b[0m\u001b[1;33m\n",
      "\u001b[0m\u001b[1;33m\n",
      "\u001b[0m\u001b[1;32mdef\u001b[0m \u001b[0m_windll_getnode\u001b[0m\u001b[1;33m(\u001b[0m\u001b[1;33m)\u001b[0m\u001b[1;33m:\u001b[0m\u001b[1;33m\n",
      "\u001b[0m    \u001b[1;34m\"\"\"Get the hardware address on Windows using the _uuid extension module.\"\"\"\u001b[0m\u001b[1;33m\n",
      "\u001b[0m    \u001b[1;32mif\u001b[0m \u001b[0m_UuidCreate\u001b[0m\u001b[1;33m:\u001b[0m\u001b[1;33m\n",
      "\u001b[0m        \u001b[0muuid_bytes\u001b[0m \u001b[1;33m=\u001b[0m \u001b[0m_UuidCreate\u001b[0m\u001b[1;33m(\u001b[0m\u001b[1;33m)\u001b[0m\u001b[1;33m\n",
      "\u001b[0m        \u001b[1;32mreturn\u001b[0m \u001b[0mUUID\u001b[0m\u001b[1;33m(\u001b[0m\u001b[0mbytes_le\u001b[0m\u001b[1;33m=\u001b[0m\u001b[0muuid_bytes\u001b[0m\u001b[1;33m)\u001b[0m\u001b[1;33m.\u001b[0m\u001b[0mnode\u001b[0m\u001b[1;33m\n",
      "\u001b[0m\u001b[1;33m\n",
      "\u001b[0m\u001b[1;32mdef\u001b[0m \u001b[0m_random_getnode\u001b[0m\u001b[1;33m(\u001b[0m\u001b[1;33m)\u001b[0m\u001b[1;33m:\u001b[0m\u001b[1;33m\n",
      "\u001b[0m    \u001b[1;34m\"\"\"Get a random node ID.\"\"\"\u001b[0m\u001b[1;33m\n",
      "\u001b[0m    \u001b[1;31m# RFC 4122, $4.1.6 says \"For systems with no IEEE address, a randomly or\u001b[0m\u001b[1;33m\n",
      "\u001b[0m    \u001b[1;31m# pseudo-randomly generated value may be used; see Section 4.5.  The\u001b[0m\u001b[1;33m\n",
      "\u001b[0m    \u001b[1;31m# multicast bit must be set in such addresses, in order that they will\u001b[0m\u001b[1;33m\n",
      "\u001b[0m    \u001b[1;31m# never conflict with addresses obtained from network cards.\"\u001b[0m\u001b[1;33m\n",
      "\u001b[0m    \u001b[1;31m#\u001b[0m\u001b[1;33m\n",
      "\u001b[0m    \u001b[1;31m# The \"multicast bit\" of a MAC address is defined to be \"the least\u001b[0m\u001b[1;33m\n",
      "\u001b[0m    \u001b[1;31m# significant bit of the first octet\".  This works out to be the 41st bit\u001b[0m\u001b[1;33m\n",
      "\u001b[0m    \u001b[1;31m# counting from 1 being the least significant bit, or 1<<40.\u001b[0m\u001b[1;33m\n",
      "\u001b[0m    \u001b[1;31m#\u001b[0m\u001b[1;33m\n",
      "\u001b[0m    \u001b[1;31m# See https://en.wikipedia.org/wiki/MAC_address#Unicast_vs._multicast\u001b[0m\u001b[1;33m\n",
      "\u001b[0m    \u001b[1;32mimport\u001b[0m \u001b[0mrandom\u001b[0m\u001b[1;33m\n",
      "\u001b[0m    \u001b[1;32mreturn\u001b[0m \u001b[0mrandom\u001b[0m\u001b[1;33m.\u001b[0m\u001b[0mgetrandbits\u001b[0m\u001b[1;33m(\u001b[0m\u001b[1;36m48\u001b[0m\u001b[1;33m)\u001b[0m \u001b[1;33m|\u001b[0m \u001b[1;33m(\u001b[0m\u001b[1;36m1\u001b[0m \u001b[1;33m<<\u001b[0m \u001b[1;36m40\u001b[0m\u001b[1;33m)\u001b[0m\u001b[1;33m\n",
      "\u001b[0m\u001b[1;33m\n",
      "\u001b[0m\u001b[1;33m\n",
      "\u001b[0m\u001b[1;31m# _OS_GETTERS, when known, are targeted for a specific OS or platform.\u001b[0m\u001b[1;33m\n",
      "\u001b[0m\u001b[1;31m# The order is by 'common practice' on the specified platform.\u001b[0m\u001b[1;33m\n",
      "\u001b[0m\u001b[1;31m# Note: 'posix' and 'windows' _OS_GETTERS are prefixed by a dll/dlload() method\u001b[0m\u001b[1;33m\n",
      "\u001b[0m\u001b[1;31m# which, when successful, means none of these \"external\" methods are called.\u001b[0m\u001b[1;33m\n",
      "\u001b[0m\u001b[1;31m# _GETTERS is (also) used by test_uuid.py to SkipUnless(), e.g.,\u001b[0m\u001b[1;33m\n",
      "\u001b[0m\u001b[1;31m#     @unittest.skipUnless(_uuid._ifconfig_getnode in _uuid._GETTERS, ...)\u001b[0m\u001b[1;33m\n",
      "\u001b[0m\u001b[1;32mif\u001b[0m \u001b[0m_LINUX\u001b[0m\u001b[1;33m:\u001b[0m\u001b[1;33m\n",
      "\u001b[0m    \u001b[0m_OS_GETTERS\u001b[0m \u001b[1;33m=\u001b[0m \u001b[1;33m[\u001b[0m\u001b[0m_ip_getnode\u001b[0m\u001b[1;33m,\u001b[0m \u001b[0m_ifconfig_getnode\u001b[0m\u001b[1;33m]\u001b[0m\u001b[1;33m\n",
      "\u001b[0m\u001b[1;32melif\u001b[0m \u001b[0msys\u001b[0m\u001b[1;33m.\u001b[0m\u001b[0mplatform\u001b[0m \u001b[1;33m==\u001b[0m \u001b[1;34m'darwin'\u001b[0m\u001b[1;33m:\u001b[0m\u001b[1;33m\n",
      "\u001b[0m    \u001b[0m_OS_GETTERS\u001b[0m \u001b[1;33m=\u001b[0m \u001b[1;33m[\u001b[0m\u001b[0m_ifconfig_getnode\u001b[0m\u001b[1;33m,\u001b[0m \u001b[0m_arp_getnode\u001b[0m\u001b[1;33m,\u001b[0m \u001b[0m_netstat_getnode\u001b[0m\u001b[1;33m]\u001b[0m\u001b[1;33m\n",
      "\u001b[0m\u001b[1;32melif\u001b[0m \u001b[0msys\u001b[0m\u001b[1;33m.\u001b[0m\u001b[0mplatform\u001b[0m \u001b[1;33m==\u001b[0m \u001b[1;34m'win32'\u001b[0m\u001b[1;33m:\u001b[0m\u001b[1;33m\n",
      "\u001b[0m    \u001b[1;31m# bpo-40201: _windll_getnode will always succeed, so these are not needed\u001b[0m\u001b[1;33m\n",
      "\u001b[0m    \u001b[0m_OS_GETTERS\u001b[0m \u001b[1;33m=\u001b[0m \u001b[1;33m[\u001b[0m\u001b[1;33m]\u001b[0m\u001b[1;33m\n",
      "\u001b[0m\u001b[1;32melif\u001b[0m \u001b[0m_AIX\u001b[0m\u001b[1;33m:\u001b[0m\u001b[1;33m\n",
      "\u001b[0m    \u001b[0m_OS_GETTERS\u001b[0m \u001b[1;33m=\u001b[0m \u001b[1;33m[\u001b[0m\u001b[0m_netstat_getnode\u001b[0m\u001b[1;33m]\u001b[0m\u001b[1;33m\n",
      "\u001b[0m\u001b[1;32melse\u001b[0m\u001b[1;33m:\u001b[0m\u001b[1;33m\n",
      "\u001b[0m    \u001b[0m_OS_GETTERS\u001b[0m \u001b[1;33m=\u001b[0m \u001b[1;33m[\u001b[0m\u001b[0m_ifconfig_getnode\u001b[0m\u001b[1;33m,\u001b[0m \u001b[0m_ip_getnode\u001b[0m\u001b[1;33m,\u001b[0m \u001b[0m_arp_getnode\u001b[0m\u001b[1;33m,\u001b[0m\u001b[1;33m\n",
      "\u001b[0m                   \u001b[0m_netstat_getnode\u001b[0m\u001b[1;33m,\u001b[0m \u001b[0m_lanscan_getnode\u001b[0m\u001b[1;33m]\u001b[0m\u001b[1;33m\n",
      "\u001b[0m\u001b[1;32mif\u001b[0m \u001b[0mos\u001b[0m\u001b[1;33m.\u001b[0m\u001b[0mname\u001b[0m \u001b[1;33m==\u001b[0m \u001b[1;34m'posix'\u001b[0m\u001b[1;33m:\u001b[0m\u001b[1;33m\n",
      "\u001b[0m    \u001b[0m_GETTERS\u001b[0m \u001b[1;33m=\u001b[0m \u001b[1;33m[\u001b[0m\u001b[0m_unix_getnode\u001b[0m\u001b[1;33m]\u001b[0m \u001b[1;33m+\u001b[0m \u001b[0m_OS_GETTERS\u001b[0m\u001b[1;33m\n",
      "\u001b[0m\u001b[1;32melif\u001b[0m \u001b[0mos\u001b[0m\u001b[1;33m.\u001b[0m\u001b[0mname\u001b[0m \u001b[1;33m==\u001b[0m \u001b[1;34m'nt'\u001b[0m\u001b[1;33m:\u001b[0m\u001b[1;33m\n",
      "\u001b[0m    \u001b[0m_GETTERS\u001b[0m \u001b[1;33m=\u001b[0m \u001b[1;33m[\u001b[0m\u001b[0m_windll_getnode\u001b[0m\u001b[1;33m]\u001b[0m \u001b[1;33m+\u001b[0m \u001b[0m_OS_GETTERS\u001b[0m\u001b[1;33m\n",
      "\u001b[0m\u001b[1;32melse\u001b[0m\u001b[1;33m:\u001b[0m\u001b[1;33m\n",
      "\u001b[0m    \u001b[0m_GETTERS\u001b[0m \u001b[1;33m=\u001b[0m \u001b[0m_OS_GETTERS\u001b[0m\u001b[1;33m\n",
      "\u001b[0m\u001b[1;33m\n",
      "\u001b[0m\u001b[0m_node\u001b[0m \u001b[1;33m=\u001b[0m \u001b[1;32mNone\u001b[0m\u001b[1;33m\n",
      "\u001b[0m\u001b[1;33m\n",
      "\u001b[0m\u001b[1;32mdef\u001b[0m \u001b[0mgetnode\u001b[0m\u001b[1;33m(\u001b[0m\u001b[1;33m)\u001b[0m\u001b[1;33m:\u001b[0m\u001b[1;33m\n",
      "\u001b[0m    \u001b[1;34m\"\"\"Get the hardware address as a 48-bit positive integer.\n",
      "\n",
      "    The first time this runs, it may launch a separate program, which could\n",
      "    be quite slow.  If all attempts to obtain the hardware address fail, we\n",
      "    choose a random 48-bit number with its eighth bit set to 1 as recommended\n",
      "    in RFC 4122.\n",
      "    \"\"\"\u001b[0m\u001b[1;33m\n",
      "\u001b[0m    \u001b[1;32mglobal\u001b[0m \u001b[0m_node\u001b[0m\u001b[1;33m\n",
      "\u001b[0m    \u001b[1;32mif\u001b[0m \u001b[0m_node\u001b[0m \u001b[1;32mis\u001b[0m \u001b[1;32mnot\u001b[0m \u001b[1;32mNone\u001b[0m\u001b[1;33m:\u001b[0m\u001b[1;33m\n",
      "\u001b[0m        \u001b[1;32mreturn\u001b[0m \u001b[0m_node\u001b[0m\u001b[1;33m\n",
      "\u001b[0m\u001b[1;33m\n",
      "\u001b[0m    \u001b[1;32mfor\u001b[0m \u001b[0mgetter\u001b[0m \u001b[1;32min\u001b[0m \u001b[0m_GETTERS\u001b[0m \u001b[1;33m+\u001b[0m \u001b[1;33m[\u001b[0m\u001b[0m_random_getnode\u001b[0m\u001b[1;33m]\u001b[0m\u001b[1;33m:\u001b[0m\u001b[1;33m\n",
      "\u001b[0m        \u001b[1;32mtry\u001b[0m\u001b[1;33m:\u001b[0m\u001b[1;33m\n",
      "\u001b[0m            \u001b[0m_node\u001b[0m \u001b[1;33m=\u001b[0m \u001b[0mgetter\u001b[0m\u001b[1;33m(\u001b[0m\u001b[1;33m)\u001b[0m\u001b[1;33m\n",
      "\u001b[0m        \u001b[1;32mexcept\u001b[0m\u001b[1;33m:\u001b[0m\u001b[1;33m\n",
      "\u001b[0m            \u001b[1;32mcontinue\u001b[0m\u001b[1;33m\n",
      "\u001b[0m        \u001b[1;32mif\u001b[0m \u001b[1;33m(\u001b[0m\u001b[0m_node\u001b[0m \u001b[1;32mis\u001b[0m \u001b[1;32mnot\u001b[0m \u001b[1;32mNone\u001b[0m\u001b[1;33m)\u001b[0m \u001b[1;32mand\u001b[0m \u001b[1;33m(\u001b[0m\u001b[1;36m0\u001b[0m \u001b[1;33m<=\u001b[0m \u001b[0m_node\u001b[0m \u001b[1;33m<\u001b[0m \u001b[1;33m(\u001b[0m\u001b[1;36m1\u001b[0m \u001b[1;33m<<\u001b[0m \u001b[1;36m48\u001b[0m\u001b[1;33m)\u001b[0m\u001b[1;33m)\u001b[0m\u001b[1;33m:\u001b[0m\u001b[1;33m\n",
      "\u001b[0m            \u001b[1;32mreturn\u001b[0m \u001b[0m_node\u001b[0m\u001b[1;33m\n",
      "\u001b[0m    \u001b[1;32massert\u001b[0m \u001b[1;32mFalse\u001b[0m\u001b[1;33m,\u001b[0m \u001b[1;34m'_random_getnode() returned invalid value: {}'\u001b[0m\u001b[1;33m.\u001b[0m\u001b[0mformat\u001b[0m\u001b[1;33m(\u001b[0m\u001b[0m_node\u001b[0m\u001b[1;33m)\u001b[0m\u001b[1;33m\n",
      "\u001b[0m\u001b[1;33m\n",
      "\u001b[0m\u001b[1;33m\n",
      "\u001b[0m\u001b[0m_last_timestamp\u001b[0m \u001b[1;33m=\u001b[0m \u001b[1;32mNone\u001b[0m\u001b[1;33m\n",
      "\u001b[0m\u001b[1;33m\n",
      "\u001b[0m\u001b[1;32mdef\u001b[0m \u001b[0muuid1\u001b[0m\u001b[1;33m(\u001b[0m\u001b[0mnode\u001b[0m\u001b[1;33m=\u001b[0m\u001b[1;32mNone\u001b[0m\u001b[1;33m,\u001b[0m \u001b[0mclock_seq\u001b[0m\u001b[1;33m=\u001b[0m\u001b[1;32mNone\u001b[0m\u001b[1;33m)\u001b[0m\u001b[1;33m:\u001b[0m\u001b[1;33m\n",
      "\u001b[0m    \u001b[1;34m\"\"\"Generate a UUID from a host ID, sequence number, and the current time.\n",
      "    If 'node' is not given, getnode() is used to obtain the hardware\n",
      "    address.  If 'clock_seq' is given, it is used as the sequence number;\n",
      "    otherwise a random 14-bit sequence number is chosen.\"\"\"\u001b[0m\u001b[1;33m\n",
      "\u001b[0m\u001b[1;33m\n",
      "\u001b[0m    \u001b[1;31m# When the system provides a version-1 UUID generator, use it (but don't\u001b[0m\u001b[1;33m\n",
      "\u001b[0m    \u001b[1;31m# use UuidCreate here because its UUIDs don't conform to RFC 4122).\u001b[0m\u001b[1;33m\n",
      "\u001b[0m    \u001b[1;32mif\u001b[0m \u001b[0m_generate_time_safe\u001b[0m \u001b[1;32mis\u001b[0m \u001b[1;32mnot\u001b[0m \u001b[1;32mNone\u001b[0m \u001b[1;32mand\u001b[0m \u001b[0mnode\u001b[0m \u001b[1;32mis\u001b[0m \u001b[0mclock_seq\u001b[0m \u001b[1;32mis\u001b[0m \u001b[1;32mNone\u001b[0m\u001b[1;33m:\u001b[0m\u001b[1;33m\n",
      "\u001b[0m        \u001b[0muuid_time\u001b[0m\u001b[1;33m,\u001b[0m \u001b[0msafely_generated\u001b[0m \u001b[1;33m=\u001b[0m \u001b[0m_generate_time_safe\u001b[0m\u001b[1;33m(\u001b[0m\u001b[1;33m)\u001b[0m\u001b[1;33m\n",
      "\u001b[0m        \u001b[1;32mtry\u001b[0m\u001b[1;33m:\u001b[0m\u001b[1;33m\n",
      "\u001b[0m            \u001b[0mis_safe\u001b[0m \u001b[1;33m=\u001b[0m \u001b[0mSafeUUID\u001b[0m\u001b[1;33m(\u001b[0m\u001b[0msafely_generated\u001b[0m\u001b[1;33m)\u001b[0m\u001b[1;33m\n",
      "\u001b[0m        \u001b[1;32mexcept\u001b[0m \u001b[0mValueError\u001b[0m\u001b[1;33m:\u001b[0m\u001b[1;33m\n",
      "\u001b[0m            \u001b[0mis_safe\u001b[0m \u001b[1;33m=\u001b[0m \u001b[0mSafeUUID\u001b[0m\u001b[1;33m.\u001b[0m\u001b[0munknown\u001b[0m\u001b[1;33m\n",
      "\u001b[0m        \u001b[1;32mreturn\u001b[0m \u001b[0mUUID\u001b[0m\u001b[1;33m(\u001b[0m\u001b[0mbytes\u001b[0m\u001b[1;33m=\u001b[0m\u001b[0muuid_time\u001b[0m\u001b[1;33m,\u001b[0m \u001b[0mis_safe\u001b[0m\u001b[1;33m=\u001b[0m\u001b[0mis_safe\u001b[0m\u001b[1;33m)\u001b[0m\u001b[1;33m\n",
      "\u001b[0m\u001b[1;33m\n",
      "\u001b[0m    \u001b[1;32mglobal\u001b[0m \u001b[0m_last_timestamp\u001b[0m\u001b[1;33m\n",
      "\u001b[0m    \u001b[1;32mimport\u001b[0m \u001b[0mtime\u001b[0m\u001b[1;33m\n",
      "\u001b[0m    \u001b[0mnanoseconds\u001b[0m \u001b[1;33m=\u001b[0m \u001b[0mtime\u001b[0m\u001b[1;33m.\u001b[0m\u001b[0mtime_ns\u001b[0m\u001b[1;33m(\u001b[0m\u001b[1;33m)\u001b[0m\u001b[1;33m\n",
      "\u001b[0m    \u001b[1;31m# 0x01b21dd213814000 is the number of 100-ns intervals between the\u001b[0m\u001b[1;33m\n",
      "\u001b[0m    \u001b[1;31m# UUID epoch 1582-10-15 00:00:00 and the Unix epoch 1970-01-01 00:00:00.\u001b[0m\u001b[1;33m\n",
      "\u001b[0m    \u001b[0mtimestamp\u001b[0m \u001b[1;33m=\u001b[0m \u001b[0mnanoseconds\u001b[0m \u001b[1;33m//\u001b[0m \u001b[1;36m100\u001b[0m \u001b[1;33m+\u001b[0m \u001b[1;36m0x01b21dd213814000\u001b[0m\u001b[1;33m\n",
      "\u001b[0m    \u001b[1;32mif\u001b[0m \u001b[0m_last_timestamp\u001b[0m \u001b[1;32mis\u001b[0m \u001b[1;32mnot\u001b[0m \u001b[1;32mNone\u001b[0m \u001b[1;32mand\u001b[0m \u001b[0mtimestamp\u001b[0m \u001b[1;33m<=\u001b[0m \u001b[0m_last_timestamp\u001b[0m\u001b[1;33m:\u001b[0m\u001b[1;33m\n",
      "\u001b[0m        \u001b[0mtimestamp\u001b[0m \u001b[1;33m=\u001b[0m \u001b[0m_last_timestamp\u001b[0m \u001b[1;33m+\u001b[0m \u001b[1;36m1\u001b[0m\u001b[1;33m\n",
      "\u001b[0m    \u001b[0m_last_timestamp\u001b[0m \u001b[1;33m=\u001b[0m \u001b[0mtimestamp\u001b[0m\u001b[1;33m\n",
      "\u001b[0m    \u001b[1;32mif\u001b[0m \u001b[0mclock_seq\u001b[0m \u001b[1;32mis\u001b[0m \u001b[1;32mNone\u001b[0m\u001b[1;33m:\u001b[0m\u001b[1;33m\n",
      "\u001b[0m        \u001b[1;32mimport\u001b[0m \u001b[0mrandom\u001b[0m\u001b[1;33m\n",
      "\u001b[0m        \u001b[0mclock_seq\u001b[0m \u001b[1;33m=\u001b[0m \u001b[0mrandom\u001b[0m\u001b[1;33m.\u001b[0m\u001b[0mgetrandbits\u001b[0m\u001b[1;33m(\u001b[0m\u001b[1;36m14\u001b[0m\u001b[1;33m)\u001b[0m \u001b[1;31m# instead of stable storage\u001b[0m\u001b[1;33m\n",
      "\u001b[0m    \u001b[0mtime_low\u001b[0m \u001b[1;33m=\u001b[0m \u001b[0mtimestamp\u001b[0m \u001b[1;33m&\u001b[0m \u001b[1;36m0xffffffff\u001b[0m\u001b[1;33m\n",
      "\u001b[0m    \u001b[0mtime_mid\u001b[0m \u001b[1;33m=\u001b[0m \u001b[1;33m(\u001b[0m\u001b[0mtimestamp\u001b[0m \u001b[1;33m>>\u001b[0m \u001b[1;36m32\u001b[0m\u001b[1;33m)\u001b[0m \u001b[1;33m&\u001b[0m \u001b[1;36m0xffff\u001b[0m\u001b[1;33m\n",
      "\u001b[0m    \u001b[0mtime_hi_version\u001b[0m \u001b[1;33m=\u001b[0m \u001b[1;33m(\u001b[0m\u001b[0mtimestamp\u001b[0m \u001b[1;33m>>\u001b[0m \u001b[1;36m48\u001b[0m\u001b[1;33m)\u001b[0m \u001b[1;33m&\u001b[0m \u001b[1;36m0x0fff\u001b[0m\u001b[1;33m\n",
      "\u001b[0m    \u001b[0mclock_seq_low\u001b[0m \u001b[1;33m=\u001b[0m \u001b[0mclock_seq\u001b[0m \u001b[1;33m&\u001b[0m \u001b[1;36m0xff\u001b[0m\u001b[1;33m\n",
      "\u001b[0m    \u001b[0mclock_seq_hi_variant\u001b[0m \u001b[1;33m=\u001b[0m \u001b[1;33m(\u001b[0m\u001b[0mclock_seq\u001b[0m \u001b[1;33m>>\u001b[0m \u001b[1;36m8\u001b[0m\u001b[1;33m)\u001b[0m \u001b[1;33m&\u001b[0m \u001b[1;36m0x3f\u001b[0m\u001b[1;33m\n",
      "\u001b[0m    \u001b[1;32mif\u001b[0m \u001b[0mnode\u001b[0m \u001b[1;32mis\u001b[0m \u001b[1;32mNone\u001b[0m\u001b[1;33m:\u001b[0m\u001b[1;33m\n",
      "\u001b[0m        \u001b[0mnode\u001b[0m \u001b[1;33m=\u001b[0m \u001b[0mgetnode\u001b[0m\u001b[1;33m(\u001b[0m\u001b[1;33m)\u001b[0m\u001b[1;33m\n",
      "\u001b[0m    \u001b[1;32mreturn\u001b[0m \u001b[0mUUID\u001b[0m\u001b[1;33m(\u001b[0m\u001b[0mfields\u001b[0m\u001b[1;33m=\u001b[0m\u001b[1;33m(\u001b[0m\u001b[0mtime_low\u001b[0m\u001b[1;33m,\u001b[0m \u001b[0mtime_mid\u001b[0m\u001b[1;33m,\u001b[0m \u001b[0mtime_hi_version\u001b[0m\u001b[1;33m,\u001b[0m\u001b[1;33m\n",
      "\u001b[0m                        \u001b[0mclock_seq_hi_variant\u001b[0m\u001b[1;33m,\u001b[0m \u001b[0mclock_seq_low\u001b[0m\u001b[1;33m,\u001b[0m \u001b[0mnode\u001b[0m\u001b[1;33m)\u001b[0m\u001b[1;33m,\u001b[0m \u001b[0mversion\u001b[0m\u001b[1;33m=\u001b[0m\u001b[1;36m1\u001b[0m\u001b[1;33m)\u001b[0m\u001b[1;33m\n",
      "\u001b[0m\u001b[1;33m\n",
      "\u001b[0m\u001b[1;32mdef\u001b[0m \u001b[0muuid3\u001b[0m\u001b[1;33m(\u001b[0m\u001b[0mnamespace\u001b[0m\u001b[1;33m,\u001b[0m \u001b[0mname\u001b[0m\u001b[1;33m)\u001b[0m\u001b[1;33m:\u001b[0m\u001b[1;33m\n",
      "\u001b[0m    \u001b[1;34m\"\"\"Generate a UUID from the MD5 hash of a namespace UUID and a name.\"\"\"\u001b[0m\u001b[1;33m\n",
      "\u001b[0m    \u001b[1;32mfrom\u001b[0m \u001b[0mhashlib\u001b[0m \u001b[1;32mimport\u001b[0m \u001b[0mmd5\u001b[0m\u001b[1;33m\n",
      "\u001b[0m    \u001b[0mdigest\u001b[0m \u001b[1;33m=\u001b[0m \u001b[0mmd5\u001b[0m\u001b[1;33m(\u001b[0m\u001b[1;33m\n",
      "\u001b[0m        \u001b[0mnamespace\u001b[0m\u001b[1;33m.\u001b[0m\u001b[0mbytes\u001b[0m \u001b[1;33m+\u001b[0m \u001b[0mbytes\u001b[0m\u001b[1;33m(\u001b[0m\u001b[0mname\u001b[0m\u001b[1;33m,\u001b[0m \u001b[1;34m\"utf-8\"\u001b[0m\u001b[1;33m)\u001b[0m\u001b[1;33m,\u001b[0m\u001b[1;33m\n",
      "\u001b[0m        \u001b[0musedforsecurity\u001b[0m\u001b[1;33m=\u001b[0m\u001b[1;32mFalse\u001b[0m\u001b[1;33m\n",
      "\u001b[0m    \u001b[1;33m)\u001b[0m\u001b[1;33m.\u001b[0m\u001b[0mdigest\u001b[0m\u001b[1;33m(\u001b[0m\u001b[1;33m)\u001b[0m\u001b[1;33m\n",
      "\u001b[0m    \u001b[1;32mreturn\u001b[0m \u001b[0mUUID\u001b[0m\u001b[1;33m(\u001b[0m\u001b[0mbytes\u001b[0m\u001b[1;33m=\u001b[0m\u001b[0mdigest\u001b[0m\u001b[1;33m[\u001b[0m\u001b[1;33m:\u001b[0m\u001b[1;36m16\u001b[0m\u001b[1;33m]\u001b[0m\u001b[1;33m,\u001b[0m \u001b[0mversion\u001b[0m\u001b[1;33m=\u001b[0m\u001b[1;36m3\u001b[0m\u001b[1;33m)\u001b[0m\u001b[1;33m\n",
      "\u001b[0m\u001b[1;33m\n",
      "\u001b[0m\u001b[1;32mdef\u001b[0m \u001b[0muuid4\u001b[0m\u001b[1;33m(\u001b[0m\u001b[1;33m)\u001b[0m\u001b[1;33m:\u001b[0m\u001b[1;33m\n",
      "\u001b[0m    \u001b[1;34m\"\"\"Generate a random UUID.\"\"\"\u001b[0m\u001b[1;33m\n",
      "\u001b[0m    \u001b[1;32mreturn\u001b[0m \u001b[0mUUID\u001b[0m\u001b[1;33m(\u001b[0m\u001b[0mbytes\u001b[0m\u001b[1;33m=\u001b[0m\u001b[0mos\u001b[0m\u001b[1;33m.\u001b[0m\u001b[0murandom\u001b[0m\u001b[1;33m(\u001b[0m\u001b[1;36m16\u001b[0m\u001b[1;33m)\u001b[0m\u001b[1;33m,\u001b[0m \u001b[0mversion\u001b[0m\u001b[1;33m=\u001b[0m\u001b[1;36m4\u001b[0m\u001b[1;33m)\u001b[0m\u001b[1;33m\n",
      "\u001b[0m\u001b[1;33m\n",
      "\u001b[0m\u001b[1;32mdef\u001b[0m \u001b[0muuid5\u001b[0m\u001b[1;33m(\u001b[0m\u001b[0mnamespace\u001b[0m\u001b[1;33m,\u001b[0m \u001b[0mname\u001b[0m\u001b[1;33m)\u001b[0m\u001b[1;33m:\u001b[0m\u001b[1;33m\n",
      "\u001b[0m    \u001b[1;34m\"\"\"Generate a UUID from the SHA-1 hash of a namespace UUID and a name.\"\"\"\u001b[0m\u001b[1;33m\n",
      "\u001b[0m    \u001b[1;32mfrom\u001b[0m \u001b[0mhashlib\u001b[0m \u001b[1;32mimport\u001b[0m \u001b[0msha1\u001b[0m\u001b[1;33m\n",
      "\u001b[0m    \u001b[0mhash\u001b[0m \u001b[1;33m=\u001b[0m \u001b[0msha1\u001b[0m\u001b[1;33m(\u001b[0m\u001b[0mnamespace\u001b[0m\u001b[1;33m.\u001b[0m\u001b[0mbytes\u001b[0m \u001b[1;33m+\u001b[0m \u001b[0mbytes\u001b[0m\u001b[1;33m(\u001b[0m\u001b[0mname\u001b[0m\u001b[1;33m,\u001b[0m \u001b[1;34m\"utf-8\"\u001b[0m\u001b[1;33m)\u001b[0m\u001b[1;33m)\u001b[0m\u001b[1;33m.\u001b[0m\u001b[0mdigest\u001b[0m\u001b[1;33m(\u001b[0m\u001b[1;33m)\u001b[0m\u001b[1;33m\n",
      "\u001b[0m    \u001b[1;32mreturn\u001b[0m \u001b[0mUUID\u001b[0m\u001b[1;33m(\u001b[0m\u001b[0mbytes\u001b[0m\u001b[1;33m=\u001b[0m\u001b[0mhash\u001b[0m\u001b[1;33m[\u001b[0m\u001b[1;33m:\u001b[0m\u001b[1;36m16\u001b[0m\u001b[1;33m]\u001b[0m\u001b[1;33m,\u001b[0m \u001b[0mversion\u001b[0m\u001b[1;33m=\u001b[0m\u001b[1;36m5\u001b[0m\u001b[1;33m)\u001b[0m\u001b[1;33m\n",
      "\u001b[0m\u001b[1;33m\n",
      "\u001b[0m\u001b[1;31m# The following standard UUIDs are for use with uuid3() or uuid5().\u001b[0m\u001b[1;33m\n",
      "\u001b[0m\u001b[1;33m\n",
      "\u001b[0m\u001b[0mNAMESPACE_DNS\u001b[0m \u001b[1;33m=\u001b[0m \u001b[0mUUID\u001b[0m\u001b[1;33m(\u001b[0m\u001b[1;34m'6ba7b810-9dad-11d1-80b4-00c04fd430c8'\u001b[0m\u001b[1;33m)\u001b[0m\u001b[1;33m\n",
      "\u001b[0m\u001b[0mNAMESPACE_URL\u001b[0m \u001b[1;33m=\u001b[0m \u001b[0mUUID\u001b[0m\u001b[1;33m(\u001b[0m\u001b[1;34m'6ba7b811-9dad-11d1-80b4-00c04fd430c8'\u001b[0m\u001b[1;33m)\u001b[0m\u001b[1;33m\n",
      "\u001b[0m\u001b[0mNAMESPACE_OID\u001b[0m \u001b[1;33m=\u001b[0m \u001b[0mUUID\u001b[0m\u001b[1;33m(\u001b[0m\u001b[1;34m'6ba7b812-9dad-11d1-80b4-00c04fd430c8'\u001b[0m\u001b[1;33m)\u001b[0m\u001b[1;33m\n",
      "\u001b[0m\u001b[0mNAMESPACE_X500\u001b[0m \u001b[1;33m=\u001b[0m \u001b[0mUUID\u001b[0m\u001b[1;33m(\u001b[0m\u001b[1;34m'6ba7b814-9dad-11d1-80b4-00c04fd430c8'\u001b[0m\u001b[1;33m)\u001b[0m\u001b[1;33m\u001b[0m\u001b[1;33m\u001b[0m\u001b[0m"
     ]
    }
   ],
   "source": [
    "# used to generate unique image file names\n",
    "uuid??"
   ]
  },
  {
   "cell_type": "markdown",
   "metadata": {},
   "source": [
    "# Set GPU"
   ]
  },
  {
   "cell_type": "code",
   "execution_count": 6,
   "metadata": {},
   "outputs": [
    {
     "name": "stdout",
     "output_type": "stream",
     "text": [
      "[PhysicalDevice(name='/physical_device:GPU:0', device_type='GPU')]\n"
     ]
    }
   ],
   "source": [
    "print(tf.config.list_physical_devices(\"GPU\"))"
   ]
  },
  {
   "cell_type": "code",
   "execution_count": 7,
   "metadata": {},
   "outputs": [],
   "source": [
    "# avoid out of memory errors by setting GPU consumption growth\n",
    "\n",
    "gpus = tf.config.experimental.list_physical_devices(\"GPU\") # get all list of GPUs\n",
    "\n",
    "# for gpu in gpus:\n",
    "#     tf.config.experimental.set_memory_growth(gpu, True) # set memory growth to true"
   ]
  },
  {
   "cell_type": "code",
   "execution_count": 8,
   "metadata": {},
   "outputs": [
    {
     "name": "stdout",
     "output_type": "stream",
     "text": [
      "PhysicalDevice(name='/physical_device:GPU:0', device_type='GPU')\n"
     ]
    }
   ],
   "source": [
    "# check if GPU is available\n",
    "for gpu in gpus:\n",
    "    print(gpu)"
   ]
  },
  {
   "cell_type": "code",
   "execution_count": 9,
   "metadata": {},
   "outputs": [
    {
     "name": "stdout",
     "output_type": "stream",
     "text": [
      "Num GPUs Available:  1\n"
     ]
    }
   ],
   "source": [
    "print(\"Num GPUs Available: \", len(tf.config.list_physical_devices('GPU')))"
   ]
  },
  {
   "cell_type": "code",
   "execution_count": 10,
   "metadata": {},
   "outputs": [],
   "source": [
    "# Create Folder\n",
    "\n",
    "POS_PATH = os.path.join('data', 'positive')\n",
    "\n",
    "NEG_PATH = os.path.join('data', 'negative')\n",
    "\n",
    "ANC_PATH = os.path.join('data', 'anchor')"
   ]
  },
  {
   "cell_type": "code",
   "execution_count": 11,
   "metadata": {},
   "outputs": [
    {
     "data": {
      "text/plain": [
       "'data\\\\positive'"
      ]
     },
     "execution_count": 11,
     "metadata": {},
     "output_type": "execute_result"
    }
   ],
   "source": [
    "POS_PATH"
   ]
  },
  {
   "cell_type": "code",
   "execution_count": null,
   "metadata": {},
   "outputs": [],
   "source": [
    "# make directories\n",
    "\n",
    "# os.makedirs(POS_PATH)\n",
    "# os.makedirs(NEG_PATH)\n",
    "# os.makedirs(ANC_PATH)"
   ]
  },
  {
   "cell_type": "markdown",
   "metadata": {},
   "source": [
    "# 2. Collect positives and Anchors"
   ]
  },
  {
   "cell_type": "markdown",
   "metadata": {},
   "source": [
    "#### 2.1) Untar labelled faces in the dataset\n",
    "\n",
    "http://vis-www.cs.umass.edu/lfw/"
   ]
  },
  {
   "cell_type": "code",
   "execution_count": null,
   "metadata": {},
   "outputs": [],
   "source": [
    "# uncompress Tar GZ labelled Faces in the wild dataset\n",
    "!tar -xf lfw.tgz"
   ]
  },
  {
   "cell_type": "markdown",
   "metadata": {},
   "source": [
    "#### Move LFW images to the respective data/negative folder"
   ]
  },
  {
   "cell_type": "code",
   "execution_count": null,
   "metadata": {},
   "outputs": [],
   "source": [
    "\n",
    "# loop through every single dir inside lfw folder\n",
    "for directory in os.listdir(\"lfw\"):\n",
    "    # loop through every file inside each directory in lfw folder\n",
    "    for file in os.listdir(os.path.join(\"lfw\", directory)):\n",
    "        # existing path\n",
    "        EX_PATH = os.path.join(\"lfw\", directory, file)\n",
    "        print(\"************OLD PATH************\")\n",
    "        #print(EX_PATH)\n",
    "        # new path\n",
    "        print(\"************NEW PATH************\")\n",
    "        NEW_PATH = os.path.join(NEG_PATH, file)\n",
    "        #print(NEW_PATH)\n",
    "        os.replace(EX_PATH, NEW_PATH)"
   ]
  },
  {
   "attachments": {},
   "cell_type": "markdown",
   "metadata": {},
   "source": [
    "Images in the wild dataset have resolution 250*250 so we will capture our image with the same resolution"
   ]
  },
  {
   "cell_type": "markdown",
   "metadata": {},
   "source": [
    "### 2.2) Collect Positive and Anchors classes"
   ]
  },
  {
   "cell_type": "code",
   "execution_count": null,
   "metadata": {},
   "outputs": [],
   "source": [
    "cap = cv2.VideoCapture(0)\n",
    "\n",
    "# loop through every single frame of webcam\n",
    "while cap.isOpened():\n",
    "    # read the capture frame one at a time and unpack the result to get 'return' and 'frame'\n",
    "    ret, frame = cap.read()\n",
    "    # cut down frame to 250*250 px\n",
    "    frame = frame[120:120+250, 150:200+250, :]\n",
    "    \n",
    "    # collect anchors\n",
    "    if cv2.waitKey(1) & 0XFF == ord(\"a\"):\n",
    "        # create a unique file path. We are appending a unique identitfier to every image\n",
    "        # we will save the img in data//anchor//img_name.jpg folder\n",
    "        img_name = os.path.join(ANC_PATH, \"{}.jpg\".format(uuid.uuid1()))\n",
    "        # Write out anchor image\n",
    "        cv2.imwrite(img_name, frame)\n",
    "        \n",
    "    # collect positive images\n",
    "    if cv2.waitKey(1) & 0XFF == ord(\"p\"):\n",
    "        # create a unique file path. We are appending a unique identitfier to every image\n",
    "        # we will save the img in data//positive//img_name.jpg folder\n",
    "        img_name = os.path.join(POS_PATH, \"{}.jpg\".format(uuid.uuid1()))\n",
    "        # Write out anchor image\n",
    "        cv2.imwrite(img_name, frame)\n",
    "    \n",
    "    \n",
    "    # render that image on the screen\n",
    "    cv2.imshow(\"Image Collection\", frame)\n",
    "    # break out of the webcam frame\n",
    "    if cv2.waitKey(1) & 0XFF == ord(\"q\"):\n",
    "        break\n",
    "# Release the webcam\n",
    "cap.release()\n",
    "# Close the image show frame\n",
    "cv2.destroyAllWindows()"
   ]
  },
  {
   "cell_type": "code",
   "execution_count": null,
   "metadata": {},
   "outputs": [],
   "source": [
    "plt.imshow(frame)"
   ]
  },
  {
   "cell_type": "code",
   "execution_count": null,
   "metadata": {},
   "outputs": [],
   "source": [
    "frame.shape"
   ]
  },
  {
   "cell_type": "code",
   "execution_count": null,
   "metadata": {},
   "outputs": [],
   "source": [
    "# We need to make the resolution of webcam frame to match the resolution of images in the dataset i.e. 250 * 250\n",
    "\n",
    "frame[:250, :250, :].shape"
   ]
  },
  {
   "cell_type": "code",
   "execution_count": null,
   "metadata": {},
   "outputs": [],
   "source": [
    "# plot it\n",
    "plt.imshow(frame[:250, :250, :])"
   ]
  },
  {
   "cell_type": "markdown",
   "metadata": {},
   "source": [
    "We need to capture the face from the frame"
   ]
  },
  {
   "cell_type": "code",
   "execution_count": null,
   "metadata": {},
   "outputs": [],
   "source": [
    "# y axis = starting at 120 pixels to 120+250 pixels\n",
    "# x axis = starting at 200 pixel to 200+250\n",
    "# we need all 3 channels\n",
    "plt.imshow(frame[120:120+250, 150:200+250, :])"
   ]
  },
  {
   "cell_type": "markdown",
   "metadata": {},
   "source": [
    "# 3. Load and Preprocess Images"
   ]
  },
  {
   "cell_type": "markdown",
   "metadata": {},
   "source": [
    "#### 3.1 Get Image Directories"
   ]
  },
  {
   "cell_type": "code",
   "execution_count": 12,
   "metadata": {},
   "outputs": [],
   "source": [
    "# grab 700 of .jpg images from respective anchor, postive, negative directories\n",
    "anchor = tf.data.Dataset.list_files(ANC_PATH + \"\\*.jpg\").take(750)\n",
    "\n",
    "positive = tf.data.Dataset.list_files(POS_PATH + \"\\*.jpg\").take(750)\n",
    "\n",
    "negative = tf.data.Dataset.list_files(NEG_PATH + \"\\*.jpg\").take(750)"
   ]
  },
  {
   "cell_type": "code",
   "execution_count": 13,
   "metadata": {},
   "outputs": [
    {
     "data": {
      "text/plain": [
       "'data\\\\anchor\\\\*.jpg'"
      ]
     },
     "execution_count": 13,
     "metadata": {},
     "output_type": "execute_result"
    }
   ],
   "source": [
    "ANC_PATH + \"\\*.jpg\""
   ]
  },
  {
   "cell_type": "code",
   "execution_count": 14,
   "metadata": {},
   "outputs": [],
   "source": [
    "# test the above code\n",
    "dir_test = anchor.as_numpy_iterator()"
   ]
  },
  {
   "cell_type": "code",
   "execution_count": 15,
   "metadata": {},
   "outputs": [
    {
     "data": {
      "text/plain": [
       "b'data\\\\anchor\\\\fb194188-3219-11ed-bb39-509a4cb51153.jpg'"
      ]
     },
     "execution_count": 15,
     "metadata": {},
     "output_type": "execute_result"
    }
   ],
   "source": [
    "# we get each img every time we run this cell\n",
    "dir_test.next()"
   ]
  },
  {
   "cell_type": "markdown",
   "metadata": {},
   "source": [
    "#### 3.2 Preprocessing - Scale and Resize"
   ]
  },
  {
   "cell_type": "code",
   "execution_count": 16,
   "metadata": {},
   "outputs": [],
   "source": [
    "def preprocess(file_path):\n",
    "    \"\"\"resize to 100*100 and scale image between 0 to 1\n",
    "\n",
    "    Args:\n",
    "        file_path (_type_): path to image\n",
    "\n",
    "    Returns:\n",
    "        img: return image after preprocessing\n",
    "    \"\"\"\n",
    "    \n",
    "    # read img from file path\n",
    "    byte_img = tf.io.read_file(file_path)\n",
    "    # load image using decode jpeg\n",
    "    img = tf.io.decode_jpeg(byte_img)\n",
    "    # Preprocessing steps - resize to 100*100*3 (similar to research paper)\n",
    "    img = tf.image.resize(img, (100, 100))\n",
    "    # scale img between 0 to 1\n",
    "    img = img / 255.0\n",
    "    return img\n",
    "    "
   ]
  },
  {
   "cell_type": "code",
   "execution_count": 17,
   "metadata": {},
   "outputs": [],
   "source": [
    "# test preprocess method\n",
    "img = preprocess(\"data\\\\anchor\\\\d26b187a-3219-11ed-bc34-509a4cb51153.jpg\")"
   ]
  },
  {
   "cell_type": "code",
   "execution_count": 18,
   "metadata": {},
   "outputs": [
    {
     "data": {
      "text/plain": [
       "0.0"
      ]
     },
     "execution_count": 18,
     "metadata": {},
     "output_type": "execute_result"
    }
   ],
   "source": [
    "img.numpy().min()"
   ]
  },
  {
   "cell_type": "code",
   "execution_count": 19,
   "metadata": {},
   "outputs": [
    {
     "data": {
      "text/plain": [
       "0.92745095"
      ]
     },
     "execution_count": 19,
     "metadata": {},
     "output_type": "execute_result"
    }
   ],
   "source": [
    "img.numpy().max()"
   ]
  },
  {
   "cell_type": "code",
   "execution_count": 20,
   "metadata": {},
   "outputs": [
    {
     "data": {
      "text/plain": [
       "<matplotlib.image.AxesImage at 0x1d4630810a0>"
      ]
     },
     "execution_count": 20,
     "metadata": {},
     "output_type": "execute_result"
    },
    {
     "data": {
      "image/png": "[encoded data removed]",
      "text/plain": [
       "<Figure size 640x480 with 1 Axes>"
      ]
     },
     "metadata": {},
     "output_type": "display_data"
    }
   ],
   "source": [
    "plt.imshow(img)"
   ]
  },
  {
   "cell_type": "markdown",
   "metadata": {},
   "source": [
    "#### 3.3 Create Labelled Dataset"
   ]
  },
  {
   "cell_type": "code",
   "execution_count": 21,
   "metadata": {},
   "outputs": [
    {
     "data": {
      "text/plain": [
       "<tf.Tensor: shape=(750,), dtype=float32, numpy=\n",
       "array([1., 1., 1., 1., 1., 1., 1., 1., 1., 1., 1., 1., 1., 1., 1., 1., 1.,\n",
       "       1., 1., 1., 1., 1., 1., 1., 1., 1., 1., 1., 1., 1., 1., 1., 1., 1.,\n",
       "       1., 1., 1., 1., 1., 1., 1., 1., 1., 1., 1., 1., 1., 1., 1., 1., 1.,\n",
       "       1., 1., 1., 1., 1., 1., 1., 1., 1., 1., 1., 1., 1., 1., 1., 1., 1.,\n",
       "       1., 1., 1., 1., 1., 1., 1., 1., 1., 1., 1., 1., 1., 1., 1., 1., 1.,\n",
       "       1., 1., 1., 1., 1., 1., 1., 1., 1., 1., 1., 1., 1., 1., 1., 1., 1.,\n",
       "       1., 1., 1., 1., 1., 1., 1., 1., 1., 1., 1., 1., 1., 1., 1., 1., 1.,\n",
       "       1., 1., 1., 1., 1., 1., 1., 1., 1., 1., 1., 1., 1., 1., 1., 1., 1.,\n",
       "       1., 1., 1., 1., 1., 1., 1., 1., 1., 1., 1., 1., 1., 1., 1., 1., 1.,\n",
       "       1., 1., 1., 1., 1., 1., 1., 1., 1., 1., 1., 1., 1., 1., 1., 1., 1.,\n",
       "       1., 1., 1., 1., 1., 1., 1., 1., 1., 1., 1., 1., 1., 1., 1., 1., 1.,\n",
       "       1., 1., 1., 1., 1., 1., 1., 1., 1., 1., 1., 1., 1., 1., 1., 1., 1.,\n",
       "       1., 1., 1., 1., 1., 1., 1., 1., 1., 1., 1., 1., 1., 1., 1., 1., 1.,\n",
       "       1., 1., 1., 1., 1., 1., 1., 1., 1., 1., 1., 1., 1., 1., 1., 1., 1.,\n",
       "       1., 1., 1., 1., 1., 1., 1., 1., 1., 1., 1., 1., 1., 1., 1., 1., 1.,\n",
       "       1., 1., 1., 1., 1., 1., 1., 1., 1., 1., 1., 1., 1., 1., 1., 1., 1.,\n",
       "       1., 1., 1., 1., 1., 1., 1., 1., 1., 1., 1., 1., 1., 1., 1., 1., 1.,\n",
       "       1., 1., 1., 1., 1., 1., 1., 1., 1., 1., 1., 1., 1., 1., 1., 1., 1.,\n",
       "       1., 1., 1., 1., 1., 1., 1., 1., 1., 1., 1., 1., 1., 1., 1., 1., 1.,\n",
       "       1., 1., 1., 1., 1., 1., 1., 1., 1., 1., 1., 1., 1., 1., 1., 1., 1.,\n",
       "       1., 1., 1., 1., 1., 1., 1., 1., 1., 1., 1., 1., 1., 1., 1., 1., 1.,\n",
       "       1., 1., 1., 1., 1., 1., 1., 1., 1., 1., 1., 1., 1., 1., 1., 1., 1.,\n",
       "       1., 1., 1., 1., 1., 1., 1., 1., 1., 1., 1., 1., 1., 1., 1., 1., 1.,\n",
       "       1., 1., 1., 1., 1., 1., 1., 1., 1., 1., 1., 1., 1., 1., 1., 1., 1.,\n",
       "       1., 1., 1., 1., 1., 1., 1., 1., 1., 1., 1., 1., 1., 1., 1., 1., 1.,\n",
       "       1., 1., 1., 1., 1., 1., 1., 1., 1., 1., 1., 1., 1., 1., 1., 1., 1.,\n",
       "       1., 1., 1., 1., 1., 1., 1., 1., 1., 1., 1., 1., 1., 1., 1., 1., 1.,\n",
       "       1., 1., 1., 1., 1., 1., 1., 1., 1., 1., 1., 1., 1., 1., 1., 1., 1.,\n",
       "       1., 1., 1., 1., 1., 1., 1., 1., 1., 1., 1., 1., 1., 1., 1., 1., 1.,\n",
       "       1., 1., 1., 1., 1., 1., 1., 1., 1., 1., 1., 1., 1., 1., 1., 1., 1.,\n",
       "       1., 1., 1., 1., 1., 1., 1., 1., 1., 1., 1., 1., 1., 1., 1., 1., 1.,\n",
       "       1., 1., 1., 1., 1., 1., 1., 1., 1., 1., 1., 1., 1., 1., 1., 1., 1.,\n",
       "       1., 1., 1., 1., 1., 1., 1., 1., 1., 1., 1., 1., 1., 1., 1., 1., 1.,\n",
       "       1., 1., 1., 1., 1., 1., 1., 1., 1., 1., 1., 1., 1., 1., 1., 1., 1.,\n",
       "       1., 1., 1., 1., 1., 1., 1., 1., 1., 1., 1., 1., 1., 1., 1., 1., 1.,\n",
       "       1., 1., 1., 1., 1., 1., 1., 1., 1., 1., 1., 1., 1., 1., 1., 1., 1.,\n",
       "       1., 1., 1., 1., 1., 1., 1., 1., 1., 1., 1., 1., 1., 1., 1., 1., 1.,\n",
       "       1., 1., 1., 1., 1., 1., 1., 1., 1., 1., 1., 1., 1., 1., 1., 1., 1.,\n",
       "       1., 1., 1., 1., 1., 1., 1., 1., 1., 1., 1., 1., 1., 1., 1., 1., 1.,\n",
       "       1., 1., 1., 1., 1., 1., 1., 1., 1., 1., 1., 1., 1., 1., 1., 1., 1.,\n",
       "       1., 1., 1., 1., 1., 1., 1., 1., 1., 1., 1., 1., 1., 1., 1., 1., 1.,\n",
       "       1., 1., 1., 1., 1., 1., 1., 1., 1., 1., 1., 1., 1., 1., 1., 1., 1.,\n",
       "       1., 1., 1., 1., 1., 1., 1., 1., 1., 1., 1., 1., 1., 1., 1., 1., 1.,\n",
       "       1., 1., 1., 1., 1., 1., 1., 1., 1., 1., 1., 1., 1., 1., 1., 1., 1.,\n",
       "       1., 1.], dtype=float32)>"
      ]
     },
     "execution_count": 21,
     "metadata": {},
     "output_type": "execute_result"
    }
   ],
   "source": [
    "tf.ones(len(anchor))"
   ]
  },
  {
   "cell_type": "code",
   "execution_count": 22,
   "metadata": {},
   "outputs": [
    {
     "data": {
      "text/plain": [
       "<tf.Tensor: shape=(750,), dtype=float32, numpy=\n",
       "array([0., 0., 0., 0., 0., 0., 0., 0., 0., 0., 0., 0., 0., 0., 0., 0., 0.,\n",
       "       0., 0., 0., 0., 0., 0., 0., 0., 0., 0., 0., 0., 0., 0., 0., 0., 0.,\n",
       "       0., 0., 0., 0., 0., 0., 0., 0., 0., 0., 0., 0., 0., 0., 0., 0., 0.,\n",
       "       0., 0., 0., 0., 0., 0., 0., 0., 0., 0., 0., 0., 0., 0., 0., 0., 0.,\n",
       "       0., 0., 0., 0., 0., 0., 0., 0., 0., 0., 0., 0., 0., 0., 0., 0., 0.,\n",
       "       0., 0., 0., 0., 0., 0., 0., 0., 0., 0., 0., 0., 0., 0., 0., 0., 0.,\n",
       "       0., 0., 0., 0., 0., 0., 0., 0., 0., 0., 0., 0., 0., 0., 0., 0., 0.,\n",
       "       0., 0., 0., 0., 0., 0., 0., 0., 0., 0., 0., 0., 0., 0., 0., 0., 0.,\n",
       "       0., 0., 0., 0., 0., 0., 0., 0., 0., 0., 0., 0., 0., 0., 0., 0., 0.,\n",
       "       0., 0., 0., 0., 0., 0., 0., 0., 0., 0., 0., 0., 0., 0., 0., 0., 0.,\n",
       "       0., 0., 0., 0., 0., 0., 0., 0., 0., 0., 0., 0., 0., 0., 0., 0., 0.,\n",
       "       0., 0., 0., 0., 0., 0., 0., 0., 0., 0., 0., 0., 0., 0., 0., 0., 0.,\n",
       "       0., 0., 0., 0., 0., 0., 0., 0., 0., 0., 0., 0., 0., 0., 0., 0., 0.,\n",
       "       0., 0., 0., 0., 0., 0., 0., 0., 0., 0., 0., 0., 0., 0., 0., 0., 0.,\n",
       "       0., 0., 0., 0., 0., 0., 0., 0., 0., 0., 0., 0., 0., 0., 0., 0., 0.,\n",
       "       0., 0., 0., 0., 0., 0., 0., 0., 0., 0., 0., 0., 0., 0., 0., 0., 0.,\n",
       "       0., 0., 0., 0., 0., 0., 0., 0., 0., 0., 0., 0., 0., 0., 0., 0., 0.,\n",
       "       0., 0., 0., 0., 0., 0., 0., 0., 0., 0., 0., 0., 0., 0., 0., 0., 0.,\n",
       "       0., 0., 0., 0., 0., 0., 0., 0., 0., 0., 0., 0., 0., 0., 0., 0., 0.,\n",
       "       0., 0., 0., 0., 0., 0., 0., 0., 0., 0., 0., 0., 0., 0., 0., 0., 0.,\n",
       "       0., 0., 0., 0., 0., 0., 0., 0., 0., 0., 0., 0., 0., 0., 0., 0., 0.,\n",
       "       0., 0., 0., 0., 0., 0., 0., 0., 0., 0., 0., 0., 0., 0., 0., 0., 0.,\n",
       "       0., 0., 0., 0., 0., 0., 0., 0., 0., 0., 0., 0., 0., 0., 0., 0., 0.,\n",
       "       0., 0., 0., 0., 0., 0., 0., 0., 0., 0., 0., 0., 0., 0., 0., 0., 0.,\n",
       "       0., 0., 0., 0., 0., 0., 0., 0., 0., 0., 0., 0., 0., 0., 0., 0., 0.,\n",
       "       0., 0., 0., 0., 0., 0., 0., 0., 0., 0., 0., 0., 0., 0., 0., 0., 0.,\n",
       "       0., 0., 0., 0., 0., 0., 0., 0., 0., 0., 0., 0., 0., 0., 0., 0., 0.,\n",
       "       0., 0., 0., 0., 0., 0., 0., 0., 0., 0., 0., 0., 0., 0., 0., 0., 0.,\n",
       "       0., 0., 0., 0., 0., 0., 0., 0., 0., 0., 0., 0., 0., 0., 0., 0., 0.,\n",
       "       0., 0., 0., 0., 0., 0., 0., 0., 0., 0., 0., 0., 0., 0., 0., 0., 0.,\n",
       "       0., 0., 0., 0., 0., 0., 0., 0., 0., 0., 0., 0., 0., 0., 0., 0., 0.,\n",
       "       0., 0., 0., 0., 0., 0., 0., 0., 0., 0., 0., 0., 0., 0., 0., 0., 0.,\n",
       "       0., 0., 0., 0., 0., 0., 0., 0., 0., 0., 0., 0., 0., 0., 0., 0., 0.,\n",
       "       0., 0., 0., 0., 0., 0., 0., 0., 0., 0., 0., 0., 0., 0., 0., 0., 0.,\n",
       "       0., 0., 0., 0., 0., 0., 0., 0., 0., 0., 0., 0., 0., 0., 0., 0., 0.,\n",
       "       0., 0., 0., 0., 0., 0., 0., 0., 0., 0., 0., 0., 0., 0., 0., 0., 0.,\n",
       "       0., 0., 0., 0., 0., 0., 0., 0., 0., 0., 0., 0., 0., 0., 0., 0., 0.,\n",
       "       0., 0., 0., 0., 0., 0., 0., 0., 0., 0., 0., 0., 0., 0., 0., 0., 0.,\n",
       "       0., 0., 0., 0., 0., 0., 0., 0., 0., 0., 0., 0., 0., 0., 0., 0., 0.,\n",
       "       0., 0., 0., 0., 0., 0., 0., 0., 0., 0., 0., 0., 0., 0., 0., 0., 0.,\n",
       "       0., 0., 0., 0., 0., 0., 0., 0., 0., 0., 0., 0., 0., 0., 0., 0., 0.,\n",
       "       0., 0., 0., 0., 0., 0., 0., 0., 0., 0., 0., 0., 0., 0., 0., 0., 0.,\n",
       "       0., 0., 0., 0., 0., 0., 0., 0., 0., 0., 0., 0., 0., 0., 0., 0., 0.,\n",
       "       0., 0., 0., 0., 0., 0., 0., 0., 0., 0., 0., 0., 0., 0., 0., 0., 0.,\n",
       "       0., 0.], dtype=float32)>"
      ]
     },
     "execution_count": 22,
     "metadata": {},
     "output_type": "execute_result"
    }
   ],
   "source": [
    "# negatives\n",
    "tf.zeros(len(anchor))"
   ]
  },
  {
   "cell_type": "code",
   "execution_count": 23,
   "metadata": {},
   "outputs": [],
   "source": [
    "class_lables = tf.data.Dataset.from_tensor_slices(tf.zeros(len(anchor)))"
   ]
  },
  {
   "cell_type": "code",
   "execution_count": 24,
   "metadata": {},
   "outputs": [],
   "source": [
    "iterator_labels = class_lables.as_numpy_iterator()"
   ]
  },
  {
   "cell_type": "code",
   "execution_count": 25,
   "metadata": {},
   "outputs": [
    {
     "data": {
      "text/plain": [
       "0.0"
      ]
     },
     "execution_count": 25,
     "metadata": {},
     "output_type": "execute_result"
    }
   ],
   "source": [
    "# loop thru each label in the positives\n",
    "iterator_labels.next()"
   ]
  },
  {
   "cell_type": "code",
   "execution_count": 26,
   "metadata": {},
   "outputs": [],
   "source": [
    "# we can do the same as above with tf.data.Dataset.from_tensor_slices(tf.ones(len(anchor))) method\n",
    "# (anchor or input image, positive image) => 1,1,1,1,1\n",
    "# (anchor or input image, negative image) => 0,0,0,0,0\n",
    "\n",
    "# create a tuple of anchor image path, positive or negative image path and class label( 0 or 1) and store in data variable\n",
    "positives = tf.data.Dataset.zip((anchor, positive, tf.data.Dataset.from_tensor_slices(tf.ones(len(anchor)))))\n",
    "\n",
    "# nagative tuple\n",
    "negatives = tf.data.Dataset.zip((anchor, negative, tf.data.Dataset.from_tensor_slices(tf.zeros(len(anchor)))))\n",
    "\n",
    "# concatenate both positive and negative datasets\n",
    "data = positives.concatenate(negatives)"
   ]
  },
  {
   "cell_type": "code",
   "execution_count": 27,
   "metadata": {},
   "outputs": [
    {
     "data": {
      "text/plain": [
       "<ConcatenateDataset element_spec=(TensorSpec(shape=(), dtype=tf.string, name=None), TensorSpec(shape=(), dtype=tf.string, name=None), TensorSpec(shape=(), dtype=tf.float32, name=None))>"
      ]
     },
     "execution_count": 27,
     "metadata": {},
     "output_type": "execute_result"
    }
   ],
   "source": [
    "# 1D output in form of ((anchor or input images), (positives or negatives), (1 or 0))\n",
    "data"
   ]
  },
  {
   "cell_type": "code",
   "execution_count": 28,
   "metadata": {},
   "outputs": [],
   "source": [
    "\n",
    "samples = data.as_numpy_iterator()"
   ]
  },
  {
   "cell_type": "code",
   "execution_count": 29,
   "metadata": {},
   "outputs": [],
   "source": [
    "example = samples.next()"
   ]
  },
  {
   "cell_type": "code",
   "execution_count": 30,
   "metadata": {},
   "outputs": [
    {
     "data": {
      "text/plain": [
       "(b'data\\\\anchor\\\\e2a7ae31-3219-11ed-812f-509a4cb51153.jpg',\n",
       " b'data\\\\positive\\\\7428cd51-321a-11ed-87a5-509a4cb51153.jpg',\n",
       " 1.0)"
      ]
     },
     "execution_count": 30,
     "metadata": {},
     "output_type": "execute_result"
    }
   ],
   "source": [
    "example"
   ]
  },
  {
   "cell_type": "markdown",
   "metadata": {},
   "source": [
    "### 3.4 Build Train and Test Partition"
   ]
  },
  {
   "cell_type": "code",
   "execution_count": 31,
   "metadata": {},
   "outputs": [],
   "source": [
    "def preprocess_twin(input_img, validation_img, label):\n",
    "    '''\n",
    "    Get the actual images instead of file path\n",
    "    '''\n",
    "    # preprocess input image\n",
    "    input_img = preprocess(input_img)\n",
    "    # preprocess validation image\n",
    "    validation_img = preprocess(validation_img)\n",
    "    return input_img, validation_img, label"
   ]
  },
  {
   "cell_type": "code",
   "execution_count": 32,
   "metadata": {},
   "outputs": [],
   "source": [
    "# * unpacks the values inside the tuple\n",
    "res = preprocess_twin(*example)"
   ]
  },
  {
   "cell_type": "code",
   "execution_count": 33,
   "metadata": {},
   "outputs": [
    {
     "data": {
      "text/plain": [
       "3"
      ]
     },
     "execution_count": 33,
     "metadata": {},
     "output_type": "execute_result"
    }
   ],
   "source": [
    "# it's a tuple of 3 different things i.e. (anchor image, positive or negative image, class label: 1 or 0).\n",
    "len(res)"
   ]
  },
  {
   "cell_type": "code",
   "execution_count": 34,
   "metadata": {},
   "outputs": [
    {
     "data": {
      "text/plain": [
       "<tf.Tensor: shape=(100, 100, 3), dtype=float32, numpy=\n",
       "array([[[0.4715686 , 0.4715686 , 0.4715686 ],\n",
       "        [0.4745098 , 0.4745098 , 0.4745098 ],\n",
       "        [0.48137254, 0.48137254, 0.48137254],\n",
       "        ...,\n",
       "        [0.58431375, 0.5921569 , 0.5803922 ],\n",
       "        [0.5872549 , 0.595098  , 0.5833333 ],\n",
       "        [0.5892157 , 0.5892157 , 0.58137256]],\n",
       "\n",
       "       [[0.46666667, 0.46666667, 0.46666667],\n",
       "        [0.46666667, 0.46666667, 0.46666667],\n",
       "        [0.46960783, 0.46960783, 0.46960783],\n",
       "        ...,\n",
       "        [0.58431375, 0.5921569 , 0.58235294],\n",
       "        [0.57941175, 0.5872549 , 0.577451  ],\n",
       "        [0.5852941 , 0.595098  , 0.5852941 ]],\n",
       "\n",
       "       [[0.4598039 , 0.4598039 , 0.4598039 ],\n",
       "        [0.46666667, 0.46666667, 0.46666667],\n",
       "        [0.46568626, 0.46568626, 0.46568626],\n",
       "        ...,\n",
       "        [0.57941175, 0.59313726, 0.5892157 ],\n",
       "        [0.56960785, 0.59117645, 0.58431375],\n",
       "        [0.56666666, 0.5882353 , 0.58137256]],\n",
       "\n",
       "       ...,\n",
       "\n",
       "       [[0.25882354, 0.2617647 , 0.24509804],\n",
       "        [0.26666668, 0.26666668, 0.25882354],\n",
       "        [0.26568627, 0.26568627, 0.25784314],\n",
       "        ...,\n",
       "        [0.2617647 , 0.2617647 , 0.2617647 ],\n",
       "        [0.2647059 , 0.2647059 , 0.2647059 ],\n",
       "        [0.2647059 , 0.2647059 , 0.2647059 ]],\n",
       "\n",
       "       [[0.25588235, 0.25588235, 0.24803922],\n",
       "        [0.25686276, 0.25686276, 0.24901961],\n",
       "        [0.2617647 , 0.2617647 , 0.25392157],\n",
       "        ...,\n",
       "        [0.24803922, 0.24803922, 0.24803922],\n",
       "        [0.25490198, 0.25490198, 0.25490198],\n",
       "        [0.2617647 , 0.2617647 , 0.2617647 ]],\n",
       "\n",
       "       [[0.25196078, 0.25196078, 0.24411765],\n",
       "        [0.2627451 , 0.2627451 , 0.25490198],\n",
       "        [0.26568627, 0.26568627, 0.25784314],\n",
       "        ...,\n",
       "        [0.2509804 , 0.2509804 , 0.2509804 ],\n",
       "        [0.25490198, 0.25490198, 0.25490198],\n",
       "        [0.25490198, 0.25490198, 0.25490198]]], dtype=float32)>"
      ]
     },
     "execution_count": 34,
     "metadata": {},
     "output_type": "execute_result"
    }
   ],
   "source": [
    "# anchor sample\n",
    "res[0]"
   ]
  },
  {
   "cell_type": "code",
   "execution_count": 35,
   "metadata": {},
   "outputs": [
    {
     "data": {
      "text/plain": [
       "<tf.Tensor: shape=(100, 100, 3), dtype=float32, numpy=\n",
       "array([[[0.4509804 , 0.4509804 , 0.44313726],\n",
       "        [0.4509804 , 0.4509804 , 0.44313726],\n",
       "        [0.4480392 , 0.4480392 , 0.44019607],\n",
       "        ...,\n",
       "        [0.5382353 , 0.58137256, 0.5656863 ],\n",
       "        [0.53333336, 0.5803922 , 0.5647059 ],\n",
       "        [0.5372549 , 0.5833333 , 0.56764704]],\n",
       "\n",
       "       [[0.45      , 0.45      , 0.44215685],\n",
       "        [0.45392156, 0.45392156, 0.44607842],\n",
       "        [0.4480392 , 0.4480392 , 0.44019607],\n",
       "        ...,\n",
       "        [0.53137255, 0.577451  , 0.5617647 ],\n",
       "        [0.52843136, 0.58431375, 0.5656863 ],\n",
       "        [0.53137255, 0.5872549 , 0.5686275 ]],\n",
       "\n",
       "       [[0.44705883, 0.44705883, 0.4392157 ],\n",
       "        [0.44705883, 0.44705883, 0.4392157 ],\n",
       "        [0.45196077, 0.45196077, 0.44411764],\n",
       "        ...,\n",
       "        [0.5539216 , 0.5745098 , 0.5686275 ],\n",
       "        [0.55784315, 0.57843137, 0.57254905],\n",
       "        [0.5411765 , 0.57843137, 0.5656863 ]],\n",
       "\n",
       "       ...,\n",
       "\n",
       "       [[0.24607843, 0.25196078, 0.24117647],\n",
       "        [0.25196078, 0.2509804 , 0.24313726],\n",
       "        [0.2509804 , 0.25      , 0.24215686],\n",
       "        ...,\n",
       "        [0.25      , 0.25      , 0.25      ],\n",
       "        [0.25392157, 0.25392157, 0.25392157],\n",
       "        [0.25588235, 0.25588235, 0.25588235]],\n",
       "\n",
       "       [[0.24313726, 0.24607843, 0.22941177],\n",
       "        [0.24803922, 0.24411765, 0.23039216],\n",
       "        [0.25686276, 0.2529412 , 0.24509804],\n",
       "        ...,\n",
       "        [0.25392157, 0.25392157, 0.25392157],\n",
       "        [0.24705882, 0.24705882, 0.24705882],\n",
       "        [0.25196078, 0.25196078, 0.25196078]],\n",
       "\n",
       "       [[0.24019608, 0.24411765, 0.2245098 ],\n",
       "        [0.24705882, 0.24313726, 0.22745098],\n",
       "        [0.25      , 0.24607843, 0.23039216],\n",
       "        ...,\n",
       "        [0.24705882, 0.24705882, 0.24705882],\n",
       "        [0.2509804 , 0.2509804 , 0.2509804 ],\n",
       "        [0.2509804 , 0.2509804 , 0.2509804 ]]], dtype=float32)>"
      ]
     },
     "execution_count": 35,
     "metadata": {},
     "output_type": "execute_result"
    }
   ],
   "source": [
    "# positive sample\n",
    "res[1]"
   ]
  },
  {
   "cell_type": "code",
   "execution_count": 36,
   "metadata": {},
   "outputs": [
    {
     "data": {
      "text/plain": [
       "1.0"
      ]
     },
     "execution_count": 36,
     "metadata": {},
     "output_type": "execute_result"
    }
   ],
   "source": [
    "# class label\n",
    "res[2]"
   ]
  },
  {
   "cell_type": "code",
   "execution_count": 37,
   "metadata": {},
   "outputs": [
    {
     "data": {
      "text/plain": [
       "<matplotlib.image.AxesImage at 0x1d4064ebd60>"
      ]
     },
     "execution_count": 37,
     "metadata": {},
     "output_type": "execute_result"
    },
    {
     "data": {
      "image/png": "[encoded data removed]",
      "text/plain": [
       "<Figure size 640x480 with 1 Axes>"
      ]
     },
     "metadata": {},
     "output_type": "display_data"
    }
   ],
   "source": [
    "# anchor image or input image\n",
    "plt.imshow(res[0])"
   ]
  },
  {
   "cell_type": "code",
   "execution_count": 38,
   "metadata": {},
   "outputs": [
    {
     "data": {
      "text/plain": [
       "<matplotlib.image.AxesImage at 0x1d407a33a90>"
      ]
     },
     "execution_count": 38,
     "metadata": {},
     "output_type": "execute_result"
    },
    {
     "data": {
      "image/png": "[encoded data removed]",
      "text/plain": [
       "<Figure size 640x480 with 1 Axes>"
      ]
     },
     "metadata": {},
     "output_type": "display_data"
    }
   ],
   "source": [
    "# positive sample so label should be 1\n",
    "plt.imshow(res[1])"
   ]
  },
  {
   "cell_type": "code",
   "execution_count": 39,
   "metadata": {},
   "outputs": [
    {
     "data": {
      "text/plain": [
       "1.0"
      ]
     },
     "execution_count": 39,
     "metadata": {},
     "output_type": "execute_result"
    }
   ],
   "source": [
    "# positive label\n",
    "res[2]"
   ]
  },
  {
   "cell_type": "code",
   "execution_count": 40,
   "metadata": {},
   "outputs": [],
   "source": [
    "# build dataloader pipeline\n",
    "data = data.map(preprocess_twin)\n",
    "# cache the images\n",
    "data = data.cache()\n",
    "# shuffle the data before spliting into train and test\n",
    "data = data.shuffle(buffer_size=1024)"
   ]
  },
  {
   "cell_type": "code",
   "execution_count": 41,
   "metadata": {},
   "outputs": [
    {
     "data": {
      "text/plain": [
       "<ShuffleDataset element_spec=(TensorSpec(shape=(100, 100, None), dtype=tf.float32, name=None), TensorSpec(shape=(100, 100, None), dtype=tf.float32, name=None), TensorSpec(shape=(), dtype=tf.float32, name=None))>"
      ]
     },
     "execution_count": 41,
     "metadata": {},
     "output_type": "execute_result"
    }
   ],
   "source": [
    "# (anchor, positive or negative, label) in a shuffled order\n",
    "data"
   ]
  },
  {
   "cell_type": "code",
   "execution_count": 42,
   "metadata": {},
   "outputs": [],
   "source": [
    "samples = data.as_numpy_iterator()"
   ]
  },
  {
   "cell_type": "code",
   "execution_count": 43,
   "metadata": {},
   "outputs": [
    {
     "data": {
      "text/plain": [
       "3"
      ]
     },
     "execution_count": 43,
     "metadata": {},
     "output_type": "execute_result"
    }
   ],
   "source": [
    "len(samples.next())"
   ]
  },
  {
   "cell_type": "code",
   "execution_count": 44,
   "metadata": {},
   "outputs": [],
   "source": [
    "samp = samples.next()"
   ]
  },
  {
   "cell_type": "code",
   "execution_count": 45,
   "metadata": {},
   "outputs": [
    {
     "data": {
      "text/plain": [
       "<matplotlib.image.AxesImage at 0x1d407f874f0>"
      ]
     },
     "execution_count": 45,
     "metadata": {},
     "output_type": "execute_result"
    },
    {
     "data": {
      "image/png": "[encoded data removed]",
      "text/plain": [
       "<Figure size 640x480 with 1 Axes>"
      ]
     },
     "metadata": {},
     "output_type": "display_data"
    }
   ],
   "source": [
    "# anchor image\n",
    "plt.imshow(samp[0])"
   ]
  },
  {
   "cell_type": "code",
   "execution_count": 46,
   "metadata": {},
   "outputs": [
    {
     "data": {
      "text/plain": [
       "<matplotlib.image.AxesImage at 0x1d407a28610>"
      ]
     },
     "execution_count": 46,
     "metadata": {},
     "output_type": "execute_result"
    },
    {
     "data": {
      "image/png": "[encoded data removed]",
      "text/plain": [
       "<Figure size 640x480 with 1 Axes>"
      ]
     },
     "metadata": {},
     "output_type": "display_data"
    }
   ],
   "source": [
    "# we get negative image so label should be 1\n",
    "plt.imshow(samp[1])"
   ]
  },
  {
   "cell_type": "code",
   "execution_count": 47,
   "metadata": {},
   "outputs": [
    {
     "data": {
      "text/plain": [
       "1.0"
      ]
     },
     "execution_count": 47,
     "metadata": {},
     "output_type": "execute_result"
    }
   ],
   "source": [
    "# since it's a negative image we should get label as 0\n",
    "samp[2]"
   ]
  },
  {
   "cell_type": "code",
   "execution_count": 48,
   "metadata": {},
   "outputs": [],
   "source": [
    "# check another image\n",
    "samp = samples.next()"
   ]
  },
  {
   "cell_type": "code",
   "execution_count": 49,
   "metadata": {},
   "outputs": [
    {
     "data": {
      "text/plain": [
       "<matplotlib.image.AxesImage at 0x1d4080598e0>"
      ]
     },
     "execution_count": 49,
     "metadata": {},
     "output_type": "execute_result"
    },
    {
     "data": {
      "image/png": "[encoded data removed]",
      "text/plain": [
       "<Figure size 640x480 with 1 Axes>"
      ]
     },
     "metadata": {},
     "output_type": "display_data"
    }
   ],
   "source": [
    "# another anchor image\n",
    "plt.imshow(samp[0])"
   ]
  },
  {
   "cell_type": "code",
   "execution_count": 50,
   "metadata": {},
   "outputs": [
    {
     "data": {
      "text/plain": [
       "<matplotlib.image.AxesImage at 0x1d4064999a0>"
      ]
     },
     "execution_count": 50,
     "metadata": {},
     "output_type": "execute_result"
    },
    {
     "data": {
      "image/png": "[encoded data removed]",
      "text/plain": [
       "<Figure size 640x480 with 1 Axes>"
      ]
     },
     "metadata": {},
     "output_type": "display_data"
    }
   ],
   "source": [
    "# negative image so label should be 0\n",
    "plt.imshow(samp[1])"
   ]
  },
  {
   "cell_type": "code",
   "execution_count": 51,
   "metadata": {},
   "outputs": [
    {
     "data": {
      "text/plain": [
       "0.0"
      ]
     },
     "execution_count": 51,
     "metadata": {},
     "output_type": "execute_result"
    }
   ],
   "source": [
    "# label of positive image\n",
    "samp[2]"
   ]
  },
  {
   "cell_type": "code",
   "execution_count": 52,
   "metadata": {},
   "outputs": [
    {
     "data": {
      "text/plain": [
       "1050"
      ]
     },
     "execution_count": 52,
     "metadata": {},
     "output_type": "execute_result"
    }
   ],
   "source": [
    "round(0.7 * len(data))"
   ]
  },
  {
   "cell_type": "code",
   "execution_count": 53,
   "metadata": {},
   "outputs": [
    {
     "data": {
      "text/plain": [
       "<ShuffleDataset element_spec=(TensorSpec(shape=(100, 100, None), dtype=tf.float32, name=None), TensorSpec(shape=(100, 100, None), dtype=tf.float32, name=None), TensorSpec(shape=(), dtype=tf.float32, name=None))>"
      ]
     },
     "execution_count": 53,
     "metadata": {},
     "output_type": "execute_result"
    }
   ],
   "source": [
    "# shape of data = (anchor image, positive or negative image, label))\n",
    "data"
   ]
  },
  {
   "cell_type": "code",
   "execution_count": 54,
   "metadata": {},
   "outputs": [],
   "source": [
    "# training partition\n",
    "\n",
    "# 70% of data for training\n",
    "train_data = data.take(round(0.7 * len(data)))\n",
    "# batch size = 16\n",
    "train_data = train_data.batch(16)\n",
    "\n",
    "'''\n",
    "prefetch : When the GPU is working on forward / backward propagation on the current batch, we want the CPU to process the next batch of data so that it is immediately ready. \n",
    "As the most expensive part of the computer, we want the GPU to be fully used all the time during training. \n",
    "We call this consumer / producer overlap, where the consumer is the GPU and the producer is the CPU.\n",
    "\n",
    "https://stackoverflow.com/questions/63796936/what-is-the-proper-use-of-tensorflow-dataset-prefetch-and-cache-options\n",
    "\n",
    "https://stackoverflow.com/questions/59228816/what-do-the-tensorflow-datasets-functions-cache-and-prefetch-do\n",
    "'''\n",
    "train_data = train_data.prefetch(8)"
   ]
  },
  {
   "cell_type": "code",
   "execution_count": 55,
   "metadata": {},
   "outputs": [
    {
     "data": {
      "text/plain": [
       "<PrefetchDataset element_spec=(TensorSpec(shape=(None, 100, 100, None), dtype=tf.float32, name=None), TensorSpec(shape=(None, 100, 100, None), dtype=tf.float32, name=None), TensorSpec(shape=(None,), dtype=tf.float32, name=None))>"
      ]
     },
     "execution_count": 55,
     "metadata": {},
     "output_type": "execute_result"
    }
   ],
   "source": [
    "# shape of train data\n",
    "# ((no. of images in batch, anchor image, positive or negative image, label), (), ())\n",
    "train_data"
   ]
  },
  {
   "cell_type": "code",
   "execution_count": 56,
   "metadata": {},
   "outputs": [],
   "source": [
    "train_samples = train_data.as_numpy_iterator()"
   ]
  },
  {
   "cell_type": "code",
   "execution_count": 57,
   "metadata": {},
   "outputs": [],
   "source": [
    "train_sample = train_samples.next()"
   ]
  },
  {
   "cell_type": "code",
   "execution_count": 58,
   "metadata": {},
   "outputs": [
    {
     "data": {
      "text/plain": [
       "16"
      ]
     },
     "execution_count": 58,
     "metadata": {},
     "output_type": "execute_result"
    }
   ],
   "source": [
    "# bacth size is 16. so each train_sample will have 16 images instead of single image\n",
    "len(train_sample[0])"
   ]
  },
  {
   "cell_type": "code",
   "execution_count": 59,
   "metadata": {},
   "outputs": [],
   "source": [
    "# Testing partition\n",
    "\n",
    "# skipping 70% of data for test data\n",
    "test_data = data.skip(round(0.7 * len(data)))\n",
    "# grabbing 30% of data for test data\n",
    "test_data = test_data.take(round(0.3 * len(data)))\n",
    "# batch size = 16\n",
    "test_data = test_data.batch(16)\n",
    "# prefetch\n",
    "test_data = test_data.prefetch(8)"
   ]
  },
  {
   "cell_type": "markdown",
   "metadata": {},
   "source": [
    "# 4. Model Engineering"
   ]
  },
  {
   "cell_type": "markdown",
   "metadata": {},
   "source": [
    "-  build an embedding layer\n",
    "\n",
    "-  create an L1 distance layer\n",
    "\n",
    "-  compile the siamese network\n"
   ]
  },
  {
   "cell_type": "markdown",
   "metadata": {},
   "source": [
    "#### 4.1 Build Embedding Layer"
   ]
  },
  {
   "cell_type": "code",
   "execution_count": 60,
   "metadata": {},
   "outputs": [],
   "source": [
    "def make_embedding():\n",
    "    \"\"\" base on research paper convolutional architecture\n",
    "\n",
    "    Returns:\n",
    "        Model: _description_\n",
    "    \"\"\"\n",
    "    # first block\n",
    "    # our input images are of shape 100*100*3. Slighting different from research paper\n",
    "    input_img = Input(shape=(100, 100, 3), name = \"input_image\")\n",
    "    # 64 filters of convolutional layer of size 10*10\n",
    "    conv_layer1 = Conv2D(64, (10, 10), activation = \"relu\" )(input_img)\n",
    "    # 64 filters of max pooling of size 2*2\n",
    "    max_pool1 = MaxPooling2D(64, (2,2), padding = \"same\")(conv_layer1)\n",
    "    \n",
    "    # second block\n",
    "    # 128 filters of convolutional layer of size 7*7\n",
    "    conv_layer2 = Conv2D(128, (7, 7), activation = \"relu\" )(max_pool1)\n",
    "    # 64 filters of max pooling of size 2*2\n",
    "    max_pool2 = MaxPooling2D(64, (2,2), padding = \"same\")(conv_layer2)\n",
    "    \n",
    "    # third block\n",
    "    # 128 filters of convolutional layer of size 4*4\n",
    "    conv_layer3 = Conv2D(128, (4, 4), activation = \"relu\" )(max_pool2)\n",
    "    # 64 filters of max pooling of size 2*2\n",
    "    max_pool3 = MaxPooling2D(64, (2,2), padding = \"same\")(conv_layer3)\n",
    "    \n",
    "    # final embedding block\n",
    "    # 256 filters of convolutional layer of size 4*4\n",
    "    conv_layer4 = Conv2D(256, (4, 4), activation = \"relu\" )(max_pool3)\n",
    "    # flatten the convolutional layer to single dimension\n",
    "    flatter_layer1 = Flatten()(conv_layer4)\n",
    "    # dense layer of 4096 neurons\n",
    "    dense_layer1 = Dense(4096, activation = \"sigmoid\")(flatter_layer1)\n",
    "    \n",
    "    \n",
    "    return Model(inputs = [input_img], outputs=[dense_layer1], name=\"embedding\")"
   ]
  },
  {
   "cell_type": "code",
   "execution_count": 61,
   "metadata": {},
   "outputs": [],
   "source": [
    "embedding_model = make_embedding()"
   ]
  },
  {
   "cell_type": "code",
   "execution_count": 62,
   "metadata": {},
   "outputs": [
    {
     "name": "stdout",
     "output_type": "stream",
     "text": [
      "Model: \"embedding\"\n",
      "_________________________________________________________________\n",
      "Layer (type)                 Output Shape              Param #   \n",
      "=================================================================\n",
      "input_image (InputLayer)     [(None, 100, 100, 3)]     0         \n",
      "_________________________________________________________________\n",
      "conv2d (Conv2D)              (None, 91, 91, 64)        19264     \n",
      "_________________________________________________________________\n",
      "max_pooling2d (MaxPooling2D) (None, 46, 46, 64)        0         \n",
      "_________________________________________________________________\n",
      "conv2d_1 (Conv2D)            (None, 40, 40, 128)       401536    \n",
      "_________________________________________________________________\n",
      "max_pooling2d_1 (MaxPooling2 (None, 20, 20, 128)       0         \n",
      "_________________________________________________________________\n",
      "conv2d_2 (Conv2D)            (None, 17, 17, 128)       262272    \n",
      "_________________________________________________________________\n",
      "max_pooling2d_2 (MaxPooling2 (None, 9, 9, 128)         0         \n",
      "_________________________________________________________________\n",
      "conv2d_3 (Conv2D)            (None, 6, 6, 256)         524544    \n",
      "_________________________________________________________________\n",
      "flatten (Flatten)            (None, 9216)              0         \n",
      "_________________________________________________________________\n",
      "dense (Dense)                (None, 4096)              37752832  \n",
      "=================================================================\n",
      "Total params: 38,960,448\n",
      "Trainable params: 38,960,448\n",
      "Non-trainable params: 0\n",
      "_________________________________________________________________\n"
     ]
    }
   ],
   "source": [
    "embedding_model.summary()"
   ]
  },
  {
   "cell_type": "markdown",
   "metadata": {},
   "source": [
    "#### 4.2 Build Distance Layer"
   ]
  },
  {
   "cell_type": "code",
   "execution_count": 63,
   "metadata": {},
   "outputs": [],
   "source": [
    "class L1Dist(Layer):\n",
    "    \"\"\" custom L1 layer to calculate L1 distance between two images\n",
    "\n",
    "    Args:\n",
    "        Layer : base class\n",
    "    \"\"\"\n",
    "    def __init__(self, **kwargs):\n",
    "        super().__init__()\n",
    "    \n",
    "    def call(self, input_embeddings, validation_embeddings):\n",
    "        \"\"\"return the L1 distance between two images i.e performing similarity calculation\n",
    "\n",
    "        Args:\n",
    "            input_embeddings : anchor image\n",
    "            validation_embeddings : positive or negative image\n",
    "\n",
    "        Returns:\n",
    "            _type_: _description_\n",
    "        \"\"\"\n",
    "        # calculate the distance between anchor or input image and positive or negative image\n",
    "        distance = tf.math.abs(input_embeddings - validation_embeddings)\n",
    "        return distance"
   ]
  },
  {
   "cell_type": "code",
   "execution_count": 64,
   "metadata": {},
   "outputs": [],
   "source": [
    "l1_dist_obj = L1Dist()"
   ]
  },
  {
   "cell_type": "markdown",
   "metadata": {},
   "source": [
    "#### 4.3 Make Siamese model"
   ]
  },
  {
   "cell_type": "code",
   "execution_count": 65,
   "metadata": {},
   "outputs": [],
   "source": [
    "\n",
    "def make_siamese_model():\n",
    "    \"\"\"generate siamese model\n",
    "    \"\"\"\n",
    "    \n",
    "    # anchor image input in the network\n",
    "    input_img = Input(shape=(100, 100, 3), name = \"input_image\")\n",
    "    \n",
    "    # validation image in the network\n",
    "    validation_img = Input(shape=(100, 100, 3), name = \"validation_image\")\n",
    "    \n",
    "    # Combine siamese distance components\n",
    "    siamese_layer_obj = L1Dist()\n",
    "    # set the name which will be used in model.summary()\n",
    "    siamese_layer_obj._name = \"distance\"\n",
    "    # perform embedding on anchor image and validation image\n",
    "    distances = siamese_layer_obj(embedding_model(input_img), embedding_model(validation_img))\n",
    "    \n",
    "    # classification layer\n",
    "    clf = Dense(1, activation = \"sigmoid\")(distances)\n",
    "    \n",
    "    # we send both anchor and validation image as input to the network \n",
    "    return Model(inputs = [input_img, validation_img], outputs=[clf], name=\"Siamese_model\")\n",
    "    \n",
    "    "
   ]
  },
  {
   "attachments": {},
   "cell_type": "markdown",
   "metadata": {},
   "source": [
    "#### Perform Check:"
   ]
  },
  {
   "cell_type": "code",
   "execution_count": 66,
   "metadata": {},
   "outputs": [],
   "source": [
    "# checking the embedding applied to anchor image\n",
    "\n",
    "# input_img = Input(shape=(100, 100, 3), name = \"input_image\")\n",
    "# inp_embedding = embedding_model(input_img)\n",
    "# inp_embedding"
   ]
  },
  {
   "cell_type": "code",
   "execution_count": 67,
   "metadata": {},
   "outputs": [],
   "source": [
    "# checking the embedding applied to validation image\n",
    "# validation_img = Input(shape=(100, 100, 3), name = \"validation_image\")\n",
    "# val_embedding = embedding_model(validation_img)\n",
    "# val_embedding"
   ]
  },
  {
   "cell_type": "code",
   "execution_count": 68,
   "metadata": {},
   "outputs": [],
   "source": [
    "# siamese_layer_obj = L1Dist()"
   ]
  },
  {
   "cell_type": "code",
   "execution_count": 69,
   "metadata": {},
   "outputs": [],
   "source": [
    "# distances = siamese_layer_obj(inp_embedding, val_embedding)"
   ]
  },
  {
   "cell_type": "code",
   "execution_count": 70,
   "metadata": {},
   "outputs": [],
   "source": [
    "# distances"
   ]
  },
  {
   "cell_type": "code",
   "execution_count": 71,
   "metadata": {},
   "outputs": [],
   "source": [
    "# clf = Dense(1, activation=\"sigmoid\")(distances)"
   ]
  },
  {
   "cell_type": "code",
   "execution_count": 72,
   "metadata": {},
   "outputs": [],
   "source": [
    "# output of siamese model having shape 1\n",
    "# clf"
   ]
  },
  {
   "cell_type": "code",
   "execution_count": 73,
   "metadata": {},
   "outputs": [],
   "source": [
    "# siamese_model = Model(inputs = [input_img, validation_img], outputs=[clf], name=\"Siamese_model\")"
   ]
  },
  {
   "cell_type": "code",
   "execution_count": 74,
   "metadata": {},
   "outputs": [],
   "source": [
    "# siamese_model.summary()"
   ]
  },
  {
   "attachments": {},
   "cell_type": "markdown",
   "metadata": {},
   "source": [
    "#### Summary of the siamese model"
   ]
  },
  {
   "cell_type": "code",
   "execution_count": 75,
   "metadata": {},
   "outputs": [],
   "source": [
    "# calling the siamese model\n",
    "\n",
    "siamese_model = make_siamese_model()"
   ]
  },
  {
   "cell_type": "code",
   "execution_count": 76,
   "metadata": {},
   "outputs": [
    {
     "name": "stdout",
     "output_type": "stream",
     "text": [
      "Model: \"Siamese_model\"\n",
      "__________________________________________________________________________________________________\n",
      "Layer (type)                    Output Shape         Param #     Connected to                     \n",
      "==================================================================================================\n",
      "input_image (InputLayer)        [(None, 100, 100, 3) 0                                            \n",
      "__________________________________________________________________________________________________\n",
      "validation_image (InputLayer)   [(None, 100, 100, 3) 0                                            \n",
      "__________________________________________________________________________________________________\n",
      "embedding (Functional)          (None, 4096)         38960448    input_image[0][0]                \n",
      "                                                                 validation_image[0][0]           \n",
      "__________________________________________________________________________________________________\n",
      "distance (L1Dist)               (None, 4096)         0           embedding[0][0]                  \n",
      "                                                                 embedding[1][0]                  \n",
      "__________________________________________________________________________________________________\n",
      "dense_1 (Dense)                 (None, 1)            4097        distance[0][0]                   \n",
      "==================================================================================================\n",
      "Total params: 38,964,545\n",
      "Trainable params: 38,964,545\n",
      "Non-trainable params: 0\n",
      "__________________________________________________________________________________________________\n"
     ]
    }
   ],
   "source": [
    "# this is the summary of siamese model\n",
    "siamese_model.summary()"
   ]
  },
  {
   "cell_type": "markdown",
   "metadata": {},
   "source": [
    "### Training the model"
   ]
  },
  {
   "attachments": {},
   "cell_type": "markdown",
   "metadata": {},
   "source": [
    "#### Setup the optimizer and loss function"
   ]
  },
  {
   "cell_type": "code",
   "execution_count": 77,
   "metadata": {},
   "outputs": [],
   "source": [
    "# loss function\n",
    "binary_crossentropy_loss = tf.keras.losses.BinaryCrossentropy()"
   ]
  },
  {
   "cell_type": "code",
   "execution_count": 78,
   "metadata": {},
   "outputs": [],
   "source": [
    "# optimizer\n",
    "adam_optimizer = tf.keras.optimizers.Adam(1e-4) # 0.0001"
   ]
  },
  {
   "cell_type": "markdown",
   "metadata": {},
   "source": [
    "#### Establish checkpoints"
   ]
  },
  {
   "cell_type": "code",
   "execution_count": 79,
   "metadata": {},
   "outputs": [],
   "source": [
    "checkpoint_dir = './training_checkpoints'\n",
    "checkpoint_prefix = os.path.join(checkpoint_dir, \"ckpt\")\n",
    "# save both model and optimizer state in checkpoint\n",
    "checkpoint = tf.train.Checkpoint(optimizer = adam_optimizer, siamese_model = siamese_model)"
   ]
  },
  {
   "cell_type": "markdown",
   "metadata": {},
   "source": [
    "#### Build train step function"
   ]
  },
  {
   "cell_type": "code",
   "execution_count": 80,
   "metadata": {},
   "outputs": [],
   "source": [
    "@tf.function # it compiles an entire neural network into a graph and allows us to train it in an efficient way\n",
    "def train_step(batch):\n",
    "    # GradientTape perfroms automatic differentiation and records all the operations\n",
    "    with tf.GradientTape() as tape:\n",
    "        # get anchor image and validation image i.e. positive/negative image\n",
    "        x = batch[:2]\n",
    "        # get the label of the image\n",
    "        y = batch[2]\n",
    "        \n",
    "        # Forward pass\n",
    "        y_pred = siamese_model(x, training=True)\n",
    "        # calculate the loss\n",
    "        binary_cross_loss_val = binary_crossentropy_loss(y, y_pred)\n",
    "    \n",
    "    print(f\"loss = {binary_cross_loss_val}\")\n",
    "    \n",
    "    # calculate the gradients from the recorded operations i.r. tape for all of the trainable variables\n",
    "    grad = tape.gradient(binary_cross_loss_val, siamese_model.trainable_variables)\n",
    "    \n",
    "    # calculate updated weights and apply to siamese model\n",
    "    adam_optimizer.apply_gradients(zip(grad, siamese_model.trainable_variables))\n",
    "    \n",
    "    return binary_cross_loss_val\n",
    "        \n"
   ]
  },
  {
   "attachments": {},
   "cell_type": "markdown",
   "metadata": {},
   "source": [
    "#### Build Training Loop"
   ]
  },
  {
   "cell_type": "code",
   "execution_count": 81,
   "metadata": {},
   "outputs": [],
   "source": [
    "def train(train_data, EPOCHS):\n",
    "    # loop through the epochs\n",
    "    for epoch in range(1, EPOCHS + 1):\n",
    "        print(f\"Epoch {epoch}/{EPOCHS}\")\n",
    "        prog_bar = tf.keras.utils.Progbar(len(train_data))\n",
    "        \n",
    "        # creating a metric object to calculate recall and precision\n",
    "        recall = Recall()\n",
    "        precision = Precision()\n",
    "        \n",
    "        # loop through each batch\n",
    "        for idx, batch in enumerate(train_data):\n",
    "            # run train step here\n",
    "            loss = train_step(batch)\n",
    "            y_pred = siamese_model.predict(batch[:2])\n",
    "            recall.update_state(batch[2], y_pred)\n",
    "            precision.update_state(batch[2], y_pred)\n",
    "            prog_bar.update(idx + 1)\n",
    "            \n",
    "        print(f\"loss = {loss.numpy()}\")\n",
    "        print(f\"recall = {recall.result().numpy()}\")\n",
    "        print(f\"precision = {precision.result().numpy()}\")\n",
    "            \n",
    "        # save checkpoint after each epoch\n",
    "        if epoch % 10 == 0:\n",
    "            checkpoint.save(file_prefix = checkpoint_prefix)"
   ]
  },
  {
   "cell_type": "markdown",
   "metadata": {},
   "source": [
    "#### Train the model"
   ]
  },
  {
   "cell_type": "code",
   "execution_count": 82,
   "metadata": {},
   "outputs": [],
   "source": [
    "EPOCHS = 20"
   ]
  },
  {
   "cell_type": "code",
   "execution_count": 83,
   "metadata": {},
   "outputs": [
    {
     "name": "stdout",
     "output_type": "stream",
     "text": [
      "Epoch 1/20\n",
      "loss = Tensor(\"binary_crossentropy/weighted_loss/value:0\", shape=(), dtype=float32)\n",
      "loss = Tensor(\"binary_crossentropy/weighted_loss/value:0\", shape=(), dtype=float32)\n",
      "65/66 [============================>.] - ETA: 1sloss = Tensor(\"binary_crossentropy/weighted_loss/value:0\", shape=(), dtype=float32)\n",
      "66/66 [==============================] - 92s 1s/step\n",
      "loss = 0.07035823166370392\n",
      "recall = 0.6187845468521118\n",
      "precision = 0.9795918464660645\n",
      "Epoch 2/20\n",
      "66/66 [==============================] - 76s 1s/step\n",
      "loss = 0.0030384412966668606\n",
      "recall = 0.9437386393547058\n",
      "precision = 0.9961685538291931\n",
      "Epoch 3/20\n",
      "66/66 [==============================] - 77s 1s/step\n",
      "loss = 0.030849773436784744\n",
      "recall = 0.9635701179504395\n",
      "precision = 0.9962335228919983\n",
      "Epoch 4/20\n",
      "66/66 [==============================] - 78s 1s/step\n",
      "loss = 0.16570357978343964\n",
      "recall = 0.9487179517745972\n",
      "precision = 0.9942418336868286\n",
      "Epoch 5/20\n",
      "66/66 [==============================] - 79s 1s/step\n",
      "loss = 0.009100263006985188\n",
      "recall = 0.9797794222831726\n",
      "precision = 0.9962616562843323\n",
      "Epoch 6/20\n",
      "66/66 [==============================] - 79s 1s/step\n",
      "loss = 0.012952141463756561\n",
      "recall = 0.9906890392303467\n",
      "precision = 0.998123824596405\n",
      "Epoch 7/20\n",
      "66/66 [==============================] - 78s 1s/step\n",
      "loss = 0.02375957928597927\n",
      "recall = 0.9890310764312744\n",
      "precision = 1.0\n",
      "Epoch 8/20\n",
      "66/66 [==============================] - 78s 1s/step\n",
      "loss = 0.07936345040798187\n",
      "recall = 0.966911792755127\n",
      "precision = 0.9740740656852722\n",
      "Epoch 9/20\n",
      "66/66 [==============================] - 80s 1s/step\n",
      "loss = 0.0018396839732304215\n",
      "recall = 0.9982046484947205\n",
      "precision = 1.0\n",
      "Epoch 10/20\n",
      "66/66 [==============================] - 79s 1s/step\n",
      "loss = 0.003151657059788704\n",
      "recall = 0.998161792755127\n",
      "precision = 1.0\n",
      "Epoch 11/20\n",
      "66/66 [==============================] - 77s 1s/step\n",
      "loss = 0.008205698803067207\n",
      "recall = 0.9926199316978455\n",
      "precision = 1.0\n",
      "Epoch 12/20\n",
      "66/66 [==============================] - 78s 1s/step\n",
      "loss = 0.01341329701244831\n",
      "recall = 1.0\n",
      "precision = 1.0\n",
      "Epoch 13/20\n",
      "66/66 [==============================] - 81s 1s/step\n",
      "loss = 0.016537224873900414\n",
      "recall = 0.9981883764266968\n",
      "precision = 1.0\n",
      "Epoch 14/20\n",
      "66/66 [==============================] - 80s 1s/step\n",
      "loss = 0.006844524294137955\n",
      "recall = 1.0\n",
      "precision = 1.0\n",
      "Epoch 15/20\n",
      "66/66 [==============================] - 80s 1s/step\n",
      "loss = 0.0028562049847096205\n",
      "recall = 1.0\n",
      "precision = 1.0\n",
      "Epoch 16/20\n",
      "66/66 [==============================] - 81s 1s/step\n",
      "loss = 0.00044584189890883863\n",
      "recall = 1.0\n",
      "precision = 1.0\n",
      "Epoch 17/20\n",
      "66/66 [==============================] - 79s 1s/step\n",
      "loss = 0.015548686496913433\n",
      "recall = 1.0\n",
      "precision = 1.0\n",
      "Epoch 18/20\n",
      "66/66 [==============================] - 80s 1s/step\n",
      "loss = 0.05664851516485214\n",
      "recall = 0.996303141117096\n",
      "precision = 1.0\n",
      "Epoch 19/20\n",
      "66/66 [==============================] - 80s 1s/step\n",
      "loss = 0.00044702235027216375\n",
      "recall = 1.0\n",
      "precision = 0.998171865940094\n",
      "Epoch 20/20\n",
      "66/66 [==============================] - 80s 1s/step\n",
      "loss = 0.0002634431584738195\n",
      "recall = 0.9981481432914734\n",
      "precision = 1.0\n"
     ]
    }
   ],
   "source": [
    "train(train_data, EPOCHS)"
   ]
  },
  {
   "attachments": {},
   "cell_type": "markdown",
   "metadata": {},
   "source": [
    "# Evalute Model"
   ]
  },
  {
   "attachments": {},
   "cell_type": "markdown",
   "metadata": {},
   "source": [
    "### Make Predictions"
   ]
  },
  {
   "cell_type": "code",
   "execution_count": 81,
   "metadata": {},
   "outputs": [],
   "source": [
    "# get a batch of test data\n",
    "test_input, test_vl, y_true = test_data.as_numpy_iterator().next()"
   ]
  },
  {
   "cell_type": "code",
   "execution_count": 82,
   "metadata": {},
   "outputs": [
    {
     "data": {
      "text/plain": [
       "array([[[[0.42843136, 0.44607842, 0.44117647],\n",
       "         [0.42352942, 0.43137255, 0.42745098],\n",
       "         [0.4254902 , 0.43333334, 0.42941177],\n",
       "         ...,\n",
       "         [0.4627451 , 0.54901963, 0.5411765 ],\n",
       "         [0.48333332, 0.56960785, 0.5617647 ],\n",
       "         [0.47745097, 0.5617647 , 0.5509804 ]],\n",
       "\n",
       "        [[0.42058823, 0.42647058, 0.42352942],\n",
       "         [0.4127451 , 0.422549  , 0.41862744],\n",
       "         [0.41862744, 0.42843136, 0.4245098 ],\n",
       "         ...,\n",
       "         [0.4480392 , 0.53431374, 0.5264706 ],\n",
       "         [0.4715686 , 0.5686275 , 0.5598039 ],\n",
       "         [0.4627451 , 0.5617647 , 0.55196077]],\n",
       "\n",
       "        [[0.41666666, 0.4245098 , 0.42058823],\n",
       "         [0.4107843 , 0.42647058, 0.422549  ],\n",
       "         [0.4       , 0.43235293, 0.42156863],\n",
       "         ...,\n",
       "         [0.45882353, 0.5392157 , 0.53431374],\n",
       "         [0.4509804 , 0.54509807, 0.54509807],\n",
       "         [0.45294118, 0.54901963, 0.5480392 ]],\n",
       "\n",
       "        ...,\n",
       "\n",
       "        [[0.28627452, 0.28921568, 0.27254903],\n",
       "         [0.2784314 , 0.28137255, 0.2647059 ],\n",
       "         [0.28529412, 0.28529412, 0.27941176],\n",
       "         ...,\n",
       "         [0.15980393, 0.15980393, 0.15196079],\n",
       "         [0.14803922, 0.14803922, 0.14019608],\n",
       "         [0.14803922, 0.14803922, 0.14019608]],\n",
       "\n",
       "        [[0.2901961 , 0.2901961 , 0.28235295],\n",
       "         [0.28431374, 0.28431374, 0.2764706 ],\n",
       "         [0.29117647, 0.29117647, 0.28529412],\n",
       "         ...,\n",
       "         [0.14901961, 0.14901961, 0.14117648],\n",
       "         [0.14509805, 0.14509805, 0.13725491],\n",
       "         [0.14117648, 0.14117648, 0.13333334]],\n",
       "\n",
       "        [[0.28627452, 0.2901961 , 0.27058825],\n",
       "         [0.28627452, 0.2901961 , 0.27058825],\n",
       "         [0.28627452, 0.2901961 , 0.27058825],\n",
       "         ...,\n",
       "         [0.14411765, 0.14411765, 0.14411765],\n",
       "         [0.14117648, 0.14117648, 0.14117648],\n",
       "         [0.13725491, 0.13725491, 0.13725491]]],\n",
       "\n",
       "\n",
       "       [[[0.4127451 , 0.42058823, 0.40882352],\n",
       "         [0.39509803, 0.41862744, 0.4107843 ],\n",
       "         [0.39117646, 0.42647058, 0.41470587],\n",
       "         ...,\n",
       "         [0.43823528, 0.52843136, 0.50490195],\n",
       "         [0.46764705, 0.5421569 , 0.5264706 ],\n",
       "         [0.45588234, 0.53431374, 0.5264706 ]],\n",
       "\n",
       "        [[0.4117647 , 0.4117647 , 0.40392157],\n",
       "         [0.40784314, 0.42352942, 0.41960785],\n",
       "         [0.38431373, 0.41960785, 0.40784314],\n",
       "         ...,\n",
       "         [0.44509804, 0.53137255, 0.51960784],\n",
       "         [0.45392156, 0.53431374, 0.5264706 ],\n",
       "         [0.45196077, 0.5323529 , 0.5245098 ]],\n",
       "\n",
       "        [[0.39803922, 0.41470587, 0.4       ],\n",
       "         [0.3970588 , 0.42058823, 0.4127451 ],\n",
       "         [0.39117646, 0.42647058, 0.41470587],\n",
       "         ...,\n",
       "         [0.44411764, 0.53039217, 0.52156866],\n",
       "         [0.44313726, 0.5411765 , 0.5294118 ],\n",
       "         [0.43235293, 0.53333336, 0.52156866]],\n",
       "\n",
       "        ...,\n",
       "\n",
       "        [[0.27058825, 0.29313725, 0.26960784],\n",
       "         [0.27941176, 0.2872549 , 0.28333333],\n",
       "         [0.28627452, 0.2882353 , 0.2784314 ],\n",
       "         ...,\n",
       "         [0.13725491, 0.13725491, 0.13725491],\n",
       "         [0.13333334, 0.13333334, 0.13333334],\n",
       "         [0.13627452, 0.13627452, 0.13627452]],\n",
       "\n",
       "        [[0.29509804, 0.27941176, 0.26862746],\n",
       "         [0.27941176, 0.2872549 , 0.27745098],\n",
       "         [0.3       , 0.29313725, 0.2735294 ],\n",
       "         ...,\n",
       "         [0.13431373, 0.13431373, 0.13431373],\n",
       "         [0.13333334, 0.13333334, 0.13333334],\n",
       "         [0.13333334, 0.13333334, 0.13333334]],\n",
       "\n",
       "        [[0.3372549 , 0.28137255, 0.2754902 ],\n",
       "         [0.3627451 , 0.26862746, 0.2764706 ],\n",
       "         [0.45196077, 0.2637255 , 0.2784314 ],\n",
       "         ...,\n",
       "         [0.12941177, 0.12941177, 0.12941177],\n",
       "         [0.13627452, 0.13627452, 0.13627452],\n",
       "         [0.13333334, 0.13333334, 0.13333334]]],\n",
       "\n",
       "\n",
       "       [[[0.41862744, 0.42647058, 0.422549  ],\n",
       "         [0.41470587, 0.43039215, 0.42647058],\n",
       "         [0.41960785, 0.43529412, 0.43137255],\n",
       "         ...,\n",
       "         [0.4872549 , 0.54607844, 0.5264706 ],\n",
       "         [0.5       , 0.5588235 , 0.5392157 ],\n",
       "         [0.49509802, 0.5617647 , 0.5382353 ]],\n",
       "\n",
       "        [[0.40980393, 0.42745098, 0.422549  ],\n",
       "         [0.4107843 , 0.4343137 , 0.42647058],\n",
       "         [0.40588236, 0.43235293, 0.42352942],\n",
       "         ...,\n",
       "         [0.49215686, 0.55196077, 0.54019606],\n",
       "         [0.49803922, 0.55784315, 0.54019606],\n",
       "         [0.49019608, 0.54901963, 0.53137255]],\n",
       "\n",
       "        [[0.4107843 , 0.42843136, 0.42352942],\n",
       "         [0.40588236, 0.43235293, 0.42352942],\n",
       "         [0.40588236, 0.43235293, 0.42352942],\n",
       "         ...,\n",
       "         [0.47549018, 0.5382353 , 0.5323529 ],\n",
       "         [0.48137254, 0.5441176 , 0.5382353 ],\n",
       "         [0.49411765, 0.55588233, 0.5441176 ]],\n",
       "\n",
       "        ...,\n",
       "\n",
       "        [[0.2735294 , 0.28431374, 0.27156863],\n",
       "         [0.27450982, 0.29411766, 0.2784314 ],\n",
       "         [0.28431374, 0.29509804, 0.28235295],\n",
       "         ...,\n",
       "         [0.19117647, 0.19117647, 0.19117647],\n",
       "         [0.16764706, 0.16764706, 0.16764706],\n",
       "         [0.15980393, 0.15980393, 0.15980393]],\n",
       "\n",
       "        [[0.28333333, 0.29411766, 0.28137255],\n",
       "         [0.2784314 , 0.28333333, 0.26568627],\n",
       "         [0.28235295, 0.2872549 , 0.26960784],\n",
       "         ...,\n",
       "         [0.15784314, 0.15784314, 0.15784314],\n",
       "         [0.15196079, 0.15196079, 0.15196079],\n",
       "         [0.14607844, 0.14607844, 0.14607844]],\n",
       "\n",
       "        [[0.30392158, 0.2872549 , 0.2754902 ],\n",
       "         [0.31862745, 0.28529412, 0.27450982],\n",
       "         [0.30490196, 0.28333333, 0.25980392],\n",
       "         ...,\n",
       "         [0.16078432, 0.16078432, 0.16078432],\n",
       "         [0.14901961, 0.14901961, 0.14901961],\n",
       "         [0.14901961, 0.14901961, 0.14901961]]],\n",
       "\n",
       "\n",
       "       ...,\n",
       "\n",
       "\n",
       "       [[[0.37843138, 0.4137255 , 0.4019608 ],\n",
       "         [0.38431373, 0.41960785, 0.40784314],\n",
       "         [0.38333333, 0.41862744, 0.40686274],\n",
       "         ...,\n",
       "         [0.43235293, 0.53039217, 0.5147059 ],\n",
       "         [0.4362745 , 0.53431374, 0.51862746],\n",
       "         [0.43039215, 0.5323529 , 0.5205882 ]],\n",
       "\n",
       "        [[0.39411765, 0.41666666, 0.40686274],\n",
       "         [0.4       , 0.422549  , 0.4127451 ],\n",
       "         [0.39509803, 0.41666666, 0.40980393],\n",
       "         ...,\n",
       "         [0.44313726, 0.5294118 , 0.5176471 ],\n",
       "         [0.44313726, 0.5294118 , 0.5176471 ],\n",
       "         [0.44215685, 0.52843136, 0.5205882 ]],\n",
       "\n",
       "        [[0.39411765, 0.41666666, 0.40098038],\n",
       "         [0.4       , 0.422549  , 0.40686274],\n",
       "         [0.39509803, 0.41666666, 0.40392157],\n",
       "         ...,\n",
       "         [0.4343137 , 0.5294118 , 0.5147059 ],\n",
       "         [0.44019607, 0.5352941 , 0.5235294 ],\n",
       "         [0.44313726, 0.527451  , 0.5205882 ]],\n",
       "\n",
       "        ...,\n",
       "\n",
       "        [[0.27156863, 0.27745098, 0.26862746],\n",
       "         [0.2784314 , 0.28431374, 0.27941176],\n",
       "         [0.2754902 , 0.28137255, 0.2764706 ],\n",
       "         ...,\n",
       "         [0.14411765, 0.14411765, 0.14411765],\n",
       "         [0.14411765, 0.14411765, 0.14411765],\n",
       "         [0.1392157 , 0.1392157 , 0.1392157 ]],\n",
       "\n",
       "        [[0.27745098, 0.27745098, 0.27156863],\n",
       "         [0.2784314 , 0.2784314 , 0.27058825],\n",
       "         [0.27450982, 0.27156863, 0.2637255 ],\n",
       "         ...,\n",
       "         [0.14117648, 0.14117648, 0.14117648],\n",
       "         [0.13431373, 0.13431373, 0.13431373],\n",
       "         [0.13333334, 0.13333334, 0.13333334]],\n",
       "\n",
       "        [[0.27941176, 0.2754902 , 0.26764706],\n",
       "         [0.28333333, 0.27941176, 0.27156863],\n",
       "         [0.2627451 , 0.25882354, 0.2509804 ],\n",
       "         ...,\n",
       "         [0.13725491, 0.13725491, 0.13725491],\n",
       "         [0.13333334, 0.13333334, 0.13333334],\n",
       "         [0.13333334, 0.13333334, 0.13333334]]],\n",
       "\n",
       "\n",
       "       [[[0.4245098 , 0.43235293, 0.42843136],\n",
       "         [0.42352942, 0.43137255, 0.41960785],\n",
       "         [0.42745098, 0.44705883, 0.43137255],\n",
       "         ...,\n",
       "         [0.4990196 , 0.55490196, 0.5362745 ],\n",
       "         [0.48921567, 0.5617647 , 0.5382353 ],\n",
       "         [0.4735294 , 0.55196077, 0.5441176 ]],\n",
       "\n",
       "        [[0.4127451 , 0.42843136, 0.4245098 ],\n",
       "         [0.4137255 , 0.4343137 , 0.41862744],\n",
       "         [0.41470587, 0.43823528, 0.422549  ],\n",
       "         ...,\n",
       "         [0.4970588 , 0.5637255 , 0.54019606],\n",
       "         [0.48333332, 0.55784315, 0.53431374],\n",
       "         [0.47843137, 0.5598039 , 0.5480392 ]],\n",
       "\n",
       "        [[0.41862744, 0.4343137 , 0.43039215],\n",
       "         [0.40784314, 0.42843136, 0.4127451 ],\n",
       "         [0.40490195, 0.42843136, 0.4127451 ],\n",
       "         ...,\n",
       "         [0.48039216, 0.5470588 , 0.5235294 ],\n",
       "         [0.46960783, 0.5441176 , 0.5205882 ],\n",
       "         [0.47549018, 0.55784315, 0.5382353 ]],\n",
       "\n",
       "        ...,\n",
       "\n",
       "        [[0.28235295, 0.28529412, 0.26862746],\n",
       "         [0.28235295, 0.2901961 , 0.2764706 ],\n",
       "         [0.27450982, 0.28235295, 0.26862746],\n",
       "         ...,\n",
       "         [0.19019608, 0.19019608, 0.18235295],\n",
       "         [0.18137255, 0.18137255, 0.17352942],\n",
       "         [0.1764706 , 0.1764706 , 0.16862746]],\n",
       "\n",
       "        [[0.2784314 , 0.2784314 , 0.27058825],\n",
       "         [0.2784314 , 0.28627452, 0.26666668],\n",
       "         [0.28431374, 0.28921568, 0.26666668],\n",
       "         ...,\n",
       "         [0.18431373, 0.18431373, 0.1764706 ],\n",
       "         [0.16960785, 0.16960785, 0.16176471],\n",
       "         [0.1627451 , 0.1627451 , 0.15490197]],\n",
       "\n",
       "        [[0.28235295, 0.28235295, 0.27450982],\n",
       "         [0.28627452, 0.2901961 , 0.26666668],\n",
       "         [0.28235295, 0.28627452, 0.25490198],\n",
       "         ...,\n",
       "         [0.17156863, 0.17156863, 0.1637255 ],\n",
       "         [0.15686275, 0.15686275, 0.14901961],\n",
       "         [0.15196079, 0.15196079, 0.14411765]]],\n",
       "\n",
       "\n",
       "       [[[0.4392157 , 0.43529412, 0.42745098],\n",
       "         [0.42941177, 0.44313726, 0.4392157 ],\n",
       "         [0.41862744, 0.4509804 , 0.4480392 ],\n",
       "         ...,\n",
       "         [0.49607843, 0.57058823, 0.55490196],\n",
       "         [0.49411765, 0.5686275 , 0.5529412 ],\n",
       "         [0.49019608, 0.57254905, 0.5529412 ]],\n",
       "\n",
       "        [[0.4254902 , 0.42745098, 0.41862744],\n",
       "         [0.41862744, 0.44215685, 0.4343137 ],\n",
       "         [0.4107843 , 0.44607842, 0.4343137 ],\n",
       "         ...,\n",
       "         [0.48921567, 0.5637255 , 0.54019606],\n",
       "         [0.49607843, 0.5686275 , 0.54509807],\n",
       "         [0.49215686, 0.5647059 , 0.5470588 ]],\n",
       "\n",
       "        [[0.4254902 , 0.43333334, 0.41568628],\n",
       "         [0.41568628, 0.4392157 , 0.4254902 ],\n",
       "         [0.40784314, 0.44313726, 0.43137255],\n",
       "         ...,\n",
       "         [0.47941175, 0.5539216 , 0.53039217],\n",
       "         [0.49803922, 0.5588235 , 0.5382353 ],\n",
       "         [0.49803922, 0.5588235 , 0.5382353 ]],\n",
       "\n",
       "        ...,\n",
       "\n",
       "        [[0.28235295, 0.28627452, 0.26666668],\n",
       "         [0.29313725, 0.29705882, 0.27156863],\n",
       "         [0.2901961 , 0.29411766, 0.27058825],\n",
       "         ...,\n",
       "         [0.20294118, 0.20294118, 0.19509804],\n",
       "         [0.1872549 , 0.1872549 , 0.17941177],\n",
       "         [0.18137255, 0.18137255, 0.17352942]],\n",
       "\n",
       "        [[0.28529412, 0.28921568, 0.26960784],\n",
       "         [0.28333333, 0.2872549 , 0.2617647 ],\n",
       "         [0.2901961 , 0.29411766, 0.27058825],\n",
       "         ...,\n",
       "         [0.18529412, 0.18529412, 0.17745098],\n",
       "         [0.18529412, 0.18529412, 0.17745098],\n",
       "         [0.17450981, 0.17450981, 0.16666667]],\n",
       "\n",
       "        [[0.28627452, 0.28627452, 0.28039217],\n",
       "         [0.28627452, 0.2901961 , 0.27058825],\n",
       "         [0.29411766, 0.29411766, 0.28627452],\n",
       "         ...,\n",
       "         [0.17941177, 0.17941177, 0.17156863],\n",
       "         [0.16764706, 0.16764706, 0.15980393],\n",
       "         [0.16764706, 0.16764706, 0.15980393]]]], dtype=float32)"
      ]
     },
     "execution_count": 82,
     "metadata": {},
     "output_type": "execute_result"
    }
   ],
   "source": [
    "test_input"
   ]
  },
  {
   "cell_type": "code",
   "execution_count": 83,
   "metadata": {},
   "outputs": [
    {
     "data": {
      "text/plain": [
       "array([[[[8.98039222e-01, 9.17647064e-01, 9.29411769e-01],\n",
       "         [9.05882359e-01, 9.25490201e-01, 9.37254906e-01],\n",
       "         [9.02941167e-01, 9.22549009e-01, 9.34313715e-01],\n",
       "         ...,\n",
       "         [0.00000000e+00, 0.00000000e+00, 0.00000000e+00],\n",
       "         [0.00000000e+00, 0.00000000e+00, 0.00000000e+00],\n",
       "         [0.00000000e+00, 0.00000000e+00, 0.00000000e+00]],\n",
       "\n",
       "        [[9.00980413e-01, 9.20588255e-01, 9.32352960e-01],\n",
       "         [9.06127453e-01, 9.25735295e-01, 9.37500000e-01],\n",
       "         [9.06862736e-01, 9.26470578e-01, 9.38235283e-01],\n",
       "         ...,\n",
       "         [0.00000000e+00, 0.00000000e+00, 0.00000000e+00],\n",
       "         [0.00000000e+00, 0.00000000e+00, 0.00000000e+00],\n",
       "         [0.00000000e+00, 0.00000000e+00, 0.00000000e+00]],\n",
       "\n",
       "        [[9.00980413e-01, 9.20588255e-01, 9.32352960e-01],\n",
       "         [9.09803927e-01, 9.29411769e-01, 9.41176474e-01],\n",
       "         [9.09803927e-01, 9.29411769e-01, 9.41176474e-01],\n",
       "         ...,\n",
       "         [0.00000000e+00, 0.00000000e+00, 0.00000000e+00],\n",
       "         [0.00000000e+00, 0.00000000e+00, 0.00000000e+00],\n",
       "         [0.00000000e+00, 0.00000000e+00, 0.00000000e+00]],\n",
       "\n",
       "        ...,\n",
       "\n",
       "        [[8.10784340e-01, 8.12745094e-01, 7.20588207e-01],\n",
       "         [8.10784340e-01, 8.12745094e-01, 7.20588207e-01],\n",
       "         [8.10784340e-01, 8.12745094e-01, 7.20588207e-01],\n",
       "         ...,\n",
       "         [0.00000000e+00, 0.00000000e+00, 0.00000000e+00],\n",
       "         [0.00000000e+00, 0.00000000e+00, 0.00000000e+00],\n",
       "         [0.00000000e+00, 0.00000000e+00, 0.00000000e+00]],\n",
       "\n",
       "        [[8.11764717e-01, 8.22549045e-01, 7.39215672e-01],\n",
       "         [8.11764717e-01, 8.22549045e-01, 7.39215672e-01],\n",
       "         [8.11764717e-01, 8.22549045e-01, 7.39215672e-01],\n",
       "         ...,\n",
       "         [0.00000000e+00, 0.00000000e+00, 0.00000000e+00],\n",
       "         [0.00000000e+00, 0.00000000e+00, 0.00000000e+00],\n",
       "         [0.00000000e+00, 0.00000000e+00, 0.00000000e+00]],\n",
       "\n",
       "        [[8.16666663e-01, 8.28431368e-01, 7.46078432e-01],\n",
       "         [8.20588231e-01, 8.32352936e-01, 7.50000000e-01],\n",
       "         [8.20588231e-01, 8.32352936e-01, 7.50000000e-01],\n",
       "         ...,\n",
       "         [0.00000000e+00, 0.00000000e+00, 0.00000000e+00],\n",
       "         [0.00000000e+00, 0.00000000e+00, 0.00000000e+00],\n",
       "         [0.00000000e+00, 0.00000000e+00, 0.00000000e+00]]],\n",
       "\n",
       "\n",
       "       [[[4.39215690e-01, 4.47058827e-01, 4.43137258e-01],\n",
       "         [4.43137258e-01, 4.50980395e-01, 4.47058827e-01],\n",
       "         [4.48039204e-01, 4.55882341e-01, 4.51960772e-01],\n",
       "         ...,\n",
       "         [5.28431356e-01, 5.75490177e-01, 5.59803903e-01],\n",
       "         [5.21568656e-01, 5.88235319e-01, 5.64705908e-01],\n",
       "         [5.34313738e-01, 5.83333313e-01, 5.56862772e-01]],\n",
       "\n",
       "        [[4.40196067e-01, 4.48039204e-01, 4.44117635e-01],\n",
       "         [4.46078420e-01, 4.53921556e-01, 4.49999988e-01],\n",
       "         [4.48039204e-01, 4.55882341e-01, 4.51960772e-01],\n",
       "         ...,\n",
       "         [5.29411793e-01, 5.76470613e-01, 5.60784340e-01],\n",
       "         [5.13725519e-01, 5.78431368e-01, 5.55882335e-01],\n",
       "         [5.31372547e-01, 5.78431368e-01, 5.62745094e-01]],\n",
       "\n",
       "        [[4.36274499e-01, 4.44117635e-01, 4.40196067e-01],\n",
       "         [4.36274499e-01, 4.44117635e-01, 4.40196067e-01],\n",
       "         [4.40196067e-01, 4.48039204e-01, 4.44117635e-01],\n",
       "         ...,\n",
       "         [5.25490224e-01, 5.72549045e-01, 5.56862772e-01],\n",
       "         [5.27450979e-01, 5.71568608e-01, 5.55882335e-01],\n",
       "         [5.31372547e-01, 5.68627477e-01, 5.55882335e-01]],\n",
       "\n",
       "        ...,\n",
       "\n",
       "        [[2.39215687e-01, 2.48039216e-01, 2.26470590e-01],\n",
       "         [2.50000000e-01, 2.47058824e-01, 2.24509805e-01],\n",
       "         [2.50980407e-01, 2.47058824e-01, 2.30392158e-01],\n",
       "         ...,\n",
       "         [2.46078432e-01, 2.46078432e-01, 2.46078432e-01],\n",
       "         [2.50980407e-01, 2.50980407e-01, 2.50980407e-01],\n",
       "         [2.50980407e-01, 2.50980407e-01, 2.50980407e-01]],\n",
       "\n",
       "        [[2.38235295e-01, 2.44117647e-01, 2.19607845e-01],\n",
       "         [2.51960784e-01, 2.43137255e-01, 2.08823532e-01],\n",
       "         [2.53921568e-01, 2.52941191e-01, 2.24509805e-01],\n",
       "         ...,\n",
       "         [2.39215687e-01, 2.39215687e-01, 2.39215687e-01],\n",
       "         [2.47058824e-01, 2.47058824e-01, 2.47058824e-01],\n",
       "         [2.47058824e-01, 2.47058824e-01, 2.47058824e-01]],\n",
       "\n",
       "        [[2.42156863e-01, 2.46078432e-01, 2.23529413e-01],\n",
       "         [2.58823544e-01, 2.47058824e-01, 2.19607845e-01],\n",
       "         [2.50000000e-01, 2.46078432e-01, 2.26470590e-01],\n",
       "         ...,\n",
       "         [2.39215687e-01, 2.39215687e-01, 2.39215687e-01],\n",
       "         [2.39215687e-01, 2.39215687e-01, 2.39215687e-01],\n",
       "         [2.43137255e-01, 2.43137255e-01, 2.43137255e-01]]],\n",
       "\n",
       "\n",
       "       [[[3.80392164e-01, 4.15686280e-01, 4.11764711e-01],\n",
       "         [3.77450973e-01, 4.20588225e-01, 4.04901952e-01],\n",
       "         [3.73529404e-01, 4.16666657e-01, 4.00980383e-01],\n",
       "         ...,\n",
       "         [7.33333349e-01, 6.47058845e-01, 6.57843113e-01],\n",
       "         [7.31372535e-01, 6.52941167e-01, 6.49019599e-01],\n",
       "         [7.24509776e-01, 6.65686250e-01, 6.46078408e-01]],\n",
       "\n",
       "        [[3.82352948e-01, 4.18627441e-01, 4.14705873e-01],\n",
       "         [3.74509811e-01, 4.17647064e-01, 4.01960790e-01],\n",
       "         [3.72549027e-01, 4.15686280e-01, 4.00000006e-01],\n",
       "         ...,\n",
       "         [7.53921568e-01, 6.76470578e-01, 6.84313715e-01],\n",
       "         [7.34313726e-01, 6.63725495e-01, 6.63725495e-01],\n",
       "         [7.33333349e-01, 6.78431392e-01, 6.68627441e-01]],\n",
       "\n",
       "        [[3.73529404e-01, 4.15686280e-01, 4.02941167e-01],\n",
       "         [3.77450973e-01, 4.20588225e-01, 4.04901952e-01],\n",
       "         [3.69607836e-01, 4.15686280e-01, 4.00000006e-01],\n",
       "         ...,\n",
       "         [7.47058809e-01, 6.72549009e-01, 6.80392146e-01],\n",
       "         [7.38235295e-01, 6.67647064e-01, 6.67647064e-01],\n",
       "         [7.32352912e-01, 6.71568632e-01, 6.70588255e-01]],\n",
       "\n",
       "        ...,\n",
       "\n",
       "        [[2.73529410e-01, 2.77450979e-01, 2.54901975e-01],\n",
       "         [2.66666681e-01, 2.77450979e-01, 2.51960784e-01],\n",
       "         [2.74509817e-01, 2.82352954e-01, 2.62745112e-01],\n",
       "         ...,\n",
       "         [3.56862754e-01, 2.48039216e-01, 2.70588249e-01],\n",
       "         [3.45098048e-01, 2.53921568e-01, 2.67647058e-01],\n",
       "         [3.46078426e-01, 2.61764705e-01, 2.82352954e-01]],\n",
       "\n",
       "        [[2.66666681e-01, 2.67647058e-01, 2.56862760e-01],\n",
       "         [2.63725489e-01, 2.71568626e-01, 2.57843137e-01],\n",
       "         [2.73529410e-01, 2.81372547e-01, 2.67647058e-01],\n",
       "         ...,\n",
       "         [4.04901952e-01, 2.77450979e-01, 3.11764717e-01],\n",
       "         [3.99019599e-01, 2.79411763e-01, 3.01960796e-01],\n",
       "         [4.08823520e-01, 2.97058821e-01, 3.18627447e-01]],\n",
       "\n",
       "        [[2.58823544e-01, 2.66666681e-01, 2.54901975e-01],\n",
       "         [2.59803921e-01, 2.67647058e-01, 2.63725489e-01],\n",
       "         [2.67647058e-01, 2.75490195e-01, 2.63725489e-01],\n",
       "         ...,\n",
       "         [4.05882359e-01, 2.76470602e-01, 3.03921580e-01],\n",
       "         [4.13725495e-01, 2.88235307e-01, 3.05882365e-01],\n",
       "         [4.17647064e-01, 3.00000012e-01, 2.98039228e-01]]],\n",
       "\n",
       "\n",
       "       ...,\n",
       "\n",
       "\n",
       "       [[[9.84313726e-01, 9.92156863e-01, 9.88235295e-01],\n",
       "         [9.84313726e-01, 9.92156863e-01, 9.88235295e-01],\n",
       "         [9.84313726e-01, 9.92156863e-01, 9.88235295e-01],\n",
       "         ...,\n",
       "         [9.88235295e-01, 9.88235295e-01, 9.88235295e-01],\n",
       "         [9.88235295e-01, 9.88235295e-01, 9.88235295e-01],\n",
       "         [9.88235295e-01, 9.88235295e-01, 9.88235295e-01]],\n",
       "\n",
       "        [[9.84313726e-01, 9.92156863e-01, 9.88235295e-01],\n",
       "         [9.84313726e-01, 9.92156863e-01, 9.88235295e-01],\n",
       "         [9.84313726e-01, 9.92156863e-01, 9.88235295e-01],\n",
       "         ...,\n",
       "         [9.88235295e-01, 9.88235295e-01, 9.88235295e-01],\n",
       "         [9.88235295e-01, 9.88235295e-01, 9.88235295e-01],\n",
       "         [9.88235295e-01, 9.88235295e-01, 9.88235295e-01]],\n",
       "\n",
       "        [[9.84313726e-01, 9.92156863e-01, 9.88235295e-01],\n",
       "         [9.84313726e-01, 9.92156863e-01, 9.88235295e-01],\n",
       "         [9.84313726e-01, 9.92156863e-01, 9.88235295e-01],\n",
       "         ...,\n",
       "         [9.88235295e-01, 9.88235295e-01, 9.88235295e-01],\n",
       "         [9.88235295e-01, 9.88235295e-01, 9.88235295e-01],\n",
       "         [9.88235295e-01, 9.88235295e-01, 9.88235295e-01]],\n",
       "\n",
       "        ...,\n",
       "\n",
       "        [[7.48039186e-01, 7.81372547e-01, 8.15686285e-01],\n",
       "         [6.79901958e-01, 7.06617653e-01, 7.44117618e-01],\n",
       "         [6.56862736e-01, 6.74019635e-01, 7.14460790e-01],\n",
       "         ...,\n",
       "         [6.27451017e-02, 1.03921570e-01, 1.28431380e-01],\n",
       "         [4.31372561e-02, 8.43137279e-02, 1.08823530e-01],\n",
       "         [3.72549035e-02, 7.84313753e-02, 1.02941178e-01]],\n",
       "\n",
       "        [[7.34558821e-01, 7.57107854e-01, 7.68872559e-01],\n",
       "         [7.54411757e-01, 7.71078408e-01, 7.83823550e-01],\n",
       "         [8.54901969e-01, 8.67892146e-01, 8.87254894e-01],\n",
       "         ...,\n",
       "         [7.25490227e-02, 1.01960786e-01, 1.38235301e-01],\n",
       "         [5.80882356e-02, 8.74999985e-02, 1.23774506e-01],\n",
       "         [3.94607857e-02, 6.88725486e-02, 1.05147056e-01]],\n",
       "\n",
       "        [[9.67647076e-01, 9.75490212e-01, 9.69607830e-01],\n",
       "         [9.63480413e-01, 9.70343113e-01, 9.69362736e-01],\n",
       "         [9.82352912e-01, 9.86274481e-01, 9.94117618e-01],\n",
       "         ...,\n",
       "         [6.27451017e-02, 9.01960805e-02, 1.29411772e-01],\n",
       "         [5.88235296e-02, 8.62745121e-02, 1.25490203e-01],\n",
       "         [3.72549035e-02, 6.47058859e-02, 1.03921570e-01]]],\n",
       "\n",
       "\n",
       "       [[[6.90196097e-01, 7.29411781e-01, 7.25490212e-01],\n",
       "         [6.90196097e-01, 7.29411781e-01, 7.25490212e-01],\n",
       "         [6.90196097e-01, 7.29411781e-01, 7.25490212e-01],\n",
       "         ...,\n",
       "         [6.45343125e-01, 6.84558809e-01, 6.80637240e-01],\n",
       "         [6.43137276e-01, 6.82352960e-01, 6.78431392e-01],\n",
       "         [6.42156839e-01, 6.81372523e-01, 6.77450955e-01]],\n",
       "\n",
       "        [[6.90196097e-01, 7.29411781e-01, 7.25490212e-01],\n",
       "         [6.90196097e-01, 7.29411781e-01, 7.25490212e-01],\n",
       "         [6.90196097e-01, 7.29411781e-01, 7.25490212e-01],\n",
       "         ...,\n",
       "         [6.43137276e-01, 6.82352960e-01, 6.78431392e-01],\n",
       "         [6.43137276e-01, 6.82352960e-01, 6.78431392e-01],\n",
       "         [6.46078408e-01, 6.85294092e-01, 6.81372523e-01]],\n",
       "\n",
       "        [[6.90196097e-01, 7.29411781e-01, 7.25490212e-01],\n",
       "         [6.90196097e-01, 7.29411781e-01, 7.25490212e-01],\n",
       "         [6.90196097e-01, 7.29411781e-01, 7.25490212e-01],\n",
       "         ...,\n",
       "         [6.43872559e-01, 6.83088243e-01, 6.79166675e-01],\n",
       "         [6.47058845e-01, 6.86274529e-01, 6.82352960e-01],\n",
       "         [6.47058845e-01, 6.86274529e-01, 6.82352960e-01]],\n",
       "\n",
       "        ...,\n",
       "\n",
       "        [[8.62745121e-02, 1.21568628e-01, 1.41176477e-01],\n",
       "         [7.74509832e-02, 1.20588236e-01, 1.36274517e-01],\n",
       "         [6.86274543e-02, 1.20588236e-01, 1.33333340e-01],\n",
       "         ...,\n",
       "         [3.92156877e-02, 9.80392173e-02, 1.09803922e-01],\n",
       "         [3.92156877e-02, 9.80392173e-02, 1.09803922e-01],\n",
       "         [3.92156877e-02, 9.80392173e-02, 1.09803922e-01]],\n",
       "\n",
       "        [[8.62745121e-02, 1.21568628e-01, 1.41176477e-01],\n",
       "         [7.74509832e-02, 1.20588236e-01, 1.36274517e-01],\n",
       "         [6.86274543e-02, 1.20588236e-01, 1.33333340e-01],\n",
       "         ...,\n",
       "         [3.92156877e-02, 9.80392173e-02, 1.09803922e-01],\n",
       "         [3.92156877e-02, 9.80392173e-02, 1.09803922e-01],\n",
       "         [3.92156877e-02, 9.80392173e-02, 1.09803922e-01]],\n",
       "\n",
       "        [[8.03921595e-02, 1.15686275e-01, 1.35294124e-01],\n",
       "         [7.64705911e-02, 1.19607843e-01, 1.35294124e-01],\n",
       "         [6.69117644e-02, 1.18872546e-01, 1.31617650e-01],\n",
       "         ...,\n",
       "         [3.92156877e-02, 9.80392173e-02, 1.09803922e-01],\n",
       "         [3.92156877e-02, 9.80392173e-02, 1.09803922e-01],\n",
       "         [3.92156877e-02, 9.80392173e-02, 1.09803922e-01]]],\n",
       "\n",
       "\n",
       "       [[[2.94117653e-03, 7.35294132e-04, 0.00000000e+00],\n",
       "         [0.00000000e+00, 3.92156886e-03, 2.45098048e-03],\n",
       "         [0.00000000e+00, 4.65686293e-03, 2.45098048e-03],\n",
       "         ...,\n",
       "         [0.00000000e+00, 3.92156886e-03, 0.00000000e+00],\n",
       "         [0.00000000e+00, 3.92156886e-03, 0.00000000e+00],\n",
       "         [0.00000000e+00, 3.92156886e-03, 0.00000000e+00]],\n",
       "\n",
       "        [[1.17647061e-02, 0.00000000e+00, 0.00000000e+00],\n",
       "         [8.82352982e-03, 9.80392215e-04, 0.00000000e+00],\n",
       "         [7.35294120e-03, 2.45098054e-04, 1.47058826e-03],\n",
       "         ...,\n",
       "         [0.00000000e+00, 3.92156886e-03, 0.00000000e+00],\n",
       "         [0.00000000e+00, 3.92156886e-03, 0.00000000e+00],\n",
       "         [0.00000000e+00, 2.94117653e-03, 0.00000000e+00]],\n",
       "\n",
       "        [[0.00000000e+00, 0.00000000e+00, 1.96078443e-03],\n",
       "         [0.00000000e+00, 2.45098054e-04, 1.96078443e-03],\n",
       "         [0.00000000e+00, 9.80392215e-04, 1.96078443e-03],\n",
       "         ...,\n",
       "         [0.00000000e+00, 3.92156886e-03, 0.00000000e+00],\n",
       "         [0.00000000e+00, 1.71568629e-03, 0.00000000e+00],\n",
       "         [0.00000000e+00, 0.00000000e+00, 0.00000000e+00]],\n",
       "\n",
       "        ...,\n",
       "\n",
       "        [[3.46568614e-01, 3.93627465e-01, 4.56372559e-01],\n",
       "         [3.51960778e-01, 3.99019599e-01, 4.61764693e-01],\n",
       "         [3.32352936e-01, 3.79411757e-01, 4.42156851e-01],\n",
       "         ...,\n",
       "         [8.11274499e-02, 9.68137234e-02, 1.06617644e-01],\n",
       "         [5.83333336e-02, 7.40196109e-02, 7.20588267e-02],\n",
       "         [1.49509804e-02, 3.06372549e-02, 2.67156865e-02]],\n",
       "\n",
       "        [[3.36029410e-01, 3.83088231e-01, 4.45833325e-01],\n",
       "         [3.47794116e-01, 3.94852936e-01, 4.57598031e-01],\n",
       "         [3.21813732e-01, 3.68872553e-01, 4.31617647e-01],\n",
       "         ...,\n",
       "         [8.48039240e-02, 1.00490198e-01, 1.10294119e-01],\n",
       "         [7.67156854e-02, 9.24019590e-02, 9.04411748e-02],\n",
       "         [1.56862754e-02, 3.13725509e-02, 2.74509806e-02]],\n",
       "\n",
       "        [[2.49264702e-01, 2.96323538e-01, 3.59068632e-01],\n",
       "         [3.38480383e-01, 3.85539204e-01, 4.48284328e-01],\n",
       "         [3.32843125e-01, 3.79901975e-01, 4.42647070e-01],\n",
       "         ...,\n",
       "         [7.64705911e-02, 9.21568647e-02, 1.01960786e-01],\n",
       "         [1.00980394e-01, 1.16666667e-01, 1.14705883e-01],\n",
       "         [2.15686280e-02, 3.72549035e-02, 3.33333351e-02]]]],\n",
       "      dtype=float32)"
      ]
     },
     "execution_count": 83,
     "metadata": {},
     "output_type": "execute_result"
    }
   ],
   "source": [
    "test_vl"
   ]
  },
  {
   "cell_type": "code",
   "execution_count": 84,
   "metadata": {},
   "outputs": [
    {
     "data": {
      "text/plain": [
       "array([0., 1., 1., 0., 1., 0., 0., 1., 0., 0., 1., 0., 0., 0., 0., 0.],\n",
       "      dtype=float32)"
      ]
     },
     "execution_count": 84,
     "metadata": {},
     "output_type": "execute_result"
    }
   ],
   "source": [
    "y_true"
   ]
  },
  {
   "cell_type": "code",
   "execution_count": 85,
   "metadata": {},
   "outputs": [],
   "source": [
    "test_var = test_data.as_numpy_iterator().next()"
   ]
  },
  {
   "cell_type": "code",
   "execution_count": 86,
   "metadata": {},
   "outputs": [
    {
     "data": {
      "text/plain": [
       "16"
      ]
     },
     "execution_count": 86,
     "metadata": {},
     "output_type": "execute_result"
    }
   ],
   "source": [
    "len(test_var[0])"
   ]
  },
  {
   "cell_type": "code",
   "execution_count": 87,
   "metadata": {},
   "outputs": [
    {
     "data": {
      "text/plain": [
       "16"
      ]
     },
     "execution_count": 87,
     "metadata": {},
     "output_type": "execute_result"
    }
   ],
   "source": [
    "len(test_var[1])"
   ]
  },
  {
   "cell_type": "code",
   "execution_count": 88,
   "metadata": {},
   "outputs": [
    {
     "data": {
      "text/plain": [
       "16"
      ]
     },
     "execution_count": 88,
     "metadata": {},
     "output_type": "execute_result"
    }
   ],
   "source": [
    "len(test_var[2])"
   ]
  },
  {
   "cell_type": "code",
   "execution_count": 89,
   "metadata": {},
   "outputs": [
    {
     "data": {
      "text/plain": [
       "array([[5.1118286e-07],\n",
       "       [1.0000000e+00],\n",
       "       [9.9914324e-01],\n",
       "       [1.0367334e-09],\n",
       "       [1.0000000e+00],\n",
       "       [1.9875988e-04],\n",
       "       [6.3269850e-05],\n",
       "       [1.0000000e+00],\n",
       "       [1.0115578e-08],\n",
       "       [1.9707771e-09],\n",
       "       [9.9999928e-01],\n",
       "       [8.6272344e-08],\n",
       "       [1.7637977e-10],\n",
       "       [6.3768280e-06],\n",
       "       [1.8497667e-10],\n",
       "       [1.5152117e-09]], dtype=float32)"
      ]
     },
     "execution_count": 89,
     "metadata": {},
     "output_type": "execute_result"
    }
   ],
   "source": [
    "# Make predictions\n",
    "\n",
    "y_pred = siamese_model.predict([test_input, test_vl])\n",
    "y_pred"
   ]
  },
  {
   "cell_type": "code",
   "execution_count": 90,
   "metadata": {},
   "outputs": [
    {
     "data": {
      "text/plain": [
       "[0, 1, 1, 0, 1, 0, 0, 1, 0, 0, 1, 0, 0, 0, 0, 0]"
      ]
     },
     "execution_count": 90,
     "metadata": {},
     "output_type": "execute_result"
    }
   ],
   "source": [
    "# post processing the results\n",
    "[1 if prediction > 0.5 else 0 for prediction in y_pred]"
   ]
  },
  {
   "attachments": {},
   "cell_type": "markdown",
   "metadata": {},
   "source": [
    "### Calculate Metrics - Recall, Precision"
   ]
  },
  {
   "cell_type": "code",
   "execution_count": 91,
   "metadata": {},
   "outputs": [
    {
     "data": {
      "text/plain": [
       "1.0"
      ]
     },
     "execution_count": 91,
     "metadata": {},
     "output_type": "execute_result"
    }
   ],
   "source": [
    "# recall metric object\n",
    "recall = Recall()\n",
    "\n",
    "# calculate recall\n",
    "recall.update_state(y_true, y_pred)\n",
    "\n",
    "# return the recall value\n",
    "recall.result().numpy()"
   ]
  },
  {
   "cell_type": "code",
   "execution_count": 92,
   "metadata": {},
   "outputs": [
    {
     "data": {
      "text/plain": [
       "1.0"
      ]
     },
     "execution_count": 92,
     "metadata": {},
     "output_type": "execute_result"
    }
   ],
   "source": [
    "# precision metric object\n",
    "precision = Precision()\n",
    "\n",
    "# calculate precision\n",
    "precision.update_state(y_true, y_pred)\n",
    "\n",
    "# return the precision value\n",
    "precision.result().numpy()"
   ]
  },
  {
   "attachments": {},
   "cell_type": "markdown",
   "metadata": {},
   "source": [
    "### Visualize Results"
   ]
  },
  {
   "cell_type": "code",
   "execution_count": 93,
   "metadata": {},
   "outputs": [
    {
     "data": {
      "image/png": "[encoded data removed]",
      "text/plain": [
       "<Figure size 1000x800 with 2 Axes>"
      ]
     },
     "metadata": {},
     "output_type": "display_data"
    }
   ],
   "source": [
    "# set the plot size\n",
    "plt.figure(figsize=(10, 8))\n",
    "\n",
    "# set 1st subplot - row, column, index\n",
    "plt.subplot(1, 2, 1)\n",
    "plt.title(\"Input Image\")\n",
    "plt.imshow(test_input[0])\n",
    "\n",
    "# set 2nd subplot - row, column, index\n",
    "plt.subplot(1, 2, 2)\n",
    "plt.title(\"validation Image\")\n",
    "plt.imshow(test_vl[0])\n",
    "plt.show()"
   ]
  },
  {
   "attachments": {},
   "cell_type": "markdown",
   "metadata": {},
   "source": [
    "### Save Model"
   ]
  },
  {
   "cell_type": "code",
   "execution_count": 109,
   "metadata": {},
   "outputs": [
    {
     "name": "stdout",
     "output_type": "stream",
     "text": [
      "WARNING:tensorflow:Compiled the loaded model, but the compiled metrics have yet to be built. `model.compile_metrics` will be empty until you train or evaluate the model.\n",
      "INFO:tensorflow:Assets written to: siamese_model\\assets\n"
     ]
    }
   ],
   "source": [
    "# save the weights of the model\n",
    "siamese_model.save(\"siamese_model\")"
   ]
  },
  {
   "cell_type": "code",
   "execution_count": 84,
   "metadata": {},
   "outputs": [
    {
     "ename": "IndexError",
     "evalue": "list index out of range",
     "output_type": "error",
     "traceback": [
      "\u001b[1;31m---------------------------------------------------------------------------\u001b[0m",
      "\u001b[1;31mIndexError\u001b[0m                                Traceback (most recent call last)",
      "Cell \u001b[1;32mIn[84], line 3\u001b[0m\n\u001b[0;32m      1\u001b[0m \u001b[39m# Reloding the model\u001b[39;00m\n\u001b[1;32m----> 3\u001b[0m reconstructed_model \u001b[39m=\u001b[39m tf\u001b[39m.\u001b[39;49mkeras\u001b[39m.\u001b[39;49mmodels\u001b[39m.\u001b[39;49mload_model(\u001b[39m\"\u001b[39;49m\u001b[39msiamese_model.h5\u001b[39;49m\u001b[39m\"\u001b[39;49m,\n\u001b[0;32m      4\u001b[0m                                   custom_objects \u001b[39m=\u001b[39;49m {\u001b[39m\"\u001b[39;49m\u001b[39mL1Dist\u001b[39;49m\u001b[39m\"\u001b[39;49m: L1Dist})\n",
      "File \u001b[1;32mc:\\Users\\Admin\\anaconda3\\envs\\nick_facial_recog\\lib\\site-packages\\keras\\utils\\traceback_utils.py:70\u001b[0m, in \u001b[0;36mfilter_traceback.<locals>.error_handler\u001b[1;34m(*args, **kwargs)\u001b[0m\n\u001b[0;32m     67\u001b[0m     filtered_tb \u001b[39m=\u001b[39m _process_traceback_frames(e\u001b[39m.\u001b[39m__traceback__)\n\u001b[0;32m     68\u001b[0m     \u001b[39m# To get the full stack trace, call:\u001b[39;00m\n\u001b[0;32m     69\u001b[0m     \u001b[39m# `tf.debugging.disable_traceback_filtering()`\u001b[39;00m\n\u001b[1;32m---> 70\u001b[0m     \u001b[39mraise\u001b[39;00m e\u001b[39m.\u001b[39mwith_traceback(filtered_tb) \u001b[39mfrom\u001b[39;00m \u001b[39mNone\u001b[39;00m\n\u001b[0;32m     71\u001b[0m \u001b[39mfinally\u001b[39;00m:\n\u001b[0;32m     72\u001b[0m     \u001b[39mdel\u001b[39;00m filtered_tb\n",
      "File \u001b[1;32mc:\\Users\\Admin\\anaconda3\\envs\\nick_facial_recog\\lib\\site-packages\\keras\\engine\\functional.py:1392\u001b[0m, in \u001b[0;36mreconstruct_from_config.<locals>.process_node\u001b[1;34m(layer, node_data)\u001b[0m\n\u001b[0;32m   1390\u001b[0m     \u001b[39mif\u001b[39;00m inbound_node_index \u001b[39mis\u001b[39;00m \u001b[39mNone\u001b[39;00m:\n\u001b[0;32m   1391\u001b[0m         \u001b[39mreturn\u001b[39;00m \u001b[39mFalse\u001b[39;00m\n\u001b[1;32m-> 1392\u001b[0m     inbound_node \u001b[39m=\u001b[39m inbound_layer\u001b[39m.\u001b[39;49m_inbound_nodes[inbound_node_index]\n\u001b[0;32m   1393\u001b[0m     input_tensors\u001b[39m.\u001b[39mappend(\n\u001b[0;32m   1394\u001b[0m         tf\u001b[39m.\u001b[39mnest\u001b[39m.\u001b[39mflatten(inbound_node\u001b[39m.\u001b[39moutputs)[inbound_tensor_index]\n\u001b[0;32m   1395\u001b[0m     )\n\u001b[0;32m   1396\u001b[0m \u001b[39melse\u001b[39;00m:\n\u001b[0;32m   1397\u001b[0m     \u001b[39m# We received a constant w/ no Keras history attached,\u001b[39;00m\n\u001b[0;32m   1398\u001b[0m     \u001b[39m# which means it is a constant tensor input.\u001b[39;00m\n\u001b[0;32m   1399\u001b[0m     \u001b[39m# Input is a constant value.\u001b[39;00m\n\u001b[0;32m   1400\u001b[0m     \u001b[39m# Format = [_CONSTANT_VALUE, -1, const_val, kwargs]\u001b[39;00m\n",
      "\u001b[1;31mIndexError\u001b[0m: list index out of range"
     ]
    }
   ],
   "source": [
    "# Reloding the model\n",
    "\n",
    "reconstructed_model = tf.keras.models.load_model(\"siamese_model.h5\",\n",
    "                                  custom_objects = {\"L1Dist\": L1Dist})"
   ]
  },
  {
   "cell_type": "markdown",
   "metadata": {},
   "source": [
    "# Real Time Testing"
   ]
  },
  {
   "cell_type": "markdown",
   "metadata": {},
   "source": [
    "#### Verification Function"
   ]
  },
  {
   "cell_type": "code",
   "execution_count": null,
   "metadata": {},
   "outputs": [],
   "source": []
  },
  {
   "cell_type": "code",
   "execution_count": 145,
   "metadata": {},
   "outputs": [
    {
     "data": {
      "text/plain": [
       "'application_data\\\\verification_images'"
      ]
     },
     "execution_count": 145,
     "metadata": {},
     "output_type": "execute_result"
    }
   ],
   "source": [
    "# os.path.join(\"application_data\", \"verification_images\")"
   ]
  },
  {
   "cell_type": "code",
   "execution_count": 146,
   "metadata": {},
   "outputs": [
    {
     "data": {
      "text/plain": [
       "['1bd3fe45-321a-11ed-a7cb-509a4cb51153.jpg',\n",
       " '1c22e067-321a-11ed-a091-509a4cb51153.jpg',\n",
       " '1c49d137-321a-11ed-97fb-509a4cb51153.jpg',\n",
       " '1c93ed2d-321a-11ed-b195-509a4cb51153.jpg',\n",
       " '1d1ba3dc-321a-11ed-98d7-509a4cb51153.jpg',\n",
       " '1d243862-321a-11ed-9127-509a4cb51153.jpg',\n",
       " '1d562ab4-321a-11ed-aae2-509a4cb51153.jpg',\n",
       " '2b068937-321a-11ed-9c26-509a4cb51153.jpg',\n",
       " '2b416a81-321a-11ed-985d-509a4cb51153.jpg',\n",
       " '2b655b34-321a-11ed-8e83-509a4cb51153.jpg',\n",
       " '2baab1d2-321a-11ed-a273-509a4cb51153.jpg',\n",
       " '2bd8bdcb-321a-11ed-863a-509a4cb51153.jpg',\n",
       " '3b7dd270-321a-11ed-8d90-509a4cb51153.jpg',\n",
       " '4a05567a-321a-11ed-9825-509a4cb51153.jpg',\n",
       " '4a09dd78-321a-11ed-ad88-509a4cb51153.jpg',\n",
       " '4a64c368-321a-11ed-8088-509a4cb51153.jpg',\n",
       " '4a6a630f-321a-11ed-966b-509a4cb51153.jpg',\n",
       " '4a8a85d8-321a-11ed-8f68-509a4cb51153.jpg',\n",
       " '4aae1a10-321a-11ed-b1ee-509a4cb51153.jpg',\n",
       " '4af7f03e-321a-11ed-890e-509a4cb51153.jpg',\n",
       " '4b313106-321a-11ed-be7b-509a4cb51153.jpg',\n",
       " '4b481821-321a-11ed-aca9-509a4cb51153.jpg',\n",
       " '4b5132d4-321a-11ed-86bc-509a4cb51153.jpg',\n",
       " '4b563918-321a-11ed-bbca-509a4cb51153.jpg',\n",
       " '4b885e54-321a-11ed-aa7f-509a4cb51153.jpg',\n",
       " '4badc92f-321a-11ed-bd85-509a4cb51153.jpg',\n",
       " '4bcc283d-321a-11ed-bf3d-509a4cb51153.jpg',\n",
       " '4bd06d46-321a-11ed-8500-509a4cb51153.jpg',\n",
       " '4bde01dd-321a-11ed-8fe2-509a4cb51153.jpg',\n",
       " '4c0c1bf5-321a-11ed-bceb-509a4cb51153.jpg',\n",
       " '4c28286a-321a-11ed-8479-509a4cb51153.jpg',\n",
       " '4c55854b-321a-11ed-ba6e-509a4cb51153.jpg',\n",
       " '4c59930a-321a-11ed-815b-509a4cb51153.jpg',\n",
       " '4c5e0de9-321a-11ed-b92f-509a4cb51153.jpg',\n",
       " '4c627232-321a-11ed-bb61-509a4cb51153.jpg',\n",
       " '4c8fcd62-321a-11ed-9340-509a4cb51153.jpg',\n",
       " '5a8937eb-321a-11ed-bd06-509a4cb51153.jpg',\n",
       " '5ab5f0e8-321a-11ed-8488-509a4cb51153.jpg',\n",
       " '5ad6fa00-321a-11ed-888a-509a4cb51153.jpg',\n",
       " '5ae7a704-321a-11ed-9adf-509a4cb51153.jpg',\n",
       " '5b03e1de-321a-11ed-bce7-509a4cb51153.jpg',\n",
       " '5b22f1cb-321a-11ed-b156-509a4cb51153.jpg',\n",
       " '5b27c2d7-321a-11ed-b3a1-509a4cb51153.jpg',\n",
       " '5b66dd15-321a-11ed-a16b-509a4cb51153.jpg',\n",
       " '5b99277c-321a-11ed-873f-509a4cb51153.jpg',\n",
       " '5b9e2d23-321a-11ed-bb99-509a4cb51153.jpg',\n",
       " '5bc4161a-321a-11ed-9912-509a4cb51153.jpg',\n",
       " '5bd251a6-321a-11ed-8f27-509a4cb51153.jpg',\n",
       " '5bde65ae-321a-11ed-89a1-509a4cb51153.jpg',\n",
       " '5bf19ca3-321a-11ed-8739-509a4cb51153.jpg']"
      ]
     },
     "execution_count": 146,
     "metadata": {},
     "output_type": "execute_result"
    }
   ],
   "source": [
    "# list all the images in the folder\n",
    "# os.listdir(os.path.join(\"application_data\", \"verification_images\"))"
   ]
  },
  {
   "cell_type": "code",
   "execution_count": 2,
   "metadata": {},
   "outputs": [],
   "source": [
    "# detection threshold: Metric above which a prediction is considered as positive\n",
    "# verifiacation threshold: Propostion of positive predictions / total positive sample\n",
    "def verify(model, detection_threshold, verification_threshold):\n",
    "    results_lst = []\n",
    "    \n",
    "    for image in os.listdir(os.path.join(\"application_data\", \"verification_images\")):\n",
    "        input_img = preprocess(os.path.join(\"application_data\", \"input_image\", \"input_image.jpg\"))\n",
    "        validation_img = preprocess(os.path.join(\"application_data\", \"verification_images\", image))\n",
    "        \n",
    "        result = model.predict(list(np.expand_dims([input_img, validation_img], axis=1)))\n",
    "        results_lst.append(result)\n",
    "    \n",
    "    # detection threshold\n",
    "    detection = np.sum(np.array(results_lst) > detection_threshold)\n",
    "    # verification threshold\n",
    "    verification = detection / len(os.listdir(os.path.join(\"application_data\", \"verification_images\")))\n",
    "    verified = verification > verification_threshold\n",
    "    \n",
    "    return results_lst, verified"
   ]
  },
  {
   "cell_type": "markdown",
   "metadata": {},
   "source": [
    "#### OpecnCV Real Time Verification"
   ]
  },
  {
   "cell_type": "code",
   "execution_count": 3,
   "metadata": {},
   "outputs": [
    {
     "ename": "NameError",
     "evalue": "name 'cv2' is not defined",
     "output_type": "error",
     "traceback": [
      "\u001b[1;31m---------------------------------------------------------------------------\u001b[0m",
      "\u001b[1;31mNameError\u001b[0m                                 Traceback (most recent call last)",
      "Cell \u001b[1;32mIn[3], line 1\u001b[0m\n\u001b[1;32m----> 1\u001b[0m cap \u001b[39m=\u001b[39m cv2\u001b[39m.\u001b[39mVideoCapture(\u001b[39m0\u001b[39m)\n\u001b[0;32m      2\u001b[0m \u001b[39mwhile\u001b[39;00m cap\u001b[39m.\u001b[39misOpened():\n\u001b[0;32m      3\u001b[0m     ret, frame \u001b[39m=\u001b[39m cap\u001b[39m.\u001b[39mread()\n",
      "\u001b[1;31mNameError\u001b[0m: name 'cv2' is not defined"
     ]
    }
   ],
   "source": [
    "cap = cv2.VideoCapture(0)\n",
    "while cap.isOpened():\n",
    "    ret, frame = cap.read()\n",
    "    # resize the frame to 250 x 250\n",
    "    frame = frame[120:120 + 250, 200:200 + 250,:]\n",
    "    if ret:\n",
    "        cv2.imshow(\"Verification\", frame)\n",
    "        \n",
    "        # Verification trigger\n",
    "        if cv2.waitKey(1) & 0xFF == ord(\"v\"):\n",
    "            # save input image to application_data/input_image folder\n",
    "            cv2.imwrite(os.path.join(\"application_data\", \"input_image\", \"input_image.jpg\"), frame)\n",
    "            \n",
    "            # Perform verification\n",
    "            results, verified = verify(siamese_model, 0.5, 0.5)\n",
    "            print(f\"Verified status: {verified}\")\n",
    "            \n",
    "        \n",
    "        if cv2.waitKey(1) & 0xFF == ord(\"q\"):\n",
    "            break\n",
    "\n",
    "cap.release()\n",
    "cv2.destroyAllWindows()"
   ]
  },
  {
   "cell_type": "code",
   "execution_count": null,
   "metadata": {},
   "outputs": [],
   "source": []
  },
  {
   "cell_type": "code",
   "execution_count": null,
   "metadata": {},
   "outputs": [],
   "source": []
  },
  {
   "cell_type": "code",
   "execution_count": null,
   "metadata": {},
   "outputs": [],
   "source": []
  },
  {
   "cell_type": "code",
   "execution_count": null,
   "metadata": {},
   "outputs": [],
   "source": []
  },
  {
   "cell_type": "code",
   "execution_count": null,
   "metadata": {},
   "outputs": [],
   "source": []
  },
  {
   "cell_type": "markdown",
   "metadata": {},
   "source": [
    "# References\n",
    "\n",
    "https://medium.com/analytics-vidhya/solution-to-tensorflow-2-not-using-gpu-119fb3e04daa\n",
    "\n",
    "https://stackoverflow.com/questions/63796936/what-is-the-proper-use-of-tensorflow-dataset-prefetch-and-cache-options\n",
    "\n",
    "https://stackoverflow.com/questions/59228816/what-do-the-tensorflow-datasets-functions-cache-and-prefetch-do"
   ]
  }
 ],
 "metadata": {
  "kernelspec": {
   "display_name": "Python 3.9.12 ('facial_recog_env')",
   "language": "python",
   "name": "python3"
  },
  "language_info": {
   "codemirror_mode": {
    "name": "ipython",
    "version": 3
   },
   "file_extension": ".py",
   "mimetype": "text/x-python",
   "name": "python",
   "nbconvert_exporter": "python",
   "pygments_lexer": "ipython3",
   "version": "3.9.0"
  },
  "latex_envs": {
   "LaTeX_envs_menu_present": true,
   "autoclose": false,
   "autocomplete": true,
   "bibliofile": "biblio.bib",
   "cite_by": "apalike",
   "current_citInitial": 1,
   "eqLabelWithNumbers": true,
   "eqNumInitial": 1,
   "hotkeys": {
    "equation": "Ctrl-E",
    "itemize": "Ctrl-I"
   },
   "labels_anchors": false,
   "latex_user_defs": false,
   "report_style_numbering": false,
   "user_envs_cfg": false
  },
  "toc": {
   "base_numbering": 1,
   "nav_menu": {},
   "number_sections": true,
   "sideBar": true,
   "skip_h1_title": false,
   "title_cell": "Table of Contents",
   "title_sidebar": "Contents",
   "toc_cell": false,
   "toc_position": {},
   "toc_section_display": true,
   "toc_window_display": false
  },
  "varInspector": {
   "cols": {
    "lenName": 16,
    "lenType": 16,
    "lenVar": 40
   },
   "kernels_config": {
    "python": {
     "delete_cmd_postfix": "",
     "delete_cmd_prefix": "del ",
     "library": "var_list.py",
     "varRefreshCmd": "print(var_dic_list())"
    },
    "r": {
     "delete_cmd_postfix": ") ",
     "delete_cmd_prefix": "rm(",
     "library": "var_list.r",
     "varRefreshCmd": "cat(var_dic_list()) "
    }
   },
   "types_to_exclude": [
    "module",
    "function",
    "builtin_function_or_method",
    "instance",
    "_Feature"
   ],
   "window_display": false
  },
  "vscode": {
   "interpreter": {
    "hash": "861abd88bc7cae9478d679ecef6d85e0c44cffffe573d020dc78457d2a402477"
   }
  }
 },
 "nbformat": 4,
 "nbformat_minor": 2
}
